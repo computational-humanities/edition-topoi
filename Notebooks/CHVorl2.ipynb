{
 "cells": [
  {
   "cell_type": "markdown",
   "metadata": {
    "button": false,
    "deletable": true,
    "new_sheet": false,
    "run_control": {
     "read_only": false
    }
   },
   "source": [
    "# Vorlesung 3: Gruppen von Individuen in Dataframes\n",
    "\n"
   ]
  },
  {
   "cell_type": "markdown",
   "metadata": {
    "button": false,
    "deletable": true,
    "new_sheet": false,
    "run_control": {
     "read_only": false
    }
   },
   "source": [
    "## Pandas Dataframes"
   ]
  },
  {
   "cell_type": "code",
   "execution_count": 1,
   "metadata": {
    "button": false,
    "collapsed": false,
    "deletable": true,
    "new_sheet": false,
    "run_control": {
     "read_only": false
    }
   },
   "outputs": [],
   "source": [
    "import json\n",
    "import pandas as pd\n",
    "import re"
   ]
  },
  {
   "cell_type": "code",
   "execution_count": 2,
   "metadata": {
    "button": false,
    "collapsed": false,
    "deletable": true,
    "new_sheet": false,
    "run_control": {
     "read_only": false
    }
   },
   "outputs": [],
   "source": [
    "# json.load erzeugt ein dictionary der JSON Daten\n",
    "with open('chapter1.json') as json_data:\n",
    "    PoleisRawData = json.load(json_data)"
   ]
  },
  {
   "cell_type": "code",
   "execution_count": 3,
   "metadata": {
    "button": false,
    "collapsed": false,
    "deletable": true,
    "new_sheet": false,
    "run_control": {
     "read_only": false
    }
   },
   "outputs": [
    {
     "data": {
      "text/plain": [
       "dict"
      ]
     },
     "execution_count": 3,
     "metadata": {},
     "output_type": "execute_result"
    }
   ],
   "source": [
    "# Abfrage des Datentyps\n",
    "type(PoleisRawData)"
   ]
  },
  {
   "cell_type": "code",
   "execution_count": 4,
   "metadata": {
    "button": false,
    "collapsed": false,
    "deletable": true,
    "new_sheet": false,
    "run_control": {
     "read_only": false
    }
   },
   "outputs": [
    {
     "data": {
      "text/plain": [
       "['37. Morgantina ',\n",
       " '42. Petra ',\n",
       " '22. Herbes(s)os ',\n",
       " '28. Kamarina ',\n",
       " '17. Gela ',\n",
       " '7. Agyrion ',\n",
       " '36. Megara ',\n",
       " '31. Kentoripa ',\n",
       " '21. Herakleia 2 ',\n",
       " '43. Piakos ',\n",
       " '48. Tauromenion ',\n",
       " '29. Kasmenai ',\n",
       " '9. Akragas ',\n",
       " '35. *Longane ',\n",
       " '40. Nakone ',\n",
       " '20. Herakleia 1',\n",
       " '49. Tyndaris ',\n",
       " '32. Kephaloidion ',\n",
       " '12. Alontion ',\n",
       " '19. Henna ',\n",
       " '23. Herbita ',\n",
       " '16. Galeria ',\n",
       " '33. Leontinoi ',\n",
       " '45. (Sileraioi)',\n",
       " '6. Adranon ',\n",
       " '34. Lipara ',\n",
       " '47. Syrakousai ',\n",
       " '38. Mylai ',\n",
       " '39. Mytistratos ',\n",
       " '11. Alaisa ',\n",
       " '41. Naxos ',\n",
       " '24. Himera ',\n",
       " '18. Heloron ',\n",
       " '13. Apollonia ',\n",
       " '15. Euboia ',\n",
       " '14. Engyon ',\n",
       " '25. Hippana ',\n",
       " '30. Katane ',\n",
       " '27. Kallipolis ',\n",
       " '50. (Tyrrhenoi)',\n",
       " '10. Akrai ',\n",
       " '8. Aitna ',\n",
       " '44. Selinous ',\n",
       " '46. (Stielanaioi)',\n",
       " '26 *Imachara ',\n",
       " '51. Zankle ',\n",
       " '5. Abakainon ']"
      ]
     },
     "execution_count": 4,
     "metadata": {},
     "output_type": "execute_result"
    }
   ],
   "source": [
    "# list() erstellt eine Liste der keys\n",
    "PoleisKeyList = list(PoleisRawData)\n",
    "PoleisKeyList"
   ]
  },
  {
   "cell_type": "code",
   "execution_count": 5,
   "metadata": {
    "button": false,
    "collapsed": false,
    "deletable": true,
    "new_sheet": false,
    "run_control": {
     "read_only": false
    }
   },
   "outputs": [
    {
     "data": {
      "text/plain": [
       "'42. Petra '"
      ]
     },
     "execution_count": 5,
     "metadata": {},
     "output_type": "execute_result"
    }
   ],
   "source": [
    "# Listenelemente werden mit eckigen Klammern ausgewählt. Eine Index-Zahl gibt die n-Stelle der Liste aus\n",
    "PoleisKeyList[1]"
   ]
  },
  {
   "cell_type": "code",
   "execution_count": 6,
   "metadata": {
    "button": false,
    "collapsed": false,
    "deletable": true,
    "new_sheet": false,
    "run_control": {
     "read_only": false
    }
   },
   "outputs": [
    {
     "name": "stdout",
     "output_type": "stream",
     "text": [
      "36. Megara \n",
      "33. Leontinoi \n",
      "47. Syrakousai \n",
      "18. Heloron \n",
      "15. Euboia \n",
      "44. Selinous \n",
      "46. (Stielanaioi)\n"
     ]
    }
   ],
   "source": [
    "for i in PoleisKeyList:\n",
    "    if \"Megara\" in PoleisRawData[i]:\n",
    "        print(i)"
   ]
  },
  {
   "cell_type": "code",
   "execution_count": 7,
   "metadata": {
    "button": false,
    "collapsed": false,
    "deletable": true,
    "new_sheet": false,
    "run_control": {
     "read_only": false
    }
   },
   "outputs": [
    {
     "data": {
      "text/plain": [
       "'(Geloios,  Geloaios) Map  47.  Lat. 37.05,long. 14.15.  Size  of  territory: 4  in  C 7;  for  the  C 6\\xadC5e  dominion,  see below.  Type:  A: .  The  toponym  is  ,  (Hdt. 7.153.1)  or (F.Delphes iii.4452  (c. 474);  Thuc. 4.58).  The  uncon- tracted  city-ethnic  is  (IGDS  no. 132  ( 550\\xad525)), contracted to (Hdt. 7.154.1;  Thuc. 7.58.1;  IGDS  no. 158  (C 5e));  the  form  is  found  in  SEG 24  303 (C 6\\xadC5),  possibly  an  Ionic  form,  but  see  IGDS  notes  ad 132 and  Cordiano  ( 1995),  who  suggests  reading  ,  i.e. the  city-ethnic  of  Hyele  (no. 54),  not  Gela. Gela  is  called  polis  in  the  political  sense  by  Thuc. 6.4.3,and in  the  urban  sense  by  Thuc. 6.4.3  and  Theopomp.  fr. 358. Polites  occurs  at  Hdt. 7.155.1  and  astos  at  Hdt. 7.156.2.Its politeia  was  described  by  Aristotle  (Arist.  fr. 491).  A  C 5 bronze  weight  is  inscribed  µ&lt;  &gt; (IGDS  no. 152).  It  is called  patris  in  Empedokles  fr. 156.4  (DK). The  internal  collective  use  of  the  city-ethnic  is  found  in IGDS  no. 153  (C 5e)  and  on  C 5  coins  (infra).  The  external  col- lective  use  is  found  in  Hdt. 7.156.2  and  Thuc. 7.58.1;  the external  individual  use  is  found  in  IGDS  no. 132  ( 550\\xad525), IvO 142  (c. 488)  and  IG ii²  8460  (C 4e). Gela  was  founded  45  years  after  Syracuse,  i.e.  in  689/8,by colonists  from  Rhodos  and  Crete  (Thuc. 6.4.3);  according  to Hdt. 7.153.1  by  Lindians  (no. 997)  from  Rhodos.  The  oecists were  the  Rhodian  Antiphemos  and  the  Cretan  Entimos (Thuc. 6.4.3;  cf.  the  C 6\\xadC5  dedication  to  Antiphemos:  IGDS no. 135,  indicating  a  cult  of  the  oecist  (Orlandini  ( 1968) 44\\xad46)).  The  colonists  instituted  µµ   at  Gela (Thuc. 6.4.3).  Early  Geloan  expansion  into  the  hinterland may  be  inferred  from  the  sack  of  Omphake,  a  µ ,by Antiphemos (Paus.8.46.2  (rC 7));  and  conflicts between  Geloans  and  the  indigenous  population  are  attest- ed  in  other  sources,  e.g.  Artemon  (FGrHist 569)  fr. 1  and  the Lindian  Temple  Chronicle  25  Xenagoras  (FGrHist 240)  fr. 12,  which  mentions  an        dedicated to  Athena  Lindia  by  the  Geloans.  It  was  probably  this  expan- sionist  policy  that  led  to  the  foundation  of  Akragas  (no. 9), which  was  founded  108  years  after  Gela\\'s  own  foundation, i.e.  c. 580  (Thuc. 6.4.4;  cf.  Pind.  Ol. 2.93  with  schol. 576). The  plateau  of  Gela  dominated  the  coastal  plain  and  the vast  inland  lowland.  Apparently,  the  plain  was  mainly  agricultural  and  without  settlements.  It  was  delimited  by  a row  of  hills  settled  with  indigenous  sites  which  all  came under  Geloan  influence in C 7f,  soon  after  the  foundation  of Gela.  Two  of  the  larger  cities  were  Omphake  (perhaps  mod- ern  Butera:  see  most  recently  Adamesteanu  ( 1994\\xad95)  113), subjected  by  Gela  early  on  (supra),  and  Maktorion  (possibly modern  Monte  Bubbonia:  Bejor  ( 1991)  305).  The  tracts along  the  valleys  of  the  rivers  Salso  (ancient  Himera), Dessueri  and  Maroglio  (ancient  Gela  and  its  tributaries) came  under  Gela\\'s  influence from C 6e,  as  far  inland  as Caltanisetta  (sites  of Sabucina;  Gibil  Gabib)  and Caltagirone  (site  of  Monte  San  Mauro,  perhaps  a Chalkidian  settlement  and  therefore  on  the  edge  of  the Geloan  area  of  influence) (Orlandini ( 1962);  see  Euboia  (no. 192 fischer-hansen,  nielsen  and  ampolo 15)).  Eastwards  the  border  between  Gela  and  Kamarina  (no. 28)  was  marked  by  the  Dirillo  valley,  with  a  rural  sanctuary at  Feudo  Nobile  dedicated  to  chthonic  divinities (Canzanella  ( 1989)).  Westwards  Geloan  influence may have reached  as  far  as  the  river  Platani  (ancient  Halykos),  the eastern  frontier  of  Selinous  (no. 44).  In  C 7  the  immediate hinterland  of  Gela  comprised  an  area  of  about  375  km ²,but the  period  of  Hippokrates  and  Gelon  saw  a  Geloan  domin- ion  comprising  large  tracts  of  north-east  (Chalkidian)  and south-east  (Syracusan)  Sicily.  Philistos  (FGrHist 556)  fr. 5 implies  a  C 6m  treaty  of  symmachia  between  Gela  and Kamarina,  and  possibly  between  Gela  and  Syracuse  (no. 47). From c. 505,Gela  was  governed  by  tyrants,  beginning  with the  rule  of  Kleandros  and  Hippokrates,  sons  of  the  Olympic victor  Pantares  (Olympionikai 151).Kleandros  was  tyrant  for seven  years  (Hdt. 7.154.1;Arist.Pol.1316a37),and  after  him  his brother  Hippokrates  took  over   µ,  also  for seven  years  (Hdt. 7.155.1;  cf. 6.23.3  and  Thuc. 6.5.3: ).  Hippokrates  conducted  an  aggressive  foreign policy  both  against  the  indigenous  population  (Hdt. 7.154.2\\xad3)  and  against  the  Greek  cities  of  Kallipolis  (no. 27), Naxos  (no. 41),  Zankle  (no. 51)  and  Leontinoi  (no. 33),  all  of which  he  \"enslaved\"  (Hdt. 7.154.2).  He  also  managed  to defeat  the  Syracusans  in  battle  and  to  lay  siege  to  their  city, but  this  conflict was settled through arbitration b y  Corinth (no. 227)  and  Korkyra  (no. 123)  by  which  Syracuse  had  to cede  Kamarina  to  Hippokrates  (Hdt. 7.154.2\\xad3).  Kamarina was  then  refounded  by  Gela  with  Hippokrates  as  oecist (Thuc. 6.5.3;  Philistos  (FGrHist 556)  fr. 15).  When  Kamarina was  destroyed  by  Gelon  in  484,  the  Geloans  refounded  it once  again  c. 461  (Thuc. 6.4.3;Diod.  11.76.5);  see  further Berve  ( 1967)  137\\xad40.  Zankle  and  its  ruler  Skythes  were dependent  allies  of  Hippokrates  (Hdt. 7.154.2;see Zankle/Messana  (no. 51)). On  Hippokrates\\'  death,  the  citizens  of  Gela  attempted  to free  themselves  from  tyranny,  but  Gelon,  the  former doryphoros  of  Hippokrates,  defeated  them  in  battle  and  took power  (Hdt. 7.155.1).  When  in  485  Gelon  became  tyrant  of Syracuse,  he  moved  his  seat  as  well  as  \"more  than  half  \"of  the Geloan  astoi  to  that  city  (Hdt. 7.156.2).  The  government  of Gela  was  entrusted  to Gelon\\'s  brother,  Hieron  (Hdt. 7.156.6), who  later  inherited  the  tyranny  of  Syracuse  and  was  suc- ceeded  at  Gela  by  another  brother,  Polyzalos  (F.Delphes iii.4 452:[ ]  ...  [ ]  []).  Tyranny  at  Gela  presumably came  to  an  end  in  466/5  (Berve ( 1967)  141). In 405  Himilkon  besieged,  pillaged  and  destroyed  (?)  Gela  (Diod. 13.108\\xad111.1\\xad2),and  after  the  defeat  of  Dionysios the  peace  treaty  between  Carthage  and  Syracuse  (no. 47) stipulated  that  Gela  be  an  ateichistos  tributary  of  Carthage (Diod. 13.114.1;  Staatsverträge 210).  Gela  was  one  of  the Timoleontic  refoundations  (Plut.  Tim. 35.1\\xad2;  Talbert  ( 1974) 153\\xad55,  204). Our  sources  for  the  military  strength  of  Gela  provide  us with  scanty  information  about  the  size  of  the  polis:  a contin- gent  of 500  hippeis  is  mentioned  by  Diod. 13.83.2  (rC 5s;  cf. Timaios  (FGrHist 566)  fr. 26a).  In  415,  during  the  Athenian attack, 200  Geloan  cavalry  assisted  Syracuse  (Thuc. 6.67.2), and  the  same  number  was  sent  in  413  (Thuc. 7.33.2).  In  414  a small  contingent  from  Gela  under  the  command  of Gylippos  marched  to  the  support  of  Syracuse  (Thuc. 7.1.5), and  in  413  a  navy  (nautikon)  of  five ships as w ell  as  400  akon- tistai  were  sent  to  Syracuse  (Thuc. 7.33.1).  At  the  battle  of Himera  in  406  a  contingent  from  Gela  fought  at  the  side  of Kamarina  (no. 28)  and  Syracuse  (no. 47)  (Diod. 13.86.5).  A C 6\\xadC5  Geloan  defeat  at  the  hands  of  Rhegion  (no. 68)  is attested  by  SEG 24  303. Civil  war  is  attested,  as  in  all  other  major  Sicilian  poleis:an early  stasis  (C 7\\xadC6)  was  resolved  without  bloodshed  by  an ancestor  of  Gelon  (Hdt. 7.153.2).  Another  stasis,  in  which Dionysios  I  interfered,  is  mentioned  for  the  year  406:  the demos  rose  against  the  despoteia  of  the  dynatotatoi  and  suc- ceeded  owing  to  Dionysios\\'  assistance;  in  this  connection the  ekklesia  and  psephismata  are  mentioned  (Diod. 13.93.2\\xad4;  Berger  ( 1992)  23\\xad25). Diplomatic  activities  comprise  reception  of  envoys (implied  by Diod. 11.68.1  (r 466))  as  well  as  sending  of  envoys (Timaios  (FGrHist 566)  fr. 22  (r 424);  Diod. 13.93.4  (r 406)).  In 424,  Gela  hosted  a  pan-Sicilian  peace  congress,  which  had developed  from  an  ekecheiria  between  Kamarina  (no. 28)  and Gela  (Thuc. 5.58,  65;  Timaios  (FGrHist 566)  fr. 22).  A  Geloan served  as  Epidaurian  theorodokos  in 356/5  (IG iv².195.ii.83). Another  was  appointed  Samian  proxenos  in  C 4l  (IG xii.633). The  rulers  of  C 5f  Gela  displayed  their  power  at  the Panhellenic  sanctuaries.  Gelon  was  victorious  at  Olympia  in 484  (Olympionikai 158;  IvO 143  and  Paus. 6.9.4;Harrell ( 2002));  and  Polyzalos  was  victor  at  Delphi  c. 478  (SEG 3  396; LSAG 266,  275  no. 9;  F.Delphes iii.4452;  cf.  Harrell  ( 2002) 460\\xad62).  For  Gelon\\'s  donations  at  Delphi:  Syll. ³33\\xad34  (cf. Harrell  ( 2002)  453\\xad55).  Gela  had  a  thesauros  at  Olympia (Paus. 6.19.15),  a  richly  furnished  C 6m  building,  restruc- tured  in  C 5f  (Mertens-Horn  and  Viola  ( 1990)  238\\xad39). Communal  consultation  of  oracles  is  implied  by  Diod. 13.108.4,  which  also  attests  to  an  internal  communal  dedica- tion  of  a  bronze  image  of  Apollo. The  city  occupied  the  east\\xadwest-oriented  coastal  plateau, and  during  C 7\\xadC5  a  part  of  the  lowland  plain  to  the  north sikelia  193 (Spagnolo  ( 1991)).  The  easternmost  part  of  the  plateau,  with C 7  sanctuaries,  is  normally  regarded  as  the  acropolis  of  the city  (there  is  no  ancient  attestation  of  the  term).  The  monu- mental  C 6  temple  was  replaced  by  a  C 5e  temple  located  fur- ther  east  (Orlandini  ( 1968)  21\\xad25;  T.Van  Compernolle  ( 1989) 68\\xad69).  The  major  divinity  of  the  sanctuary  was  Athena, probably  Athena  Lindia  (Fischer-Hansen  ( 1996)  322\\xad27  with refs.).  There  are  clear  signs  of  some  continuity  of  Greek occupation  during  the  C 4f  and  of  continuity  of  cult. The  central  part  of  the  plateau  was  probably  the  main habitation  area  in  the  Archaic  and  early  Classical  periods, delimited  further  to  the  west  by  the  early  cemeteries (Shepherd  ( 1995)  60\\xad70).  There  is  evidence  of  C 8l  Greek occupation,  a  pre-colonial  phase  apparently  supporting  the statement  by Thuc. 6.4.3  that  an  area  of  Gela  called  Lindioi was  occupied  before  the  founding  of  Gela  (for  a  colonisa- tion  of  Gela  in  two  phases,  see  Wentker  ( 1956);  Fiorentini and  De  Miro  ( 1983)).  (Mortuary  evidence,  too,  indicates  a Greek  presence  from  the  end  of  C 8.)  Architectural  terracot- tas  have  revealed  a  large  sanctuary,  consisting  of  at  least  two monumental  temples  (Fischer-Hansen  ( 1996)  327\\xad32  with refs.);  the  identity  of  the  divinity  is  uncertain;  Orlandini ( 1968)  31  suggests  Zeus  Atabyrios. No  traces  of  a  circuit  wall  from  the  period  of  foundation have  been  found  so  far,  though  the  existence  of--presum- ably  early--walls is implied b y  Thuc. 6.4.3.  There  are remains  of  a  C 6  circuit  wall,  possibly  raised  in  connection with  C 6l  civic  strife  (Orlandini  ( 1961)  141\\xad44),or,if  in  part  of later  origin,  in  connection  with  the  threat  of  the Carthaginians  in  C 5l  (De  Miro  and  Fiorentini  ( 1976\\xad77) 434\\xad35).  Fortifications in C 4l  are  attested  by  Diod. 19.107.5 (r 317)  and  19.110.2\\xad3  (r 311). Little  is  known  of  the  habitation  area  on  the  plateau (Buongiovanni  and  Canzanella  ( 1990)  13).  The  Archaic  city incorporated  the  north  slope  of  the  plateau  and  part  of  the plain  below  (Spagnolo  ( 1991)).  The  size  of  the  Classical  city, including  a  part  of  the  lowland  plains  to  the  north  but excluding  the  western  cemetery  and  including  the  eastern sanctuary,  was  about  200  ha.  There  is  clear  evidence  of  the destruction  by  the  Carthaginians  in  405,  but  also  of  a  re- establishment  of  the  Greek  settlement  soon  after  (Fiorentini ( 2002)).  The  Timoleontic  refoundation  of  Gela  with  a  new overall  urban  plan  comprised  habitation  quarters  in  ter- races  along  the  north  slope  and  on  part  of  the  upper  plateau, incorporating  also  a  new  industrial  quarter,  public  baths and  the  western  part  of  the  plateau,  enclosed  by  the  impres- sive  circuit  walls  at  Capo  Soprano  (Buongiovanni  and Canzanella  ( 1990)  20\\xad22;  Panvini  ( 1996)  100\\xad20). There  is  further  evidence  of  urban  cults:  a  sanctuary  on the  southern  slope  was  dedicated  to  Hera  (Orlandini  ( 1968) 31\\xad33;  IGDS  nos. 137\\xad38),  and  close  by  was  the  heroon  for the  oikistes  Antiphemos  (supra).  Gela  was  surrounded  by  a number  of  suburban  sanctuaries  (surveys:  Orlandini ( 1968);  Fiorentini  ( 1985)),  with  paramount  importance assigned  to  sanctuaries  for  Demeter  (Kron  ( 1992);  Hinz ( 1998)  55\\xad69).  Other  sanctuaries,  previously  thought  to  be suburban,  are  now  known  to  have  been  located  within  the northern  boundary  of  the  city  (Orlandini  ( 1968)  pl. i.5.6; Spagnolo  ( 1991)  69).  The  stay  of  Aischylos  at  Gela  surely implies  that  the  city  had  a  theatre  in  C 5m.  A  C 7\\xadC5  build- ing  complex  located  on  the  coast  south-east  of  the  plateau near  the  estuary  of  the  river  Gelas  has  been  interpreted  as harbour  structures  (Fiorentini  ( 1985)  22;  Panvini  ( 1996) 54\\xad57). Gela  began  minting  on  the  initiative  of  Gelon,  c. 490\\xad485. The  first issue was of  didrachms  and  tetradrachms  on  the Attic\\xadEuboian  standard,  obv.  naked  rider;  rev.  forepart  of man-headed  bull,  legends: (Jenkins  ( 1970)  25).  A second  issue,  mostly  of  tetradrachms,  c. 480\\xad470,  is  strongly influenced b y  the  Syracusan  mint  and  has  obv.  four-horse chariot  with  a  flying N ike  above;  rev.  forepart  of  man-faced bull,  legends: , .  Issues  with  the  same  obv.  and rev.  types,  and  variants  including  didrachms  and  drachms, are  known  until  C 5l  (SNG  Cop.  Sicily 251\\xad66);  drachms  have obv.  legend (Jenkins  ( 1970)  49).  Tetradrachms from  c. 440\\xad430  have  the  standard  rev.  type,  but  a  standing female  figure crowns the bull\\'s head w ith  a  wreath  (a  local nymph  or  water-goddess  in  the  role  of  Nike?);  legend: .The  obv.  type  is  very  similar  to  obv. dies  from  Himera  (Jenkins  ( 1970)  71\\xad72).  From  c. 425  the tetradrachms  carry  the  obv. legend ; [..];  (SNG  Cop.  Sicily 269\\xad70,  277,  279). Smaller  denominations  (didrachms  and  litrai)  have  as  types horseman  or  head  of  river-god  or  Demeter  and  the  legend or (SNG  Cop.  Sicily 271\\xad75,  280\\xad81). A  gold  coinage  (dilitron  and  litra)  was  issued  in  C 5l,  proba- bly  to  pay  the  mercenary  armies  fighting the Carthaginians in 406/5  (Diod. 13.93).  The  rev.  of  the  gold  litra  has  as  type head  of  the  deity  Sosipolis,  legend: (SNG Cop.  Sicily 276).  Bronze  coinage  began  c. 420  (Jenkins  ( 1979); SNG  Cop.  Sicily 282\\xad87).  The  refoundation  of  Gela  by Timoleon  was  marked  by  a  new  issue  of  silver  litrai;  the  obv. type  of  a  warrior  sacrificing a r am  is  variously  interpreted  as Antiphemos,  the  oecist  of  Gela,  or  as  Timoleon  himself  in the  guise  of  the  oecist  of  New  Gela  (Jenkins  ( 1979);  SNG Cop.  Sicily 288). 194 fischer-hansen,  nielsen  and  ampolo'"
      ]
     },
     "execution_count": 7,
     "metadata": {},
     "output_type": "execute_result"
    }
   ],
   "source": [
    "# Der key in eckigen Klammern gibt den Wert des Elements mit dem Key aus\n",
    "PoleisRawData[PoleisKeyList[4]]"
   ]
  },
  {
   "cell_type": "code",
   "execution_count": 8,
   "metadata": {
    "button": false,
    "collapsed": false,
    "deletable": true,
    "new_sheet": false,
    "run_control": {
     "read_only": false
    }
   },
   "outputs": [
    {
     "data": {
      "text/html": [
       "<div>\n",
       "<table border=\"1\" class=\"dataframe\">\n",
       "  <thead>\n",
       "    <tr style=\"text-align: right;\">\n",
       "      <th></th>\n",
       "      <th>0</th>\n",
       "    </tr>\n",
       "  </thead>\n",
       "  <tbody>\n",
       "    <tr>\n",
       "      <th>10. Akrai</th>\n",
       "      <td>(Akraios) Map  47.  Lat. 37.05,long.  14.55.  ...</td>\n",
       "    </tr>\n",
       "    <tr>\n",
       "      <th>11. Alaisa</th>\n",
       "      <td>(Alaisinos) Map  47.  Lat. 38.00,long.  14.15....</td>\n",
       "    </tr>\n",
       "    <tr>\n",
       "      <th>12. Alontion</th>\n",
       "      <td>(Alontinos) Map  47.  Lat. 38.05,long.  14.40....</td>\n",
       "    </tr>\n",
       "    <tr>\n",
       "      <th>13. Apollonia</th>\n",
       "      <td>(Apolloniates) Map  47.  Lat. 38.00,long. 14.3...</td>\n",
       "    </tr>\n",
       "  </tbody>\n",
       "</table>\n",
       "</div>"
      ],
      "text/plain": [
       "                                                                0\n",
       "10. Akrai       (Akraios) Map  47.  Lat. 37.05,long.  14.55.  ...\n",
       "11. Alaisa      (Alaisinos) Map  47.  Lat. 38.00,long.  14.15....\n",
       "12. Alontion    (Alontinos) Map  47.  Lat. 38.05,long.  14.40....\n",
       "13. Apollonia   (Apolloniates) Map  47.  Lat. 38.00,long. 14.3..."
      ]
     },
     "execution_count": 8,
     "metadata": {},
     "output_type": "execute_result"
    }
   ],
   "source": [
    "# Liest das Dictionary als Dataframe ein. Namen der Poleis werden als Index benutzt.\n",
    "dfPoleis = pd.DataFrame([PoleisRawData]).transpose()\n",
    "dfPoleis.head(4)"
   ]
  },
  {
   "cell_type": "markdown",
   "metadata": {},
   "source": [
    "# Konstruktion neuer Merkmale\n",
    "## Textmuster mit regulären Ausdrücken\n",
    "\n",
    "http://www.regexe.de/hilfe.jsp \n",
    "https://www.cheatography.com/davechild/cheat-sheets/regular-expressions/\n",
    "\n",
    "http://www.coli.uni-saarland.de/courses/python1-10/folien/PythonI10-07.pdf"
   ]
  },
  {
   "cell_type": "code",
   "execution_count": 9,
   "metadata": {
    "button": false,
    "collapsed": false,
    "deletable": true,
    "new_sheet": false,
    "run_control": {
     "read_only": false
    }
   },
   "outputs": [
    {
     "data": {
      "text/html": [
       "<div>\n",
       "<table border=\"1\" class=\"dataframe\">\n",
       "  <thead>\n",
       "    <tr style=\"text-align: right;\">\n",
       "      <th></th>\n",
       "      <th>Beschreibung</th>\n",
       "    </tr>\n",
       "  </thead>\n",
       "  <tbody>\n",
       "    <tr>\n",
       "      <th>10. Akrai</th>\n",
       "      <td>(Akraios) Map  47.  Lat. 37.05,long.  14.55.  ...</td>\n",
       "    </tr>\n",
       "    <tr>\n",
       "      <th>11. Alaisa</th>\n",
       "      <td>(Alaisinos) Map  47.  Lat. 38.00,long.  14.15....</td>\n",
       "    </tr>\n",
       "    <tr>\n",
       "      <th>12. Alontion</th>\n",
       "      <td>(Alontinos) Map  47.  Lat. 38.05,long.  14.40....</td>\n",
       "    </tr>\n",
       "    <tr>\n",
       "      <th>13. Apollonia</th>\n",
       "      <td>(Apolloniates) Map  47.  Lat. 38.00,long. 14.3...</td>\n",
       "    </tr>\n",
       "    <tr>\n",
       "      <th>14. Engyon</th>\n",
       "      <td>(Engyinos)  Map  47.  Lat. 37.45,long.  14.35....</td>\n",
       "    </tr>\n",
       "  </tbody>\n",
       "</table>\n",
       "</div>"
      ],
      "text/plain": [
       "                                                     Beschreibung\n",
       "10. Akrai       (Akraios) Map  47.  Lat. 37.05,long.  14.55.  ...\n",
       "11. Alaisa      (Alaisinos) Map  47.  Lat. 38.00,long.  14.15....\n",
       "12. Alontion    (Alontinos) Map  47.  Lat. 38.05,long.  14.40....\n",
       "13. Apollonia   (Apolloniates) Map  47.  Lat. 38.00,long. 14.3...\n",
       "14. Engyon      (Engyinos)  Map  47.  Lat. 37.45,long.  14.35...."
      ]
     },
     "execution_count": 9,
     "metadata": {},
     "output_type": "execute_result"
    }
   ],
   "source": [
    "# Umnennen der Spalte von 0 zu 'full_text'\n",
    "dfPoleis = dfPoleis.rename(columns={0: 'Beschreibung'})\n",
    "dfPoleis.head()"
   ]
  },
  {
   "cell_type": "code",
   "execution_count": 10,
   "metadata": {
    "collapsed": false
   },
   "outputs": [
    {
     "data": {
      "text/plain": [
       "['Akrai ',\n",
       " 'Alaisa ',\n",
       " 'Alontion ',\n",
       " 'Apollonia ',\n",
       " 'Engyon ',\n",
       " 'Euboia ',\n",
       " 'Galeria ',\n",
       " 'Gela ',\n",
       " 'Heloron ',\n",
       " 'Henna ',\n",
       " 'Herakleia 1',\n",
       " 'Herakleia 2 ',\n",
       " 'Herbes(s)os ',\n",
       " 'Herbita ',\n",
       " 'Himera ',\n",
       " 'Hippana ',\n",
       " 'Imachara ',\n",
       " 'Kallipolis ',\n",
       " 'Kamarina ',\n",
       " 'Kasmenai ',\n",
       " 'Katane ',\n",
       " 'Kentoripa ',\n",
       " 'Kephaloidion ',\n",
       " 'Leontinoi ',\n",
       " 'Lipara ',\n",
       " '*Longane ',\n",
       " 'Megara ',\n",
       " 'Morgantina ',\n",
       " 'Mylai ',\n",
       " 'Mytistratos ',\n",
       " 'Nakone ',\n",
       " 'Naxos ',\n",
       " 'Petra ',\n",
       " 'Piakos ',\n",
       " 'Selinous ',\n",
       " '(Sileraioi)',\n",
       " '(Stielanaioi)',\n",
       " 'Syrakousai ',\n",
       " 'Tauromenion ',\n",
       " 'Tyndaris ',\n",
       " 'bakainon ',\n",
       " '(Tyrrhenoi)',\n",
       " 'Zankle ',\n",
       " 'dranon ',\n",
       " 'gyrion ',\n",
       " 'itna ',\n",
       " 'kragas ']"
      ]
     },
     "execution_count": 10,
     "metadata": {},
     "output_type": "execute_result"
    }
   ],
   "source": [
    "# Konstruktion einer Liste mit sogenannten List-Comprehensions\n",
    "ListCities = [x[4:] for x in dfPoleis.index]\n",
    "ListCities"
   ]
  },
  {
   "cell_type": "code",
   "execution_count": 11,
   "metadata": {
    "collapsed": true
   },
   "outputs": [],
   "source": [
    "# Extrahiere Name der Polis aus Index\n",
    "dfPoleis['city'] = [x[4:] for x in dfPoleis.index]"
   ]
  },
  {
   "cell_type": "code",
   "execution_count": 12,
   "metadata": {
    "collapsed": true
   },
   "outputs": [],
   "source": [
    "# Extrahiere Nummer des Polis Eintrags\n",
    "dfPoleis['city_index'] = [int(re.findall('\\d{1,2}', x)[0]) for x in dfPoleis.index]"
   ]
  },
  {
   "cell_type": "code",
   "execution_count": 13,
   "metadata": {
    "collapsed": true
   },
   "outputs": [],
   "source": [
    "# Sortiere die Zeilen nach der Spalte \n",
    "dfPoleis = dfPoleis.sort_values(by='city_index')"
   ]
  },
  {
   "cell_type": "code",
   "execution_count": 14,
   "metadata": {
    "button": false,
    "collapsed": false,
    "deletable": true,
    "new_sheet": false,
    "run_control": {
     "read_only": false
    }
   },
   "outputs": [],
   "source": [
    "# Nutze neuen Index (startet bei 0)\n",
    "#dfPoleis = dfPoleis.reset_index(drop=True)"
   ]
  },
  {
   "cell_type": "code",
   "execution_count": 15,
   "metadata": {
    "button": false,
    "collapsed": false,
    "deletable": true,
    "new_sheet": false,
    "run_control": {
     "read_only": false
    }
   },
   "outputs": [
    {
     "data": {
      "text/html": [
       "<div>\n",
       "<table border=\"1\" class=\"dataframe\">\n",
       "  <thead>\n",
       "    <tr style=\"text-align: right;\">\n",
       "      <th></th>\n",
       "      <th>Beschreibung</th>\n",
       "      <th>city</th>\n",
       "      <th>city_index</th>\n",
       "    </tr>\n",
       "  </thead>\n",
       "  <tbody>\n",
       "    <tr>\n",
       "      <th>5. Abakainon</th>\n",
       "      <td>(Abakaininos) Map  47.  Lat. 38.05,long. 15.05...</td>\n",
       "      <td>bakainon</td>\n",
       "      <td>5</td>\n",
       "    </tr>\n",
       "    <tr>\n",
       "      <th>6. Adranon</th>\n",
       "      <td>(Adranites) Map  47.  Lat. 37.40,long.  14.50....</td>\n",
       "      <td>dranon</td>\n",
       "      <td>6</td>\n",
       "    </tr>\n",
       "    <tr>\n",
       "      <th>7. Agyrion</th>\n",
       "      <td>(Agyrinaios) Map  47.  Lat. 37.40,long.  14.30...</td>\n",
       "      <td>gyrion</td>\n",
       "      <td>7</td>\n",
       "    </tr>\n",
       "    <tr>\n",
       "      <th>8. Aitna</th>\n",
       "      <td>(Aitnaios) Map  47.Location  of  Aitna  I  as ...</td>\n",
       "      <td>itna</td>\n",
       "      <td>8</td>\n",
       "    </tr>\n",
       "  </tbody>\n",
       "</table>\n",
       "</div>"
      ],
      "text/plain": [
       "                                                    Beschreibung       city  \\\n",
       "5. Abakainon   (Abakaininos) Map  47.  Lat. 38.05,long. 15.05...  bakainon    \n",
       "6. Adranon     (Adranites) Map  47.  Lat. 37.40,long.  14.50....    dranon    \n",
       "7. Agyrion     (Agyrinaios) Map  47.  Lat. 37.40,long.  14.30...    gyrion    \n",
       "8. Aitna       (Aitnaios) Map  47.Location  of  Aitna  I  as ...      itna    \n",
       "\n",
       "               city_index  \n",
       "5. Abakainon            5  \n",
       "6. Adranon              6  \n",
       "7. Agyrion              7  \n",
       "8. Aitna                8  "
      ]
     },
     "execution_count": 15,
     "metadata": {},
     "output_type": "execute_result"
    }
   ],
   "source": [
    "dfPoleis.head(4)"
   ]
  },
  {
   "cell_type": "markdown",
   "metadata": {},
   "source": [
    "## Textmustersuche in der Beschreibung einer Polis\n",
    "### Neue Funktionen"
   ]
  },
  {
   "cell_type": "code",
   "execution_count": 16,
   "metadata": {
    "collapsed": false
   },
   "outputs": [],
   "source": [
    "def ListePattern(value,pattern):\n",
    "    x = re.findall(pattern, value)\n",
    "    if x:\n",
    "        return(x[0][-5:])"
   ]
  },
  {
   "cell_type": "markdown",
   "metadata": {},
   "source": [
    "### Geographische Koordinaten"
   ]
  },
  {
   "cell_type": "code",
   "execution_count": 17,
   "metadata": {
    "collapsed": false
   },
   "outputs": [
    {
     "data": {
      "text/plain": [
       "'38.05'"
      ]
     },
     "execution_count": 17,
     "metadata": {},
     "output_type": "execute_result"
    }
   ],
   "source": [
    "# nicht alle haben geographische Koordinaten\n",
    "listLat=ListePattern(value=dfPoleis['Beschreibung'].iloc[0],pattern=\"Lat\\.\\s?\\d+\\.\\d+\")\n",
    "listLat"
   ]
  },
  {
   "cell_type": "code",
   "execution_count": 18,
   "metadata": {
    "collapsed": false
   },
   "outputs": [
    {
     "data": {
      "text/plain": [
       "'15.05'"
      ]
     },
     "execution_count": 18,
     "metadata": {},
     "output_type": "execute_result"
    }
   ],
   "source": [
    "# gleiches auch für long.\n",
    "listLong=ListePattern(value=dfPoleis['Beschreibung'].iloc[0],pattern=\"long\\.\\s*\\d+\\.\\d+\")\n",
    "listLong"
   ]
  },
  {
   "cell_type": "code",
   "execution_count": 19,
   "metadata": {
    "collapsed": false
   },
   "outputs": [],
   "source": [
    "dfPoleis['Latitude'] = dfPoleis['Beschreibung'].apply(ListePattern,pattern=(\"Lat\\.\\s?\\d+\\.\\d+\")).astype(float)\n",
    "\n",
    "dfPoleis['Longitude'] = dfPoleis['Beschreibung'].apply(ListePattern,pattern=(\"long\\.\\s*\\d+\\.\\d+\")).astype(float)"
   ]
  },
  {
   "cell_type": "code",
   "execution_count": 20,
   "metadata": {
    "collapsed": false
   },
   "outputs": [
    {
     "data": {
      "text/html": [
       "<div>\n",
       "<table border=\"1\" class=\"dataframe\">\n",
       "  <thead>\n",
       "    <tr style=\"text-align: right;\">\n",
       "      <th></th>\n",
       "      <th>Beschreibung</th>\n",
       "      <th>city</th>\n",
       "      <th>city_index</th>\n",
       "      <th>Latitude</th>\n",
       "      <th>Longitude</th>\n",
       "    </tr>\n",
       "  </thead>\n",
       "  <tbody>\n",
       "    <tr>\n",
       "      <th>5. Abakainon</th>\n",
       "      <td>(Abakaininos) Map  47.  Lat. 38.05,long. 15.05...</td>\n",
       "      <td>bakainon</td>\n",
       "      <td>5</td>\n",
       "      <td>38.05</td>\n",
       "      <td>15.05</td>\n",
       "    </tr>\n",
       "    <tr>\n",
       "      <th>6. Adranon</th>\n",
       "      <td>(Adranites) Map  47.  Lat. 37.40,long.  14.50....</td>\n",
       "      <td>dranon</td>\n",
       "      <td>6</td>\n",
       "      <td>37.40</td>\n",
       "      <td>14.50</td>\n",
       "    </tr>\n",
       "    <tr>\n",
       "      <th>7. Agyrion</th>\n",
       "      <td>(Agyrinaios) Map  47.  Lat. 37.40,long.  14.30...</td>\n",
       "      <td>gyrion</td>\n",
       "      <td>7</td>\n",
       "      <td>37.40</td>\n",
       "      <td>14.30</td>\n",
       "    </tr>\n",
       "    <tr>\n",
       "      <th>8. Aitna</th>\n",
       "      <td>(Aitnaios) Map  47.Location  of  Aitna  I  as ...</td>\n",
       "      <td>itna</td>\n",
       "      <td>8</td>\n",
       "      <td>NaN</td>\n",
       "      <td>NaN</td>\n",
       "    </tr>\n",
       "    <tr>\n",
       "      <th>9. Akragas</th>\n",
       "      <td>(Akragantinos) Map  47.  Lat. 37.20,long.  13....</td>\n",
       "      <td>kragas</td>\n",
       "      <td>9</td>\n",
       "      <td>37.20</td>\n",
       "      <td>13.35</td>\n",
       "    </tr>\n",
       "    <tr>\n",
       "      <th>10. Akrai</th>\n",
       "      <td>(Akraios) Map  47.  Lat. 37.05,long.  14.55.  ...</td>\n",
       "      <td>Akrai</td>\n",
       "      <td>10</td>\n",
       "      <td>37.05</td>\n",
       "      <td>14.55</td>\n",
       "    </tr>\n",
       "    <tr>\n",
       "      <th>11. Alaisa</th>\n",
       "      <td>(Alaisinos) Map  47.  Lat. 38.00,long.  14.15....</td>\n",
       "      <td>Alaisa</td>\n",
       "      <td>11</td>\n",
       "      <td>38.00</td>\n",
       "      <td>14.15</td>\n",
       "    </tr>\n",
       "    <tr>\n",
       "      <th>12. Alontion</th>\n",
       "      <td>(Alontinos) Map  47.  Lat. 38.05,long.  14.40....</td>\n",
       "      <td>Alontion</td>\n",
       "      <td>12</td>\n",
       "      <td>38.05</td>\n",
       "      <td>14.40</td>\n",
       "    </tr>\n",
       "    <tr>\n",
       "      <th>13. Apollonia</th>\n",
       "      <td>(Apolloniates) Map  47.  Lat. 38.00,long. 14.3...</td>\n",
       "      <td>Apollonia</td>\n",
       "      <td>13</td>\n",
       "      <td>38.00</td>\n",
       "      <td>14.35</td>\n",
       "    </tr>\n",
       "    <tr>\n",
       "      <th>14. Engyon</th>\n",
       "      <td>(Engyinos)  Map  47.  Lat. 37.45,long.  14.35....</td>\n",
       "      <td>Engyon</td>\n",
       "      <td>14</td>\n",
       "      <td>37.45</td>\n",
       "      <td>14.35</td>\n",
       "    </tr>\n",
       "    <tr>\n",
       "      <th>15. Euboia</th>\n",
       "      <td>(Euboeus)  Map  47.  Unlocated.  Type:  C: .Th...</td>\n",
       "      <td>Euboia</td>\n",
       "      <td>15</td>\n",
       "      <td>NaN</td>\n",
       "      <td>NaN</td>\n",
       "    </tr>\n",
       "    <tr>\n",
       "      <th>16. Galeria</th>\n",
       "      <td>(Galarinos) Map  47.Unlocated  (Manni  ( 1981)...</td>\n",
       "      <td>Galeria</td>\n",
       "      <td>16</td>\n",
       "      <td>NaN</td>\n",
       "      <td>NaN</td>\n",
       "    </tr>\n",
       "    <tr>\n",
       "      <th>17. Gela</th>\n",
       "      <td>(Geloios,  Geloaios) Map  47.  Lat. 37.05,long...</td>\n",
       "      <td>Gela</td>\n",
       "      <td>17</td>\n",
       "      <td>37.05</td>\n",
       "      <td>14.15</td>\n",
       "    </tr>\n",
       "    <tr>\n",
       "      <th>18. Heloron</th>\n",
       "      <td>(Ailoros) Map  47.  Lat. 36.50,long.  15.05.  ...</td>\n",
       "      <td>Heloron</td>\n",
       "      <td>18</td>\n",
       "      <td>36.50</td>\n",
       "      <td>15.05</td>\n",
       "    </tr>\n",
       "    <tr>\n",
       "      <th>19. Henna</th>\n",
       "      <td>(Hennaios) Map  47.  Lat. 37.35,long.  14.15. ...</td>\n",
       "      <td>Henna</td>\n",
       "      <td>19</td>\n",
       "      <td>37.35</td>\n",
       "      <td>14.15</td>\n",
       "    </tr>\n",
       "    <tr>\n",
       "      <th>20. Herakleia 1</th>\n",
       "      <td>(Herakleotes) Map  47.  Lat. 37.25,long. 13.15...</td>\n",
       "      <td>Herakleia 1</td>\n",
       "      <td>20</td>\n",
       "      <td>37.25</td>\n",
       "      <td>13.15</td>\n",
       "    </tr>\n",
       "    <tr>\n",
       "      <th>21. Herakleia 2</th>\n",
       "      <td>Map 47.Unlocated  site  in  western  Sicily, i...</td>\n",
       "      <td>Herakleia 2</td>\n",
       "      <td>21</td>\n",
       "      <td>NaN</td>\n",
       "      <td>NaN</td>\n",
       "    </tr>\n",
       "    <tr>\n",
       "      <th>22. Herbes(s)os</th>\n",
       "      <td>(Herbessinos) Map  47.  Unlocated,  but presum...</td>\n",
       "      <td>Herbes(s)os</td>\n",
       "      <td>22</td>\n",
       "      <td>NaN</td>\n",
       "      <td>NaN</td>\n",
       "    </tr>\n",
       "    <tr>\n",
       "      <th>23. Herbita</th>\n",
       "      <td>(Herbitaios) Map  47.Unlocated  (cf.  C.  Boeh...</td>\n",
       "      <td>Herbita</td>\n",
       "      <td>23</td>\n",
       "      <td>NaN</td>\n",
       "      <td>NaN</td>\n",
       "    </tr>\n",
       "    <tr>\n",
       "      <th>24. Himera</th>\n",
       "      <td>(Himeraios) Map  47.  Lat. 37.55,long.  13.50....</td>\n",
       "      <td>Himera</td>\n",
       "      <td>24</td>\n",
       "      <td>37.55</td>\n",
       "      <td>13.50</td>\n",
       "    </tr>\n",
       "    <tr>\n",
       "      <th>25. Hippana</th>\n",
       "      <td>(Hipanatas)  Map  47.  Lat. 37.40,long.  13.25...</td>\n",
       "      <td>Hippana</td>\n",
       "      <td>25</td>\n",
       "      <td>37.40</td>\n",
       "      <td>13.25</td>\n",
       "    </tr>\n",
       "    <tr>\n",
       "      <th>26 *Imachara</th>\n",
       "      <td>(Imacharaios) Map  47.  Unlocated.  Barr. tent...</td>\n",
       "      <td>Imachara</td>\n",
       "      <td>26</td>\n",
       "      <td>NaN</td>\n",
       "      <td>14.20</td>\n",
       "    </tr>\n",
       "    <tr>\n",
       "      <th>27. Kallipolis</th>\n",
       "      <td>(Kallipolites)  Map  47.  Unlocated.  Type:  A...</td>\n",
       "      <td>Kallipolis</td>\n",
       "      <td>27</td>\n",
       "      <td>NaN</td>\n",
       "      <td>NaN</td>\n",
       "    </tr>\n",
       "    <tr>\n",
       "      <th>28. Kamarina</th>\n",
       "      <td>(Kamarinaios) Map  47.  Lat. 36.50,long. 14.25...</td>\n",
       "      <td>Kamarina</td>\n",
       "      <td>28</td>\n",
       "      <td>36.50</td>\n",
       "      <td>14.25</td>\n",
       "    </tr>\n",
       "    <tr>\n",
       "      <th>29. Kasmenai</th>\n",
       "      <td>(Kasmenaios) Map  47.  Lat. 37.05,long. 14.50....</td>\n",
       "      <td>Kasmenai</td>\n",
       "      <td>29</td>\n",
       "      <td>37.05</td>\n",
       "      <td>14.50</td>\n",
       "    </tr>\n",
       "    <tr>\n",
       "      <th>30. Katane</th>\n",
       "      <td>(Katanaios) Map  47.  Lat. 37.30,long.  15.05....</td>\n",
       "      <td>Katane</td>\n",
       "      <td>30</td>\n",
       "      <td>37.30</td>\n",
       "      <td>15.05</td>\n",
       "    </tr>\n",
       "    <tr>\n",
       "      <th>31. Kentoripa</th>\n",
       "      <td>(Kentoripinos) Map  47.  Lat. 37.35,long. 14.4...</td>\n",
       "      <td>Kentoripa</td>\n",
       "      <td>31</td>\n",
       "      <td>37.35</td>\n",
       "      <td>14.45</td>\n",
       "    </tr>\n",
       "    <tr>\n",
       "      <th>32. Kephaloidion</th>\n",
       "      <td>(Kephaloiditas) Map  47.  Lat. 38.00, long. 14...</td>\n",
       "      <td>Kephaloidion</td>\n",
       "      <td>32</td>\n",
       "      <td>38.00</td>\n",
       "      <td>14.00</td>\n",
       "    </tr>\n",
       "    <tr>\n",
       "      <th>33. Leontinoi</th>\n",
       "      <td>(Leontinos) Map  47.  Lat. 37.15,long.  15.00....</td>\n",
       "      <td>Leontinoi</td>\n",
       "      <td>33</td>\n",
       "      <td>37.15</td>\n",
       "      <td>15.00</td>\n",
       "    </tr>\n",
       "    <tr>\n",
       "      <th>34. Lipara</th>\n",
       "      <td>(Liparaios) Map  47.  Lat. 38.30  long. 14.55....</td>\n",
       "      <td>Lipara</td>\n",
       "      <td>34</td>\n",
       "      <td>38.30</td>\n",
       "      <td>14.55</td>\n",
       "    </tr>\n",
       "    <tr>\n",
       "      <th>35. *Longane</th>\n",
       "      <td>(Longenaios) Map  47.  Lat. 38.05,long. 15.10....</td>\n",
       "      <td>*Longane</td>\n",
       "      <td>35</td>\n",
       "      <td>38.05</td>\n",
       "      <td>15.10</td>\n",
       "    </tr>\n",
       "    <tr>\n",
       "      <th>36. Megara</th>\n",
       "      <td>(Megareus) Map  47.  Lat. 37.10,long.  15.10. ...</td>\n",
       "      <td>Megara</td>\n",
       "      <td>36</td>\n",
       "      <td>37.10</td>\n",
       "      <td>15.10</td>\n",
       "    </tr>\n",
       "    <tr>\n",
       "      <th>37. Morgantina</th>\n",
       "      <td>(Morgantinos) Map  47.  Lat. 37.25,long. 14.30...</td>\n",
       "      <td>Morgantina</td>\n",
       "      <td>37</td>\n",
       "      <td>37.25</td>\n",
       "      <td>14.30</td>\n",
       "    </tr>\n",
       "    <tr>\n",
       "      <th>38. Mylai</th>\n",
       "      <td>(Mylaios) Map  47.  Lat. 38.15,  long  15.15. ...</td>\n",
       "      <td>Mylai</td>\n",
       "      <td>38</td>\n",
       "      <td>38.15</td>\n",
       "      <td>NaN</td>\n",
       "    </tr>\n",
       "    <tr>\n",
       "      <th>39. Mytistratos</th>\n",
       "      <td>(Mytiseratinos) Map  47.  Lat. 37.35,long. 14....</td>\n",
       "      <td>Mytistratos</td>\n",
       "      <td>39</td>\n",
       "      <td>37.35</td>\n",
       "      <td>14.00</td>\n",
       "    </tr>\n",
       "    <tr>\n",
       "      <th>40. Nakone</th>\n",
       "      <td>(Nakonaios)  Map  47.  Unlocated  (Tegon ( 199...</td>\n",
       "      <td>Nakone</td>\n",
       "      <td>40</td>\n",
       "      <td>NaN</td>\n",
       "      <td>NaN</td>\n",
       "    </tr>\n",
       "    <tr>\n",
       "      <th>41. Naxos</th>\n",
       "      <td>(Naxios) Map  47.  Lat. 37.50,long.  15.15.  S...</td>\n",
       "      <td>Naxos</td>\n",
       "      <td>41</td>\n",
       "      <td>37.50</td>\n",
       "      <td>15.15</td>\n",
       "    </tr>\n",
       "    <tr>\n",
       "      <th>42. Petra</th>\n",
       "      <td>(Petrinos) Map  47.  Unlocated  (cf.  Bejor  (...</td>\n",
       "      <td>Petra</td>\n",
       "      <td>42</td>\n",
       "      <td>NaN</td>\n",
       "      <td>NaN</td>\n",
       "    </tr>\n",
       "    <tr>\n",
       "      <th>43. Piakos</th>\n",
       "      <td>(Piakinos) Map  47.  Unlocated,  but  possibly...</td>\n",
       "      <td>Piakos</td>\n",
       "      <td>43</td>\n",
       "      <td>NaN</td>\n",
       "      <td>NaN</td>\n",
       "    </tr>\n",
       "    <tr>\n",
       "      <th>44. Selinous</th>\n",
       "      <td>(Selinousios) Map  47.  Lat. 37.35,long.  12.5...</td>\n",
       "      <td>Selinous</td>\n",
       "      <td>44</td>\n",
       "      <td>37.35</td>\n",
       "      <td>12.50</td>\n",
       "    </tr>\n",
       "    <tr>\n",
       "      <th>45. (Sileraioi)</th>\n",
       "      <td>Map 47.  Unlocated  (cf.  Manni  ( 1981)  225)...</td>\n",
       "      <td>(Sileraioi)</td>\n",
       "      <td>45</td>\n",
       "      <td>NaN</td>\n",
       "      <td>NaN</td>\n",
       "    </tr>\n",
       "    <tr>\n",
       "      <th>46. (Stielanaioi)</th>\n",
       "      <td>Map 47.  Lat. 37.10,long.  14.55:  the  loca- ...</td>\n",
       "      <td>(Stielanaioi)</td>\n",
       "      <td>46</td>\n",
       "      <td>37.10</td>\n",
       "      <td>14.55</td>\n",
       "    </tr>\n",
       "    <tr>\n",
       "      <th>47. Syrakousai</th>\n",
       "      <td>(Syrakosios) Map  47.  Lat. 37.05,long. 15.15....</td>\n",
       "      <td>Syrakousai</td>\n",
       "      <td>47</td>\n",
       "      <td>37.05</td>\n",
       "      <td>15.15</td>\n",
       "    </tr>\n",
       "    <tr>\n",
       "      <th>48. Tauromenion</th>\n",
       "      <td>(Tauromenitas) Map  47.  Lat. 37.50, long. 15....</td>\n",
       "      <td>Tauromenion</td>\n",
       "      <td>48</td>\n",
       "      <td>37.50</td>\n",
       "      <td>15.15</td>\n",
       "    </tr>\n",
       "    <tr>\n",
       "      <th>49. Tyndaris</th>\n",
       "      <td>(Tyndarites) Map  47.  Lat. 38.10,long.  15.05...</td>\n",
       "      <td>Tyndaris</td>\n",
       "      <td>49</td>\n",
       "      <td>38.10</td>\n",
       "      <td>15.05</td>\n",
       "    </tr>\n",
       "    <tr>\n",
       "      <th>50. (Tyrrhenoi)</th>\n",
       "      <td>Map 47.  Unlocated.  Type:  C: .The  Tyr- rhen...</td>\n",
       "      <td>(Tyrrhenoi)</td>\n",
       "      <td>50</td>\n",
       "      <td>NaN</td>\n",
       "      <td>NaN</td>\n",
       "    </tr>\n",
       "    <tr>\n",
       "      <th>51. Zankle</th>\n",
       "      <td>(Zanklaios)/Messana</td>\n",
       "      <td>Zankle</td>\n",
       "      <td>51</td>\n",
       "      <td>NaN</td>\n",
       "      <td>NaN</td>\n",
       "    </tr>\n",
       "  </tbody>\n",
       "</table>\n",
       "</div>"
      ],
      "text/plain": [
       "                                                        Beschreibung  \\\n",
       "5. Abakainon       (Abakaininos) Map  47.  Lat. 38.05,long. 15.05...   \n",
       "6. Adranon         (Adranites) Map  47.  Lat. 37.40,long.  14.50....   \n",
       "7. Agyrion         (Agyrinaios) Map  47.  Lat. 37.40,long.  14.30...   \n",
       "8. Aitna           (Aitnaios) Map  47.Location  of  Aitna  I  as ...   \n",
       "9. Akragas         (Akragantinos) Map  47.  Lat. 37.20,long.  13....   \n",
       "10. Akrai          (Akraios) Map  47.  Lat. 37.05,long.  14.55.  ...   \n",
       "11. Alaisa         (Alaisinos) Map  47.  Lat. 38.00,long.  14.15....   \n",
       "12. Alontion       (Alontinos) Map  47.  Lat. 38.05,long.  14.40....   \n",
       "13. Apollonia      (Apolloniates) Map  47.  Lat. 38.00,long. 14.3...   \n",
       "14. Engyon         (Engyinos)  Map  47.  Lat. 37.45,long.  14.35....   \n",
       "15. Euboia         (Euboeus)  Map  47.  Unlocated.  Type:  C: .Th...   \n",
       "16. Galeria        (Galarinos) Map  47.Unlocated  (Manni  ( 1981)...   \n",
       "17. Gela           (Geloios,  Geloaios) Map  47.  Lat. 37.05,long...   \n",
       "18. Heloron        (Ailoros) Map  47.  Lat. 36.50,long.  15.05.  ...   \n",
       "19. Henna          (Hennaios) Map  47.  Lat. 37.35,long.  14.15. ...   \n",
       "20. Herakleia 1    (Herakleotes) Map  47.  Lat. 37.25,long. 13.15...   \n",
       "21. Herakleia 2    Map 47.Unlocated  site  in  western  Sicily, i...   \n",
       "22. Herbes(s)os    (Herbessinos) Map  47.  Unlocated,  but presum...   \n",
       "23. Herbita        (Herbitaios) Map  47.Unlocated  (cf.  C.  Boeh...   \n",
       "24. Himera         (Himeraios) Map  47.  Lat. 37.55,long.  13.50....   \n",
       "25. Hippana        (Hipanatas)  Map  47.  Lat. 37.40,long.  13.25...   \n",
       "26 *Imachara       (Imacharaios) Map  47.  Unlocated.  Barr. tent...   \n",
       "27. Kallipolis     (Kallipolites)  Map  47.  Unlocated.  Type:  A...   \n",
       "28. Kamarina       (Kamarinaios) Map  47.  Lat. 36.50,long. 14.25...   \n",
       "29. Kasmenai       (Kasmenaios) Map  47.  Lat. 37.05,long. 14.50....   \n",
       "30. Katane         (Katanaios) Map  47.  Lat. 37.30,long.  15.05....   \n",
       "31. Kentoripa      (Kentoripinos) Map  47.  Lat. 37.35,long. 14.4...   \n",
       "32. Kephaloidion   (Kephaloiditas) Map  47.  Lat. 38.00, long. 14...   \n",
       "33. Leontinoi      (Leontinos) Map  47.  Lat. 37.15,long.  15.00....   \n",
       "34. Lipara         (Liparaios) Map  47.  Lat. 38.30  long. 14.55....   \n",
       "35. *Longane       (Longenaios) Map  47.  Lat. 38.05,long. 15.10....   \n",
       "36. Megara         (Megareus) Map  47.  Lat. 37.10,long.  15.10. ...   \n",
       "37. Morgantina     (Morgantinos) Map  47.  Lat. 37.25,long. 14.30...   \n",
       "38. Mylai          (Mylaios) Map  47.  Lat. 38.15,  long  15.15. ...   \n",
       "39. Mytistratos    (Mytiseratinos) Map  47.  Lat. 37.35,long. 14....   \n",
       "40. Nakone         (Nakonaios)  Map  47.  Unlocated  (Tegon ( 199...   \n",
       "41. Naxos          (Naxios) Map  47.  Lat. 37.50,long.  15.15.  S...   \n",
       "42. Petra          (Petrinos) Map  47.  Unlocated  (cf.  Bejor  (...   \n",
       "43. Piakos         (Piakinos) Map  47.  Unlocated,  but  possibly...   \n",
       "44. Selinous       (Selinousios) Map  47.  Lat. 37.35,long.  12.5...   \n",
       "45. (Sileraioi)    Map 47.  Unlocated  (cf.  Manni  ( 1981)  225)...   \n",
       "46. (Stielanaioi)  Map 47.  Lat. 37.10,long.  14.55:  the  loca- ...   \n",
       "47. Syrakousai     (Syrakosios) Map  47.  Lat. 37.05,long. 15.15....   \n",
       "48. Tauromenion    (Tauromenitas) Map  47.  Lat. 37.50, long. 15....   \n",
       "49. Tyndaris       (Tyndarites) Map  47.  Lat. 38.10,long.  15.05...   \n",
       "50. (Tyrrhenoi)    Map 47.  Unlocated.  Type:  C: .The  Tyr- rhen...   \n",
       "51. Zankle                                      (Zanklaios)/Messana    \n",
       "\n",
       "                            city  city_index  Latitude  Longitude  \n",
       "5. Abakainon           bakainon            5     38.05      15.05  \n",
       "6. Adranon               dranon            6     37.40      14.50  \n",
       "7. Agyrion               gyrion            7     37.40      14.30  \n",
       "8. Aitna                   itna            8       NaN        NaN  \n",
       "9. Akragas               kragas            9     37.20      13.35  \n",
       "10. Akrai                 Akrai           10     37.05      14.55  \n",
       "11. Alaisa               Alaisa           11     38.00      14.15  \n",
       "12. Alontion           Alontion           12     38.05      14.40  \n",
       "13. Apollonia         Apollonia           13     38.00      14.35  \n",
       "14. Engyon               Engyon           14     37.45      14.35  \n",
       "15. Euboia               Euboia           15       NaN        NaN  \n",
       "16. Galeria             Galeria           16       NaN        NaN  \n",
       "17. Gela                   Gela           17     37.05      14.15  \n",
       "18. Heloron             Heloron           18     36.50      15.05  \n",
       "19. Henna                 Henna           19     37.35      14.15  \n",
       "20. Herakleia 1      Herakleia 1          20     37.25      13.15  \n",
       "21. Herakleia 2     Herakleia 2           21       NaN        NaN  \n",
       "22. Herbes(s)os     Herbes(s)os           22       NaN        NaN  \n",
       "23. Herbita             Herbita           23       NaN        NaN  \n",
       "24. Himera               Himera           24     37.55      13.50  \n",
       "25. Hippana             Hippana           25     37.40      13.25  \n",
       "26 *Imachara           Imachara           26       NaN      14.20  \n",
       "27. Kallipolis       Kallipolis           27       NaN        NaN  \n",
       "28. Kamarina           Kamarina           28     36.50      14.25  \n",
       "29. Kasmenai           Kasmenai           29     37.05      14.50  \n",
       "30. Katane               Katane           30     37.30      15.05  \n",
       "31. Kentoripa         Kentoripa           31     37.35      14.45  \n",
       "32. Kephaloidion   Kephaloidion           32     38.00      14.00  \n",
       "33. Leontinoi         Leontinoi           33     37.15      15.00  \n",
       "34. Lipara               Lipara           34     38.30      14.55  \n",
       "35. *Longane           *Longane           35     38.05      15.10  \n",
       "36. Megara               Megara           36     37.10      15.10  \n",
       "37. Morgantina       Morgantina           37     37.25      14.30  \n",
       "38. Mylai                 Mylai           38     38.15        NaN  \n",
       "39. Mytistratos     Mytistratos           39     37.35      14.00  \n",
       "40. Nakone               Nakone           40       NaN        NaN  \n",
       "41. Naxos                 Naxos           41     37.50      15.15  \n",
       "42. Petra                 Petra           42       NaN        NaN  \n",
       "43. Piakos               Piakos           43       NaN        NaN  \n",
       "44. Selinous           Selinous           44     37.35      12.50  \n",
       "45. (Sileraioi)      (Sileraioi)          45       NaN        NaN  \n",
       "46. (Stielanaioi)  (Stielanaioi)          46     37.10      14.55  \n",
       "47. Syrakousai       Syrakousai           47     37.05      15.15  \n",
       "48. Tauromenion     Tauromenion           48     37.50      15.15  \n",
       "49. Tyndaris           Tyndaris           49     38.10      15.05  \n",
       "50. (Tyrrhenoi)      (Tyrrhenoi)          50       NaN        NaN  \n",
       "51. Zankle               Zankle           51       NaN        NaN  "
      ]
     },
     "execution_count": 20,
     "metadata": {},
     "output_type": "execute_result"
    }
   ],
   "source": [
    "dfPoleis"
   ]
  },
  {
   "cell_type": "markdown",
   "metadata": {},
   "source": [
    "### Zitatnachweise, Namen, Jahreszahlen"
   ]
  },
  {
   "cell_type": "code",
   "execution_count": 21,
   "metadata": {
    "collapsed": false
   },
   "outputs": [
    {
     "data": {
      "text/plain": [
       "'(Abakaininos) Map  47.  Lat. 38.05,long. 15.05.  Size  of  territory:  ?  Type:  B: .  The  toponym  is ,  (Diod. 14.90.3)  or  ,  (Diod. 19.65.6;  Steph.  Byz. 2.11).  The  city-ethnic  is   (C 4s  coins,  infra;Diod. 14.78.5;  Steph.  Byz. 2.15). Abakainon  is  called  a  polis  in  the  urban  and  political  sens- es  at  Diod. 14.90.3  (r 393)  and  19.65.6  (r 315),  and  in  the  urban sense  at  14.90.4  (r 393).  The  passage  at  14.90.3  describes  it  as  a polis  symmachis  of  Magon,  and  in  a  later  period  it  was  part  of the  symmachia  of  Agathokles,  alongside  such  poleis  as Kamarina,  Leontinoi,  Katane  and  Messana  (Diod. 19.65.6 (r 315),  19.110.4  (r 311)).  The  internal  collective  use  of  the  city- ethnic  is  found  on  coins  struck  c. 400  (infra),  and  the  exter- nal  collective use  is  found  in  Diod. 19.110.4  (r 311). In 396,  Dionysios  I  deprived  Abakainon  of  a  part  of  its chora,  which  was  handed  over  to  his  new  foundation, Tyndaris  (no. 49;Diod.  14.77.5).  Abakainon  was  situated south-east  of  Tyndaris,  at  modern  Tripi.  The  ancient  city, destroyed  by  the  modern,  is  poorly  known.  However, Diodorus\\'  report  ( 14.90.3)  that  in  393  Carthaginian  troops ²²  For  an  analysis  of  the  conflicts,  see  Manni  ( 1976a)  201\\xad4. 182 fischer-hansen,  nielsen  and  ampolo defeated  by  Dionysios  took  refuge  in  the  city  (  ) suggests that by this date it was fortified.  There are  sporadic  Greek  remains  from  C 6,  and  substantial  Greek remains  from  C 4  (Villard  ( 1954));  the  investigation  of  the extensive  cemetery  north  of  the  city  has  brought  to  light  also monumental  C 4  tombs  of  the  type  known  from  Leontinoi (Bacci  and  Spigo  ( 1997\\xad98));  the  city  minted  a  Greek-style coinage  from  C 5m  (infra). Abakainon  struck  silver  coins  (litra,  hemilitron)  from c.C 5m:  obv.  laureate  head,  bearded  (an  indigenous  god assimilated  to  Zeus)  or  beardless  (assimilated  to  Apollo),  or, on  later  coinage,  female  head  (nymph,  or  Demeter  or Persephone);  rev.  wild  boar  and  acorn,  at  times  a  grain  of barley  or  sow  and  piglet,  legend: ,  (above acorn)  (below), (on  obv.) (on  rev.), (Head,  HN ²  118;  Bertino  ( 1975);  SNG Cop.  Sicily 1\\xad6).  In  C 4s,  the  city  struck  in  bronze:  ( 1) Probably  from  the  time  of  Timoleon:  obv.  female  head;  rev. forepart  of  bull,  or  forepart  of  man-headed  bull,  legend: ,  [],  (Head, HN ²  118;  Bertino  ( 1975)  124\\xad26;  SNG  Cop.  Sicily 7);  ( 2) c. 344\\xad338:  obv.  head  of  Dioskouros,  legend: ;  rev.\"free horse\",  legend: ;  the  obv.  type  may  indicate  influence from  the  mint  of  Tyndaris  or,  more  generally,  from  southern Italy  (Bertino  ( 1975)  124\\xad26).'"
      ]
     },
     "execution_count": 21,
     "metadata": {},
     "output_type": "execute_result"
    }
   ],
   "source": [
    "dfPoleis[\"Beschreibung\"].iloc[0]"
   ]
  },
  {
   "cell_type": "markdown",
   "metadata": {},
   "source": [
    "## Muster (Pattern) zur Erkennung der Literaturreferenzen\n",
    "\n",
    "- Primärquellen\n",
    "\n",
    "(Polyb. 1.18.2)\n",
    "(Diod. 13.85.4  (r 406))\n",
    "(Diod. 13.108.2)\n",
    "(Hdt. 7.165;  IGDS  no. 182a)\n",
    "(Pind.  Pyth. 6)\n",
    "(Thuc. 6.4.4: µµ  )\n",
    "(Xanthos  (FGrHist 765)  fr. 33;  Arist.  fr. 865)\n",
    "\n",
    "- Sekundärquellen\n",
    "\n",
    "(Karlsson  ( 1995)  161\n",
    "(Waele  ( 1971) 195\\xad99;  Hinz  ( 1998)  79\\xad90)\n",
    "\n",
    "- Jahreszahlen\n",
    "( dddd)"
   ]
  },
  {
   "cell_type": "code",
   "execution_count": 22,
   "metadata": {
    "collapsed": false
   },
   "outputs": [],
   "source": [
    "# Definiere Funktion die reguläre Ausdrücke auf den DataFrame anwendet.\n",
    "def ListePatternFull(value,pattern):\n",
    "    x = re.findall(pattern, value)\n",
    "    if x:\n",
    "        return(x)"
   ]
  },
  {
   "cell_type": "markdown",
   "metadata": {},
   "source": [
    "### Testen der regulären Ausdrücke"
   ]
  },
  {
   "cell_type": "code",
   "execution_count": 23,
   "metadata": {
    "collapsed": false
   },
   "outputs": [
    {
     "data": {
      "text/plain": [
       "'(Abakaininos) Map  47.  Lat. 38.05,long. 15.05.  Size  of  territory:  ?  Type:  B: .  The  toponym  is ,  (Diod. 14.90.3)  or  ,  (Diod. 19.65.6;  Steph.  Byz. 2.11).  The  city-ethnic  is   (C 4s  coins,  infra;Diod. 14.78.5;  Steph.  Byz. 2.15). Abakainon  is  called  a  polis  in  the  urban  and  political  sens- es  at  Diod. 14.90.3  (r 393)  and  19.65.6  (r 315),  and  in  the  urban sense  at  14.90.4  (r 393).  The  passage  at  14.90.3  describes  it  as  a polis  symmachis  of  Magon,  and  in  a  later  period  it  was  part  of the  symmachia  of  Agathokles,  alongside  such  poleis  as Kamarina,  Leontinoi,  Katane  and  Messana  (Diod. 19.65.6 (r 315),  19.110.4  (r 311)).  The  internal  collective  use  of  the  city- ethnic  is  found  on  coins  struck  c. 400  (infra),  and  the  exter- nal  collective use  is  found  in  Diod. 19.110.4  (r 311). In 396,  Dionysios  I  deprived  Abakainon  of  a  part  of  its chora,  which  was  handed  over  to  his  new  foundation, Tyndaris  (no. 49;Diod.  14.77.5).  Abakainon  was  situated south-east  of  Tyndaris,  at  modern  Tripi.  The  ancient  city, destroyed  by  the  modern,  is  poorly  known.  However, Diodorus\\'  report  ( 14.90.3)  that  in  393  Carthaginian  troops ²²  For  an  analysis  of  the  conflicts,  see  Manni  ( 1976a)  201\\xad4. 182 fischer-hansen,  nielsen  and  ampolo defeated  by  Dionysios  took  refuge  in  the  city  (  ) suggests that by this date it was fortified.  There are  sporadic  Greek  remains  from  C 6,  and  substantial  Greek remains  from  C 4  (Villard  ( 1954));  the  investigation  of  the extensive  cemetery  north  of  the  city  has  brought  to  light  also monumental  C 4  tombs  of  the  type  known  from  Leontinoi (Bacci  and  Spigo  ( 1997\\xad98));  the  city  minted  a  Greek-style coinage  from  C 5m  (infra). Abakainon  struck  silver  coins  (litra,  hemilitron)  from c.C 5m:  obv.  laureate  head,  bearded  (an  indigenous  god assimilated  to  Zeus)  or  beardless  (assimilated  to  Apollo),  or, on  later  coinage,  female  head  (nymph,  or  Demeter  or Persephone);  rev.  wild  boar  and  acorn,  at  times  a  grain  of barley  or  sow  and  piglet,  legend: ,  (above acorn)  (below), (on  obv.) (on  rev.), (Head,  HN ²  118;  Bertino  ( 1975);  SNG Cop.  Sicily 1\\xad6).  In  C 4s,  the  city  struck  in  bronze:  ( 1) Probably  from  the  time  of  Timoleon:  obv.  female  head;  rev. forepart  of  bull,  or  forepart  of  man-headed  bull,  legend: ,  [],  (Head, HN ²  118;  Bertino  ( 1975)  124\\xad26;  SNG  Cop.  Sicily 7);  ( 2) c. 344\\xad338:  obv.  head  of  Dioskouros,  legend: ;  rev.\"free horse\",  legend: ;  the  obv.  type  may  indicate  influence from  the  mint  of  Tyndaris  or,  more  generally,  from  southern Italy  (Bertino  ( 1975)  124\\xad26).'"
      ]
     },
     "execution_count": 23,
     "metadata": {},
     "output_type": "execute_result"
    }
   ],
   "source": [
    "dfPoleis['Beschreibung'].iloc[0]"
   ]
  },
  {
   "cell_type": "markdown",
   "metadata": {},
   "source": [
    "Finde alle groß-geschriebenen Wörter mit mindestens 3 nachfolgenden kleinen Buchstaben."
   ]
  },
  {
   "cell_type": "code",
   "execution_count": 24,
   "metadata": {
    "collapsed": false
   },
   "outputs": [
    {
     "data": {
      "text/plain": [
       "['Abakaininos',\n",
       " 'Size',\n",
       " 'Type',\n",
       " 'Diod',\n",
       " 'Diod',\n",
       " 'Steph',\n",
       " 'Diod',\n",
       " 'Steph',\n",
       " 'Abakainon',\n",
       " 'Diod',\n",
       " 'Magon',\n",
       " 'Agathokles',\n",
       " 'Kamarina',\n",
       " 'Leontinoi',\n",
       " 'Katane',\n",
       " 'Messana',\n",
       " 'Diod',\n",
       " 'Diod',\n",
       " 'Dionysios',\n",
       " 'Abakainon',\n",
       " 'Tyndaris',\n",
       " 'Diod',\n",
       " 'Abakainon',\n",
       " 'Tyndaris',\n",
       " 'Tripi',\n",
       " 'However',\n",
       " 'Diodorus',\n",
       " 'Carthaginia',\n",
       " 'Manni',\n",
       " 'Dionysios',\n",
       " 'There',\n",
       " 'Greek',\n",
       " 'Greek',\n",
       " 'Villard',\n",
       " 'Leontinoi',\n",
       " 'Bacci',\n",
       " 'Spigo',\n",
       " 'Greek',\n",
       " 'Abakainon',\n",
       " 'Zeus',\n",
       " 'Apollo',\n",
       " 'Demeter',\n",
       " 'Persephone',\n",
       " 'Head',\n",
       " 'Bertino',\n",
       " 'Sicily',\n",
       " 'Probably',\n",
       " 'Timoleon',\n",
       " 'Head',\n",
       " 'Bertino',\n",
       " 'Sicily',\n",
       " 'Dioskouros',\n",
       " 'Tyndaris',\n",
       " 'Italy',\n",
       " 'Bertino']"
      ]
     },
     "execution_count": 24,
     "metadata": {},
     "output_type": "execute_result"
    }
   ],
   "source": [
    "re.findall('[A-Z][a-z]{3,10}',dfPoleis['Beschreibung'].iloc[0])"
   ]
  },
  {
   "cell_type": "markdown",
   "metadata": {},
   "source": [
    "Finde alle Ausdrücke wie oben, denen ein Punkt folgt, mit anschließenden Zifferfolgen der Form [Ziffern][Punkt][Ziffern][Punkt][Ziffern]"
   ]
  },
  {
   "cell_type": "code",
   "execution_count": 25,
   "metadata": {
    "collapsed": false
   },
   "outputs": [
    {
     "data": {
      "text/plain": [
       "['Diod. 14.90.3',\n",
       " 'Diod. 19.65.6',\n",
       " 'Diod. 14.78.5',\n",
       " 'Diod. 14.90.3',\n",
       " 'Diod. 19.65.6',\n",
       " 'Diod. 19.110.4']"
      ]
     },
     "execution_count": 25,
     "metadata": {},
     "output_type": "execute_result"
    }
   ],
   "source": [
    "re.findall('[A-Z][a-z]{1,10}\\. \\d{1,3}\\.\\d{1,3}\\.\\d{1,3}',dfPoleis['Beschreibung'].iloc[0])"
   ]
  },
  {
   "cell_type": "markdown",
   "metadata": {},
   "source": [
    "Finde alle Ausdrücke wie oben, wobei statt des Punktes nach den kleinen Buchstaben auch zwei Leerzeichen und eine runde Klammer folgen können"
   ]
  },
  {
   "cell_type": "code",
   "execution_count": 26,
   "metadata": {
    "collapsed": false
   },
   "outputs": [
    {
     "data": {
      "text/plain": [
       "['Diod. 14.90.3',\n",
       " 'Diod. 19.65.6',\n",
       " 'Diod. 14.78.5',\n",
       " 'Diod. 14.90.3',\n",
       " 'Diod. 19.65.6',\n",
       " 'Diod. 19.110.4',\n",
       " 'Manni  ( 1976',\n",
       " 'Villard  ( 1954)',\n",
       " 'Spigo  ( 1997',\n",
       " 'Bertino  ( 1975)',\n",
       " 'Bertino  ( 1975)',\n",
       " 'Bertino  ( 1975)']"
      ]
     },
     "execution_count": 26,
     "metadata": {},
     "output_type": "execute_result"
    }
   ],
   "source": [
    "re.findall('[A-Z][a-z]{1,10}[\\.| ] [(|\\d{0,4}][\\d{1,4}| ][\\.|\\d{}]\\d{1,3}[\\.|\\d][\\d|)]',dfPoleis['Beschreibung'].iloc[0])"
   ]
  },
  {
   "cell_type": "code",
   "execution_count": 27,
   "metadata": {
    "collapsed": false
   },
   "outputs": [],
   "source": [
    "#Alternativ kann man auch Gruppen definieren zB. (A(B|C)) \n",
    "#re.findall('([A-Z][a-z]{1,10}(\\. \\d{1,3}\\.\\d{1,3}\\.\\d{1,3}|\\s{2}\\(\\s\\d{4}))',dfPoleis['Beschreibung'].iloc[0])"
   ]
  },
  {
   "cell_type": "code",
   "execution_count": 28,
   "metadata": {
    "collapsed": false
   },
   "outputs": [],
   "source": [
    "dfPoleis['Namen'] = dfPoleis['Beschreibung'].apply(ListePatternFull,pattern=('[A-Z][a-z]{3,10}'))"
   ]
  },
  {
   "cell_type": "code",
   "execution_count": 29,
   "metadata": {
    "collapsed": true
   },
   "outputs": [],
   "source": [
    "dfPoleis['Quellen'] = dfPoleis['Beschreibung'].apply(ListePatternFull,pattern=('[A-Z][a-z]{1,10}[\\.| ] [(|\\d{0,4}][\\d{1,4}| ][\\.|\\d{}]\\d{1,3}[\\.|\\d][\\d|)]'))"
   ]
  },
  {
   "cell_type": "code",
   "execution_count": 30,
   "metadata": {
    "collapsed": false
   },
   "outputs": [
    {
     "data": {
      "text/html": [
       "<div>\n",
       "<table border=\"1\" class=\"dataframe\">\n",
       "  <thead>\n",
       "    <tr style=\"text-align: right;\">\n",
       "      <th></th>\n",
       "      <th>Beschreibung</th>\n",
       "      <th>city</th>\n",
       "      <th>city_index</th>\n",
       "      <th>Latitude</th>\n",
       "      <th>Longitude</th>\n",
       "      <th>Namen</th>\n",
       "      <th>Quellen</th>\n",
       "    </tr>\n",
       "  </thead>\n",
       "  <tbody>\n",
       "    <tr>\n",
       "      <th>5. Abakainon</th>\n",
       "      <td>(Abakaininos) Map  47.  Lat. 38.05,long. 15.05...</td>\n",
       "      <td>bakainon</td>\n",
       "      <td>5</td>\n",
       "      <td>38.05</td>\n",
       "      <td>15.05</td>\n",
       "      <td>[Abakaininos, Size, Type, Diod, Diod, Steph, D...</td>\n",
       "      <td>[Diod. 14.90.3, Diod. 19.65.6, Diod. 14.78.5, ...</td>\n",
       "    </tr>\n",
       "    <tr>\n",
       "      <th>6. Adranon</th>\n",
       "      <td>(Adranites) Map  47.  Lat. 37.40,long.  14.50....</td>\n",
       "      <td>dranon</td>\n",
       "      <td>6</td>\n",
       "      <td>37.40</td>\n",
       "      <td>14.50</td>\n",
       "      <td>[Adranites, Size, Type, Diod, Steph, Diod, Adr...</td>\n",
       "      <td>[Diod. 14.37.5, Diod. 16.68.9, Diod. 14.37.5, ...</td>\n",
       "    </tr>\n",
       "    <tr>\n",
       "      <th>7. Agyrion</th>\n",
       "      <td>(Agyrinaios) Map  47.  Lat. 37.40,long.  14.30...</td>\n",
       "      <td>gyrion</td>\n",
       "      <td>7</td>\n",
       "      <td>37.40</td>\n",
       "      <td>14.30</td>\n",
       "      <td>[Agyrinaios, Size, Type, Diod, Ptol, Geog, Ste...</td>\n",
       "      <td>[Byz. 23.19), Diod. 16.82.4, Moggi  ( 1976), D...</td>\n",
       "    </tr>\n",
       "    <tr>\n",
       "      <th>8. Aitna</th>\n",
       "      <td>(Aitnaios) Map  47.Location  of  Aitna  I  as ...</td>\n",
       "      <td>itna</td>\n",
       "      <td>8</td>\n",
       "      <td>NaN</td>\n",
       "      <td>NaN</td>\n",
       "      <td>[Aitnaios, Location, Aitna, Katane, Aitna, Dio...</td>\n",
       "      <td>[Diod. 11.49.1, Diod. 11.49.1, Diod. 11.66.4, ...</td>\n",
       "    </tr>\n",
       "  </tbody>\n",
       "</table>\n",
       "</div>"
      ],
      "text/plain": [
       "                                                    Beschreibung       city  \\\n",
       "5. Abakainon   (Abakaininos) Map  47.  Lat. 38.05,long. 15.05...  bakainon    \n",
       "6. Adranon     (Adranites) Map  47.  Lat. 37.40,long.  14.50....    dranon    \n",
       "7. Agyrion     (Agyrinaios) Map  47.  Lat. 37.40,long.  14.30...    gyrion    \n",
       "8. Aitna       (Aitnaios) Map  47.Location  of  Aitna  I  as ...      itna    \n",
       "\n",
       "               city_index  Latitude  Longitude  \\\n",
       "5. Abakainon            5     38.05      15.05   \n",
       "6. Adranon              6     37.40      14.50   \n",
       "7. Agyrion              7     37.40      14.30   \n",
       "8. Aitna                8       NaN        NaN   \n",
       "\n",
       "                                                           Namen  \\\n",
       "5. Abakainon   [Abakaininos, Size, Type, Diod, Diod, Steph, D...   \n",
       "6. Adranon     [Adranites, Size, Type, Diod, Steph, Diod, Adr...   \n",
       "7. Agyrion     [Agyrinaios, Size, Type, Diod, Ptol, Geog, Ste...   \n",
       "8. Aitna       [Aitnaios, Location, Aitna, Katane, Aitna, Dio...   \n",
       "\n",
       "                                                         Quellen  \n",
       "5. Abakainon   [Diod. 14.90.3, Diod. 19.65.6, Diod. 14.78.5, ...  \n",
       "6. Adranon     [Diod. 14.37.5, Diod. 16.68.9, Diod. 14.37.5, ...  \n",
       "7. Agyrion     [Byz. 23.19), Diod. 16.82.4, Moggi  ( 1976), D...  \n",
       "8. Aitna       [Diod. 11.49.1, Diod. 11.49.1, Diod. 11.66.4, ...  "
      ]
     },
     "execution_count": 30,
     "metadata": {},
     "output_type": "execute_result"
    }
   ],
   "source": [
    "dfPoleis.head(4)"
   ]
  },
  {
   "cell_type": "code",
   "execution_count": 31,
   "metadata": {
    "collapsed": false
   },
   "outputs": [],
   "source": [
    "#dfBesp = dfPoleis['Beschreibung'].str.replace('(','\\n(').str.replace(')',')\\n')"
   ]
  },
  {
   "cell_type": "code",
   "execution_count": 32,
   "metadata": {
    "collapsed": false
   },
   "outputs": [],
   "source": [
    "#print(dfBesp.iloc[0])"
   ]
  },
  {
   "cell_type": "markdown",
   "metadata": {},
   "source": [
    "## Muster zur Erkennung von Namen\n",
    "\n",
    "Empedokles  ( 496)\n",
    "Theron  ( 476)\n",
    "Timoleon  c. 338"
   ]
  },
  {
   "cell_type": "code",
   "execution_count": 33,
   "metadata": {
    "collapsed": true
   },
   "outputs": [],
   "source": [
    "# MALTE: RE für die Primärquellen; Sekundärquellen; Namen entwickeln und an df anhängen."
   ]
  }
 ],
 "metadata": {
  "anaconda-cloud": {},
  "kernelspec": {
   "display_name": "Python 3",
   "language": "python",
   "name": "python3"
  },
  "language_info": {
   "codemirror_mode": {
    "name": "ipython",
    "version": 3
   },
   "file_extension": ".py",
   "mimetype": "text/x-python",
   "name": "python",
   "nbconvert_exporter": "python",
   "pygments_lexer": "ipython3",
   "version": "3.5.2"
  },
  "latex_envs": {
   "bibliofile": "biblio.bib",
   "cite_by": "apalike",
   "current_citInitial": 1,
   "eqLabelWithNumbers": true,
   "eqNumInitial": 0
  },
  "nav_menu": {},
  "toc": {
   "navigate_menu": true,
   "number_sections": true,
   "sideBar": true,
   "threshold": 6,
   "toc_cell": false,
   "toc_section_display": "block",
   "toc_window_display": false
  }
 },
 "nbformat": 4,
 "nbformat_minor": 0
}

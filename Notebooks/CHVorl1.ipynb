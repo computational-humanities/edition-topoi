{
 "cells": [
  {
   "cell_type": "markdown",
   "metadata": {},
   "source": [
    "# Vorlesung 1: Individuum und Art\n",
    "\n",
    "## Wissenschaftssprache der Forschungsdomäne\n"
   ]
  },
  {
   "cell_type": "markdown",
   "metadata": {},
   "source": [
    "## Hybride Forschungspublikation von wissenschaftlichen Narrativen\n",
    "\n",
    "Notebooks in Jupyter\n",
    "\n",
    "http://jupyter.org/\n",
    "\n",
    "Lokale Installation des gesamten Pakets\n",
    "\n",
    "https://www.continuum.io/downloads"
   ]
  },
  {
   "cell_type": "markdown",
   "metadata": {},
   "source": [
    "\n",
    "## Python: Sprache für computational humanities\n",
    "\n",
    "Vorlesung:\n",
    "https://computational-humanities.github.io/vorlesung/\n",
    "\n",
    "Tutorial:\n",
    " - https://py-tutorial-de.readthedocs.io/de/python-3.3/index.html\n",
    "Lectures:\n",
    " - https://github.com/rajathkumarmp/Python-Lectures\n",
    " - https://www.hdm-stuttgart.de/~maucher/Python/html/"
   ]
  },
  {
   "cell_type": "markdown",
   "metadata": {},
   "source": [
    "## Grundelemente der Sprache\n",
    "### Module und Bibliotheken deklarieren\n",
    "https://www.hdm-stuttgart.de/~maucher/Python/html/Module.html"
   ]
  },
  {
   "cell_type": "code",
   "execution_count": 1,
   "metadata": {
    "collapsed": false
   },
   "outputs": [],
   "source": [
    "# importieren von Modulen/Bibliotheken"
   ]
  },
  {
   "cell_type": "markdown",
   "metadata": {},
   "source": [
    "### Objekte"
   ]
  },
  {
   "cell_type": "markdown",
   "metadata": {},
   "source": [
    "#### Typen von Daten\n",
    "https://www.hdm-stuttgart.de/~maucher/Python/html/Datentypen.html"
   ]
  },
  {
   "cell_type": "code",
   "execution_count": 2,
   "metadata": {
    "collapsed": false
   },
   "outputs": [
    {
     "data": {
      "text/plain": [
       "{'eins': 1, 'zwei': 2}"
      ]
     },
     "execution_count": 2,
     "metadata": {},
     "output_type": "execute_result"
    }
   ],
   "source": [
    "# strings\n",
    "\"Dieses ist eine Zeichenfolge\"\n",
    "'Auch dieses ist eine Zeichenfolge'\n",
    "# number\n",
    "2.12\n",
    "# Liste\n",
    "[\"Zeichen1\",\"Z2\",\"Z3\"]\n",
    "# dictionaries\n",
    "{\"eins\":1,\"zwei\":2}"
   ]
  },
  {
   "cell_type": "markdown",
   "metadata": {},
   "source": [
    "### Variablen als Namen\n",
    "\"=\" als Zuordnung"
   ]
  },
  {
   "cell_type": "code",
   "execution_count": 3,
   "metadata": {
    "collapsed": false
   },
   "outputs": [],
   "source": [
    "# strings\n",
    "a=\"Dieses ist eine Zeichenfolge\"\n",
    "# number\n",
    "b=2.12\n",
    "# Liste\n",
    "c=[\"Zeichen1\",\"Z2\",\"Z3\"]\n",
    "# dictionaries\n",
    "d={\"eins\":1,\"zwei\":2}"
   ]
  },
  {
   "cell_type": "code",
   "execution_count": 4,
   "metadata": {
    "collapsed": false
   },
   "outputs": [
    {
     "name": "stdout",
     "output_type": "stream",
     "text": [
      "{'zwei': 2, 'eins': 1}\n"
     ]
    }
   ],
   "source": [
    "print(d)"
   ]
  },
  {
   "cell_type": "code",
   "execution_count": 5,
   "metadata": {
    "collapsed": false
   },
   "outputs": [
    {
     "data": {
      "text/plain": [
       "7"
      ]
     },
     "execution_count": 5,
     "metadata": {},
     "output_type": "execute_result"
    }
   ],
   "source": [
    "a.count(\"e\")"
   ]
  },
  {
   "cell_type": "code",
   "execution_count": 6,
   "metadata": {
    "collapsed": false
   },
   "outputs": [
    {
     "data": {
      "text/plain": [
       "True"
      ]
     },
     "execution_count": 6,
     "metadata": {},
     "output_type": "execute_result"
    }
   ],
   "source": [
    "\"ie\" in a"
   ]
  },
  {
   "cell_type": "markdown",
   "metadata": {},
   "source": [
    "### Funktionen"
   ]
  },
  {
   "cell_type": "code",
   "execution_count": 7,
   "metadata": {
    "collapsed": false
   },
   "outputs": [
    {
     "data": {
      "text/plain": [
       "3"
      ]
     },
     "execution_count": 7,
     "metadata": {},
     "output_type": "execute_result"
    }
   ],
   "source": [
    "len(c)"
   ]
  },
  {
   "cell_type": "markdown",
   "metadata": {
    "code_folding": []
   },
   "source": [
    "### Methoden der Objekte"
   ]
  },
  {
   "cell_type": "code",
   "execution_count": 8,
   "metadata": {
    "collapsed": false
   },
   "outputs": [
    {
     "data": {
      "text/plain": [
       "1"
      ]
     },
     "execution_count": 8,
     "metadata": {},
     "output_type": "execute_result"
    }
   ],
   "source": [
    "# nutzen Sie TAB, um nach dem Punkt die zulässigen Methoden anzuzeigen\n",
    "d[\"eins\"]"
   ]
  },
  {
   "cell_type": "code",
   "execution_count": 9,
   "metadata": {
    "collapsed": false
   },
   "outputs": [
    {
     "data": {
      "text/plain": [
       "['Z2', 'Z3', 'Zeichen1']"
      ]
     },
     "execution_count": 9,
     "metadata": {},
     "output_type": "execute_result"
    }
   ],
   "source": [
    "c.sort()\n",
    "c"
   ]
  },
  {
   "cell_type": "markdown",
   "metadata": {},
   "source": [
    "### Kontrollstrukturen der Verfahrensabläufe\n",
    "https://www.hdm-stuttgart.de/~maucher/Python/html/Kontrollstrukturen.html\n",
    "#### Iteratoren"
   ]
  },
  {
   "cell_type": "markdown",
   "metadata": {},
   "source": [
    "# Arten von Individuen: Dataframes"
   ]
  },
  {
   "cell_type": "code",
   "execution_count": 10,
   "metadata": {
    "collapsed": false
   },
   "outputs": [],
   "source": [
    "import json\n",
    "import pandas as pd\n",
    "import re"
   ]
  },
  {
   "cell_type": "code",
   "execution_count": 11,
   "metadata": {
    "collapsed": false
   },
   "outputs": [],
   "source": [
    "with open('chapter1.json') as json_data:\n",
    "    PoleisRawData = json.load(json_data)\n",
    "PoleisKeyList = list(PoleisRawData)\n"
   ]
  },
  {
   "cell_type": "code",
   "execution_count": 12,
   "metadata": {
    "collapsed": false
   },
   "outputs": [
    {
     "data": {
      "text/plain": [
       "dict_keys(['19. Henna ', '6. Adranon ', '50. (Tyrrhenoi)', '34. Lipara ', '30. Katane ', '41. Naxos ', '33. Leontinoi ', '48. Tauromenion ', '26 *Imachara ', '22. Herbes(s)os ', '38. Mylai ', '51. Zankle ', '25. Hippana ', '43. Piakos ', '29. Kasmenai ', '9. Akragas ', '31. Kentoripa ', '49. Tyndaris ', '46. (Stielanaioi)', '35. *Longane ', '8. Aitna ', '36. Megara ', '5. Abakainon ', '7. Agyrion ', '37. Morgantina ', '24. Himera ', '40. Nakone ', '14. Engyon ', '20. Herakleia 1', '47. Syrakousai ', '15. Euboia ', '18. Heloron ', '21. Herakleia 2 ', '27. Kallipolis ', '10. Akrai ', '12. Alontion ', '11. Alaisa ', '32. Kephaloidion ', '45. (Sileraioi)', '17. Gela ', '23. Herbita ', '44. Selinous ', '16. Galeria ', '39. Mytistratos ', '13. Apollonia ', '28. Kamarina ', '42. Petra '])"
      ]
     },
     "execution_count": 12,
     "metadata": {},
     "output_type": "execute_result"
    }
   ],
   "source": [
    "PoleisRawData.keys()"
   ]
  },
  {
   "cell_type": "code",
   "execution_count": 13,
   "metadata": {
    "collapsed": false
   },
   "outputs": [
    {
     "data": {
      "text/plain": [
       "'6. Adranon '"
      ]
     },
     "execution_count": 13,
     "metadata": {},
     "output_type": "execute_result"
    }
   ],
   "source": [
    "PoleisKeyList[1]"
   ]
  },
  {
   "cell_type": "code",
   "execution_count": 14,
   "metadata": {
    "collapsed": false
   },
   "outputs": [
    {
     "data": {
      "text/plain": [
       "dict"
      ]
     },
     "execution_count": 14,
     "metadata": {},
     "output_type": "execute_result"
    }
   ],
   "source": [
    "type(PoleisRawData)"
   ]
  },
  {
   "cell_type": "code",
   "execution_count": 15,
   "metadata": {
    "collapsed": false
   },
   "outputs": [
    {
     "data": {
      "text/plain": [
       "'Map 47.  Unlocated.  Type:  C: .The  Tyr- rhenoi  are  known exclusively  from  their  C 4s  Greek-style bronze  coinage:  obv.  head  of  Athena  wearing  Attic  helmet, legend: ;  rev.  standing  armed  Athena  (Head,  HN ² 190;  Cutroni  Tusa  ( 1970)  264\\xad65).  The  coins,  whose  types reveal  Athenian  influence,  are  restruck  on  C 4s  Syracusan issues.  They  may  belong  to  an  anti-Syracusan  ethnic  group, perhaps  Tyrrhenian  mercenaries  fighting T imoleon  (cf. Diod. 16.82.2  (r 339/8);  Cutroni  Tusa  ( 1970)  266).  A  settle- ment  site  of  the  Tyrrhenoi  has  tentatively  been  identified with  sporadic  habitation  remains  at  modern  Alimena  in  the territory of  Himera  (no. 24)  (Bejor  ( 1984b)  with  refs.);  other proposals  include  a  location  in  the  region  of  Syracuse\\xadAitna (Cutroni  Tusa  ( 1970)  266).'"
      ]
     },
     "execution_count": 15,
     "metadata": {},
     "output_type": "execute_result"
    }
   ],
   "source": [
    "PoleisRawData[PoleisKeyList[2]]"
   ]
  },
  {
   "cell_type": "code",
   "execution_count": 16,
   "metadata": {
    "collapsed": false
   },
   "outputs": [
    {
     "name": "stdout",
     "output_type": "stream",
     "text": [
      "(Leontinos) Map  47.  Lat. 37.15,long.  15.00. Size of  territory: 4.Type:A: .The toponym is (IG i³  54.1;  Thuc. 6.3.3).  The  city-ethnic  is  (Thuc. 3.86.2­3). Leontinoi  is  called  a  polis  both  in  the  urban  sense  (Thuc. 5.4.3­4;  Hdt. 7.154.2)  and  in  the  political  sense  (Thuc. 3.86.2; Arist.  Pol. 1316a35­39).  The  territorial  sense  is  a  connotation at  Thuc. 5.4.3,and  the  political  sense  is  a  connotation  at  Hdt. 7.154.2  (cf.  Hansen  ( 2000)  175­76,  205).  Politai  is  used  at Thuc. 5.4.2,and  so  is  demos.  The  internal  collective  use  of  the city-ethnic  is  attested  on  C 5f  coins  (infra),  and  the  external collective use  by Hdt. 7.154.2,  Thuc. 5.4.2  and  IG i³  54.18 (C 5m).  The  external  individual  use  of  the  ethnic  is  found  at Xen.  An. 2.6.16,  Pl.  Ap. 19E  and  CEG 2830.1  (C 4f). Leontinoi  was  one  of  the  early  Chalkidian  colonies  in Sicily,  founded  by  Chalkidians  from  Naxos  under  the  lead- ership  of  Theokles  five y ears  after  the  foundation  of Syracuse  (i.e.  traditionally  729:  Thuc. 6.3.3;  cf.  Hellan.  fr. 82). However,  Theokles  can  hardly  have  been  the  oecist  of Leontinoi,  as  well  as  Naxos  (cf.  Leschhorn  ( 1984)  12). Leontinoi  is  the  only  primary  colony  of  the  Greek  West situated  inland.  According  to  Strabo  6.2.7,  the  territory  ( , Thuc. 5.4.2; ,Diod.  5.8.2)  of  Leontinoi,  called  (Thuc. 5.4.4,  6.65.1)  or   / (Theopomp.  fr. 225a.60;Diod.  4.24.1),  belonged  to the  Naxians;  this  must  refer  to  the  Naxian  origin  of Leontinoi.  The  territory of  Leontinoi  probably  encom- passed  most  of  the  modern  plain  of  Catania,  about  400  km ². It  is  not  possible  to  define a borderline between K atanaian and  Leontinian  territory.  The  sources  stress  the  beauty  of Leontinoi's  chora  (Diod. 4.24.1)  and  the  importance  of  grain crops  (Diod. 14.58.1  (rC 4e)).The  north  gate  of  Leontinoi  led to  the  Leontine  plain  (Polyb. 7.6).The  Chalkidian  dominion reached  far  inland  along  the  Simeto  and  the  Dittaino  river valleys,  possibly  as  far  as  Monte  San  Mauro,  Grammichele, Morgantina  and  Kenturipe  (Procelli  ( 1989);  see  Katane  (no. 30)). The  population  history  of  Leontinoi  was  eventful:  accord- ing  to  Thuc. 6.4.1,  the  group  of  Megarians  led  by  Lamis  who eventually  founded  Megara  (no. 36)  for  some  time  lived  as citizens  ( µ) at Leontinoi but were expelled ( ).In 476,Hieron of  Syracuse  transplanted  the  pop- ulations  of  Naxos  (no. 41)  and  Katane  (no. 30)  to  Leontinoi (Diod. 11.49.2).After  the  Congress  of  Gela  in  424,new  citizens (politai)  were  enrolled  in  Leontinoi,  and  the  demos  contem- plated  a  redistribution  of  land.  The  result  was  civil  war,  in which  summoned  the  Syracusans.  The  demos  was expelled,  whereas     moved  to  Syracuse  (no. 47), where  they  obtained  citizen  rights,  although  \"later\" ( ) some returned to the old city (Thuc.  5.4.2­4;  cf. Dreher  ( 1986)).  Leontinoi  ceased  to  be  a  polis,  and  its  site  was turned  into  a  phrourion  of  Syracuse  (Diod. 12.54.7);  the Athenians  had  the  refoundation  of  Leontinoi  as  one  of  their principal  alleged  motives  for  undertaking  the  expedition  to Sicily  in  415  (Thuc. 6.33.2,  48.1,  etc.).  In  405/4  Leontinoi  was resettled  by  citizens  of  Gela  (no. 17)  and  Kamarina  (no. 28; Diod. 13.113.4),  and  the  treaty  concluded  that  year  between Dionysios  I  and  Carthage  stipulated  that  like,  e.g.,  Gela,  the city  was  to  be  autonomos,  and  this  must  have  meant  the refoundation  of  the  city  (Diod. 13.114.1).  Two  years  later ( 403/2),  Dionysios  conquered  Leontinoi  and  moved  all  its inhabitants  to  Syracuse  (Diod. 14.14­15);  in  396  Dionysios resettled  Leontinoi  with,  allegedly, 10,000  mercenaries  (Diod. 14.78.2).  In  339,  the  population  was  transplanted  to  Syracuse by  Timoleon  (Diod. 16.82.7). From  Thuc. 3.86.2­3  it  appears  that  in  427  Leontinoi  had treaties  of  symmachia  with  \"the  Chalkidian  poleis\", Kamarina  and  Rhegion  (no. 68),  and  that  these  allies  were also  allied  with  Athens  (by  individual  treaties;  see  ML  63­64 with  comm.),  and  that  they  were  capable  of  acting  as  a  body (HCT  ad  loc.on    µµ).  Thuc. 4.24.9  attests  to  a  treaty  of  symmachia  between  Leontinoi and  Naxos  in  425.  During  the  reign  of  Dionysios  II, Leontinoi  seceded  from  Syracuse  and  twice  resisted attempts  to  reconquer  the  city,  the  first b y  Philistos  in  356/5 (Diod. 16.16.1),  the  second  in  342/1  by  Timoleon  (Diod. 16.72.2). Leontinian are  mentioned  at  Thuc. 6.19.1. Several  wars  fought  by  Leontinoi  are  attested:  a  C 6  war  with Megara peri  ges  horon  is  referred  to by Polyaen. 5.47.1,  and  a C 5s  war  with  Syracuse  by  Thuc. 3.86.2.  Campaigns  are  men- tioned  at,  e.g.,  Thuc. 4.25.10,  and  a  µ  at  Thuc. 4.25.11.  The  C 7l­C6e  tyrant  Panaitios served  as  polemarchos  (Polyaen. 5.47.1).  Leontinoi  was  con- quered  by Hippokrates  and  made  a  dependency  of  Gela (Hdt. 7.154.2)  c. 496/5  (Luraghi  ( 1994)  128­29,  148­50). Reception  of  envoys  is  attested  by  Diod. 14.14.3;  IG i³ 54.4­6  (C 5s)  names  three  Leontinian  presbeis,  and  Gorgias was  sent  as  an  envoy  to  Athens  in  427  (Pl.  Hp.  mai. 282B). A  citizen  of  Leontinoi  served  as  theorodokos  of  Epidauros (no. 348)  in  356/5  (IG iv².195.ii.66). sikelia  209 In  the  Archaic  period  Leontinoi  was  sometimes  ruled  by  a tyrant;  two  are  mentioned  by  our  sources:  Panaitios,  who  in C 7l  changed  the  oligarchy  (Arist.  Pol. 1315b34­37)  to  tyranny ek  demagogias  (Arist.  Pol. 1310b29,  1316a37;  Luraghi  ( 1994) 11­20)  and  Ainesidamos  (Paus. 5.22.7).  A  C 6  stasis  between the  demos  and  the  ruling  oligarchs  is  reported  by  Polyaen. 5.47.1  and  another  stasis  in 424  between  the  dynatoi  and  the demos  by Thuc. 5.4.2­3  (Berger  ( 1992)  25­26).  Symbouleutic oratory  (en  toi  demoi)  at  Leontinoi  is  mentioned  by  Pl.  Hp. mai. 128A. The  urban  layout  of  Leontinoi  is  known  in  some  detail from  the  description  given  by  Polyb. 7.6.  The  defensive sys- tem  of  the  city  is  among  the  best  preserved  in  Sicily.  The  C 6 circuit  wall  enclosed  the  San  Mauro  and  Metapiccola  hills and  the  central  valley  with  gates  at  either  end  (Rizza  ( 1978); for  chronology,  see  Tréziny  ( 1986)  187;  for  the  fortification of the  Leontinian  acropolises,  cf.  Diod. 14.58.1  (r 396)).  The C 6e(?)  outer  ashlar  circuit  wall  of  the  east  and  south  side  of Colle  San  Mauro  crossed  the  narrow  San  Mauro  valley  with a  pincer-like  gateway  (the  Syracusan  gate  of  Polybios)  and continued  along  the  west  and  south  sides  of  the  Metapiccola plateau.  The  defences  were  destroyed  by  Hippokrates c. 496/5,  reconstructed  and  extended  in  C 5m  and  destroyed in  C 5l  (cf.  Diod. 14.14.4;  Rizza  ( 1955)  281­88,  346­76;  cf. Dreher  ( 1986)).  The  north  gate  has  been  identified in the substantial  remains  of  a  C 5  ashlar  wall  in  isodomic  tech- nique,  and  part  of  the  foundation  of  a  round  tower  was found  in  the  northern  outlet  of  the  San  Mauro  valley (Martin  et al.( 1979)  585;  Spigo  ( 1980­81a)  794).  The  city  was walled  again  in  356/5  (Diod. 16.16.1)  and  besieged  in  342/1 (Diod. 16.72.2).  A  theatre  is  attested  in  C 4m  (during  the reign  of  Dion)  when  it  housed  a  meeting  of  the  assembly (Plut.  Dio 42.8­43.1). Archaeological  evidence  (habitation  structures  and abundant  C 8­C7  ceramic  material)  has  revealed  a  first Greek  habitation  phase  on  the  Colle  San  Mauro.  There  are indications  of  an  initial  close  relationship  between  Greek and  Sikel  settlers  (Rizza  ( 1962),  ( 1978)).  The  C 7­C6  settle- ment  phase  incorporated  also  the  Metapiccola  hill,  and  the total  extent  of  the  two  plateaux  with  the  central  valley  with- in  the  C 6  circuit  wall  was  about  40  ha.  There  are  remains  of terraced  houses  on  the  western  slope  of  the  Metapiccola  hill overlooking  the  San  Mauro  valley  (corroborating  the description  given  by  Polybios).  These  are  mainly Hellenistic,  but  they  have  a  C 7  phase  (Rizza  ( 1980­81) 767­68;  Spigo  ( 1980­81a)  793­94).  According  to  Thuc. 5.4.4, one  district  in  the  city  was  called  Phokaia.  Neapolis,  anoth- er  part  of  the  city,  was  attacked  by  Timoleon  in  342/1  (Diod. 16.72.1),  and  was  perhaps  originally  an  extra-urban  settle- ment  founded  by Hieron  in  476  to  house  the  inhabitants from  Katane  (no. 30)  and  Naxos  (no. 41)  (Diod. 11.49.2). According  to  Polyb. 7.6,  the  agora  was  situated  in  the  central valley,  as  were  the  law  courts,  dikasteria;  his  mention  of sanctuaries  on  the  city  plateaux  is  confirmed b y  the  archae- ological  evidence  (Barletta  ( 1983)  38­45).Extensive C 5s­C4e cemeteries  lay  on  plateaux  north  of  the  city,  at  some  distance from  it,  whereas  tombs,  spanning  the  Archaic  and Hellenistic  periods,  lay  just  outside  the  south  gate  of  the  city along  the  road  leading  to  Syracuse  (Martin  et al.( 1979) 585­87;  Rizza  ( 1982)). From  the  evidence  of  the  coins,  Artemis  or  Demeter  (cf. Diod. 5.4.2)  and  Apollo  were  venerated  at  Leontinoi.  An external  collective  dedication  of  a  silver  phiale  at  Delos  is recorded in I.Delos 104.93  ( 366)  and  IG ii²  1643.21  (C 4m). The  earliest  coinage,  based  upon  the  Syracusan­Attic standard,  was  issued  in  connection  with  Hieron's  settlement of  the  inhabitants  of  Katane  and  Naxos  at  Leontinoi  in  476 (C.  Boehringer  ( 1998)  43­44).  This  first series of tetradrachms  use  the  Syracusan  lambda  in  the  legend  and reveal  strong  Syracusan  stylistic  influence:  obv.quadriga and  Nike;  rev.  lion's  head  (a  pun  on  the  city's  name)  sur- rounded  by  four  grains  of  barley,  legend:  (C.  Boehringer  ( 1998)  pl. 10.1­5,  7­10,  etc.;  SNG  Cop.  Sicily 334­37).  A  second  series,  from  c. 466,  have  similar  obv.but with  a  running  lion  in  exergue  (as  in  the  Syracusan \"Demarateion\"  coinage);  rev.  female  head  (Artemis  or Demeter),  or  head  of  Apollo  wearing  laurel  wreath,  legend: ,  (SNG  Cop.  Sicily 341­43; C.  Boehringer  ( 1998)  pls. 10.14­19,  11.30­32).A  third  series  of tetradrachms  belong  c. 450:  obv.  laureate  head  of  Apollo;  rev. lion  head  surrounded  by  barley  grains,  legend: , ,  (with  Chalkidian  lamb- da,  cf.  Johnston  ( 1975);  SNG  Cop.  Sicily 346­52; C.  Boehringer  ( 1998)  47,  pl. 11.33­37,  etc.).  Lower  denomina- tions  carry  related  types,  and  on  rev.  of  litrai  a  naked  youth (river-god  or  Apollo)  offering  a  libation  at  an  altar  (SNG Cop.  Sicily 353­57;  cf.  C.  Boehringer  ( 1998)  47­48  for  the change  in  the  system  of  denominations  with  refs.  to  plates). The  issue  of  tetradrachms  may  have  continued  until  c. 415 (C.  Boehringer  ( 1998)  50­51).  For  an  issue  of  hemidrachms possibly  indicating  collaboration  between  Leontinoi  and Katane  or  Leontinian  dependence  upon  Katane,  see  entry for  Katane.  Bronze  coins  were issued  from  c. 405  (SNG  Cop. Sicily 358­61;  C.  Boehringer  ( 1998)  51­52). Leontinoi  founded  the  colony  of  Euboia  (no. 15)  (Strabo 6.2.6)  at  an  unknown  site  in  the  Chalkidian  hinterland, 210 fischer-hansen,  nielsen  and  ampolo perhaps  as  early  as  C 8l  if  it  was  contemporaneous  with  the foundation  of  Mylai  (no. 38;  the  two  sites  are  coupled  by  Ps.-Skymnos  287­88);  Euboia  seems  to  have  been  a  settle- ment  of  some  importance  in  C 5f,  since  it  was  worthy  of being  relocated  by  Gelon  (Hdt. 7.156.3;  Camassa  ( 1989a)).\n",
      "Map 47.  Lat. 37.10,long.  14.55:  the  loca- tion  is,  however,  uncertain,  and  Bernabò  Brea  ( 1968)  178­82 argues  for  a  location  in  the  hinterland  of  Megara  Hyblaia. Size of  territory:  ? Type:  C: . The  Stielanaioi  struck  coins  from  c. 460  onwards;  they may  have  been  based  at  the  of  Steph.  Byz. 588.7, but  see  Manni  ( 1974)  64  and  ( 1981)  227,  who  points  out  that a  form  such  as  * is  to  be  expected  on  the  basis  of the  ethnic  Stielanaios.The  Stielanaioi  are  included  here  on account  of  their  Greek-style  coinage:  this  coinage  began with  an  issue  of  silver  litrai  c. 460:  obv.  forepart  of  man-head- ed  bull,  legend: () (retrograde);  rev. male  figure (river-god?) sacrificing  at  altar.  Later  issues (drachms  and  lower  denominations):  obv.  male  head  laure- ate  (river-god  or,  perhaps  more  likely,  Apollo);  rev.  forepart of  man-headed  bull,  legend: (Head,  HN ²171; Bernabò  Brea  ( 1975)  49­51;  Holloway  ( 1975)  142­43; Manganaro  ( 1984)  35­36;  survey  of  find-places:  Cutroni Tusa  ( 1997­98)  630;  cf.  AIIN 42  ( 1995)  pl. 26,fig.2).The t ypes reveal  strong  influence from the c ontemporary  mints  of Katane  and  Leontinoi.  The  Stielanaioi  are  considered  a Greek  community  by  Mirone  ( 1928),  followed  by  Ziegler 224 fischer-hansen,  nielsen  and  ampolo ( 1940),founded  C 5e  in  the  hinterland  of  Katane  (no. 30)  and Leontinoi  (no. 33)  in  the  aftermath  of  the  Deinomenid aggression  against  these  cities.\n",
      "(Megareus) Map  47.  Lat. 37.10,long.  15.10. Size of  territory: 4.  Type:  A: .  The  toponym  is  ,   (Thuc. 6.49.4,75.1),or  (Ps.-Skylax  13)  (it  is  unclear what  is  meant  by     at  Polyaen. 1.27.3  (r 483)); this  is  the  simple  name  which  is  qualified in different ways t o distinguish  it  from  Megara  Nisaia  (no. 225):  Thuc. 6.94.1  has      , and  Theopomp.  fr. 70  has   .  In  addition  to  the  toponym  proper,  the  plural  of  the  city-ethnic  may  be  used  to  designate  the  city  (in  contradistinction  to  the  community):  Thuc. 6.4.1:    (cf.Ziegler in RExv.1.206;see also HCT on  Thuc. 6.94.1).  According  to  Ephor.  fr. 137a/b  (as  para- phrased  by  Strabo  6.2.2  (a)  and  Ps.-Skymnos  264  (b)),  the original  name  was  (presumably  from  the  Sikel  king Hyblon  (Thuc. 6.4.1)).  The  city-ethnic  is  (Hdt. 7.156.2;  Philistos  (FGrHist 556)  fr. 5),  which  is  also  qualified in  different  ways  to  distinguish  it  from  the  ethnic  of  Megara Nisaia:    (Hdt 7.156.2;  cf.  Pl.  Leg. 630A);  Thuc. 6.4.1: `. Megara  is  called  a  polis  in  the  urban  sense  at  Thuc. 6.4.2 and  Ps.-Skylax  13;  Hdt. 7.156.2  does  not  explicitly  call  it  a polis  in  the  political  sense,  but  that  it  was  so  is  the  obvious implication  of  the  passage,  which  discusses  Megara  along- side  other  communities  that  were  obviously  poleis.  At  Thuc. 6.4.3  metropolis  almost  certainly  applies  to  Megara  Nisaia (no. 225)  (HCT  ad  loc.).  Pl.  Leg. 630A  uses  about one  of  its  citizens.  The  external  collective  use  of  the  city-eth- nic  is  found  in  Hdt. 7.156.2,  Philistos  (FGrHist 556)  fr. 5 (rC 6m)  and  Pl.  Leg. 630A. The  name  of  the  territory was  presumably  (cf. IvO 22.fr.ab.1  (C 6l)  with  Dubois  ad  loc.in  IGDS  p. 34;  cf. Diod. 4.78.1  and  Steph.  Byz. 588.7);  it  is  termed  at Thuc. 6.4.2  and at 6.94.1.  It  consisted  of  the  coastal  low- land  on  both  sides  of  the  city  facing  the  bay  of  Augusta  and was  demarcated  by  the  territories  of  Leontinoi  (no. 33)  and Syracuse  (no. 47),  i.e.  by  the  valleys  of  the  river  Porcaria (ancient  Pantakyas)  and  the  river  Anapo  (ancient  Anapos) respectively.  It  measured  c. 400  km ²  (Vallet,  Villard  and Auberson ( 1983)  149­50;  De  Angelis  ( 1994)  92­93). According  to  Steph.  Byz. 588.7,  Styella  was  a  phrourion  in  the territory  of  Megara  (cf.  Steph.  Byz. 645.4  citing  Philistos (FGrHist 556)  fr. 20).  Styella  has  been  tentatively  located  on the  western  confines of  Megara's  territory  (Bernabò  Brea ( 1968)  178­79).  In  C 7l,  Megara  was  involved  in  war  with  Leontinoi;  it  was  fought  during  the  reign  of Panaitios  of  Leontinoi  (Polyaen. 5.47;  for  the  C 7l  date  of Panaitios:  Luraghi  ( 1994)  11­14). According  to  Thuc. 6.4.1­2  Megara  was  founded  by  a colonising  expedition  from  Megara  Nisaia  (no. 225)  led  by Lamis.  The  expedition  at  first settled at T rotilos  on  the  river Pantakyas,  whence  it  moved  on  to  Leontinoi  and  settled ( µ) there with the Chalkidians for a while;  it was,  however,  expelled  ( ) and went on to settle  at Thapsos.  Here  Lamis  died;  the  remnants  of  the  expedition left  Thapsos  and  founded  Megara  (  `)  on land  put  at  their  disposal  by  the  Sikel  king  Hyblon  (for  an analysis  of  the  textual  transmission  of  the  tradition  of  the Sikels  and  the  foundation  of  Megara,  see  Graham  ( 1988)). According  to  Thucydides  the  Megarians  were  driven  out  by Gelon  (in  483)  245  years  after  the  foundation,  giving  a  foun- dation  date  of 728,  thus  later  than  the  foundation  of  Syracuse.  A  different  tradition  was  followed  by  Ephor. fr. 137,  whose  account  is  preserved  in  Strabo  6.2.2  (and Ps.-Skymnos  264­77).  According  to  this  tradition,  Megara (given  the  initial  name  of ) was founded ten genera- tions  after     by  the  same  expedition,  led  by Theokles  of  Athens,  which  also  founded  Naxos  (no. 41).  The Athenian  origin  here  ascribed  to  Theokles  (who  was  from Euboian  Chalkis  (no. 365))  undoubtedly  reflects later Athenian  claims  to  have  played  a  role  in  the  early  colonial enterprises  in  Sicily  (Bérard  ( 1957)  78­79);  Theokles'  expe- dition  included  both  Ionians,  who  founded  Naxos,  and Dorians  (mostly  Megarians),  who  founded  Megara,  and according  to  Ps.-Skymnos  276­77  this  double  foundation was  the  result  of  stasis  (along  ethnic  lines?)  among  the colonisers.  According  to Strabo  6.2.4,  the  foundations  of Megara,  Naxos  and  Syracuse  were  roughly  contemporary, but  a  group  of  Dorians  who  had  left  the  group  settling  at Megara  were  picked  up  by  Archias  and  joined  his  group  of colonists  in  founding  Syracuse;  so  in  this  tradition  the  foun- dation  of  Megara  preceded  that  of  Syracuse  (ibid.;  cf. Ps.-Skymnos  276­77).  Archaeological  evidence  has  revealed Greek  presence  at  Megara  from  C 8m  (Villard  and  Vallet ( 1964)  15­32)  and  therefore  contemporary  with  the  earliest Greek  presence  at  Syracuse  (Pelagatti  ( 1978c)  130­33);  the sikelia  213 evidence  for  C 8m  Greek  contacts  in  the  hinterland  of Megara  at  Villasmundo  is  not  necessarily  associated  with  the foundation  of  the  colony  (Voza  ( 1973b)). A  C 6m  treaty  of  symmachia  with  Syracuse  is  attested  by Philistos  (FGrHist 556)  fr. 5,  and  Megarian  troops  assisted Syracuse  in  a  war  against  Kamarina.  In  C 5e  Megara  initiated a  war  against  Syracuse  (Hdt. 7.156.2)  but  with  disastrous results:  Megara  was  unable  to  withstand  a  siege  by  Gelon, partly  because  of  stasis  (Polyaen. 1.27.3),  and  c. 483  the  city had  to accept  terms  whereby  the  demos  was  sold  into  slavery whereas  the  pachees  were  relocated  to  Syracuse  and  received citizenship  there  (Hdt. 7.156.2);  Megara  ceased  to  exist  as  a polis,  its  site  lay  abandoned  in  415  (Thuc. 6.49.4),and  the  ter- ritory  was  held  by  Syracuse  (Thuc. 6.94.1).  The  city  must have  been  refounded  by  Timoleon  c. 338;  admittedly,  Megara is  not  specifically mentioned as a T imoleontic  refounda- tion,  but  archaeology  proves  a  refoundation,  which  must  be related  to  Timoleon's  programme  of  refoundations  (Talbert ( 1974)  149). We  know  next  to  nothing  of  the  type  of  constitution  at Megara.  A C 6  stasis  may  be  hypothesised  as  causing  the expulsion  of  citizens  received  as  exiles  at  Selinous  (IvO 22; IGDS  no. 28).  One  Diognetos  was  when  the  city  was attacked  by  Gelon  in  483  (Polyaen. 1.27.3).  The  term µ  in  IvO 22  (C 6l)  refers  to  a  magistracy  attested also  in  Megara  Nisaia  (no. 225)  and  other  Megarian  colonies (cf.  Dubois  on  IGDS  no. 28  fr.b. 5­6  with  refs.);  however, from  the  context  it  is  not  discernible  whether  the  reference  is to Selinous  (no. 44)  or  to  Megara.  For  the  office in general, see  Asheri  ( 1979b)  490.  IvO 22  mentions  a  halia  ([h ] [];  Arena  ( 1989)  no. 52  fr.  h. 4;  Asheri  ( 1979b)),  but again  it  is  uncertain  whether  the  reference  is  to  Megara  and whether should  be  interpreted  as  an  ekklesia  or  as  a special  court  (Asheri  ( 1979b)  490).  IGDS  no. 20  is  a  lex  sacra of  C 6e. The  evidence  for  cults  is  meagre:  a  dedication  to  heroes theoi  (Arena  ( 1989)  no. 78)  and  an  uncertain  C 3  dedication to  Aphrodite  (Manni  Piraino  ( 1975)  150).  Apart  from  this there  is  the  indirect  evidence  of  a  C 6f  sacrificial law set up b y one  Pasaratos,  or  for  a  local,  otherwise  unknown,  hero Pasaratos  (SEG 26  1084  IGDS  no. 20;  cf.  Sartori  ( 1980­81) 267).  Cf.  also  Manni  ( 1975)  190­91  and  Vallet  ( 1991)  515  for numismatic  evidence  of  doubtful  provenance. Megara  was  founded  on  a  flat c oastal  plateau  of  c. 81  ha, previously  uninhabited.  Only  a  small  part  of  the  total  area  of habitation  has  been  investigated.  Soon  after  the  foundation the  urban  area  was  laid  out  with  habitation,  public  spaces and  main  lines  of  communication,  respected  by  the  later  C 7 urban  phase,  when  the  city  was  organised  according  to major  and  minor  transversal  axes  with  insulae  organised  in five districts laid out around a c entral  agora  (Vallet  et al. ( 1976)).  The  five districts may mirror different c ontingents among  the  early  settlers,  reflecting the five  komai  of  the metropolis  Megara  Nisaia  (Strabo  8.6.22;  cf.  Vallet  et al. ( 1983)  145­46);  or  they  may  simply  be  the  successors  of  early scattered  habitation  areas,  each  with  public  spaces  and  sanc- tuaries  (Polignac  ( 1999)  227),  superseded  in  C 7l  by  a  cen- tralised  urban  layout  implying  standardised  modules  for  the habitation  lots  (Tréziny  ( 1999)).  The  earliest  habitation remains  are  C 8l  houses  of  a  type  known  also  at  Syracuse  and Naxos.  Yet  a  habitation  area  has  been  investigated  on  the southern  plateau,  c. 500  m  south  of  the  main  urban  area. Remains  of  a  gate  and  a  C 7m  double-faced  circuit  wall  in rough  stones  with  internal  fill,  strengthened  on  the  outside by  a  trench,  have  been  laid  bare.  C 8  habitation,  a  C 7  potters' workshop  and  a  sanctuary  of  C 7f­C6  reveal  the  impressive extent  of  the  early  colony:  a  settlement  measuring  c. 60  ha (Broise  et al.( 1983);  Gras  ( 1984­85);  Tréziny  ( 1999)  176­79). On  the  assumption  that  about  half  of  this  area  was urbanised,  the  C 7  population  has  been  estimated  at  c. 2,000 (De  Angelis  ( 1994)  97­99),  probably  a  much  too  pessimistic assessment  (Hansen  ( 1997b)  74  n. 153).  The  C 7m  circuit  wall was  replaced  in  C 6s  by  a  well-built  ashlar  wall,  of  which  a stretch  is  preserved  on  the  northern  side  of  the  city  and landwards  by  stretches  of  a  long  curving  wall,  in  all  c. 1,500 m,  with  semicircular  towers  on  the  outside  (Vallet  et al. ( 1983)  97­101). The  C 6  building  near  the  agora,  unconvincingly  identi- fied as a prytaneion  (Vallet  et al.( 1983)  62­69;  cf.  S.  G.  Miller ( 1978)  229­30),  is  undoubtedly  a  public  structure;  another monumental  structure  from  c. 640  on  the  south  side  of  the agora  is  also  furnished  with  banquet  rooms  and  may  have had  a  public  function  (Vallet  et al.( 1983)  77­81;  Kiderlen ( 1995)  14­17,  215).  C 7s  stoas  lined  the  agora  on  its  north  and east  sides. A  number  of  sacred  buildings  were  located  adjacent  to,  or in  the  vicinity  of,  the  agora:  a  two-cella  heroon  facing  the agora  may  have  housed  a  cult  of  the  oecist  Lamis  (Vallet  et al. ( 1976)  209­11,(1983)  62).  Two  C 7s  naiskoi,  one  with  an  inter- nal  row  of  columns  but  both  without  peristasis,  delimited the  agora  on  its  south  side  (Vallet  et al.( 1983)  48­49,  69­70); small  single-cella  temples,  naiskoi,  are known from  various locations  in  the  vicinity  of  the  agora  (Vallet  et al.( 1983)  44, 62;  Polignac  ( 1999)  215).  The  C 6e  Doric  temple  located  on the  central  part  of  the  plateau  (Orsi  ( 1921)  153­76;  Villard and  Vallet  ( 1954)  13­24)  and  C 6  temples  on  the  sea  front 214 fischer-hansen,  nielsen  and  ampolo reveal  a  belt  of  sanctuaries  encircling  the  habitation  area (Polignac  ( 1999)  216­20;  for  sanctuaries  and  cults,  see  also Hinz  ( 1998)  141­43).  The  Timoleontic  foundation  occupied primarily  the  north-eastern  corner  of  the  Archaic  city  and was  later  restricted  to  an  area  of 12  ha  by  the  C 3l  fortification erected  before  the  final destruction of  the  city  by  Marcellus in 213  (Livy  24.34.2).  Timoleon's  city  followed,  with  modifi- cations,  the  layout  of  the  Archaic  city,  the  agora  was  re- established,  and  sanctuaries  and  a  stoa  were  erected  in  the vicinity  (Vallet  et al.( 1983)  168­74). The  Archaic  cemeteries  were  located  to  the  north,  west and  south  of  the  city:  the  graves  are  mainly  of  C 7­C6  with very few  C 8  graves.  A  social  elite  is  indicated  by  rich,  monu- mental  cella  tombs  (Shepherd  ( 1995)  56­60  with  refs.),  and social  differentiation  is  also  attested  by  Herodotos'  distinc- tion  between  the  demos  and  hoi  pachees  ( 7.156.2). Megara  did  not  issue  coins  during  its  Archaic  existence, and  the  attribution  of  a  silver  litra  inscribed  to  the Timoleontic  refoundation  (Head,  HN ²151)  is  far  from  universally  accepted  (Vallet  ( 1991)  515  with  refs.). Megara  was  the  metropolis  of  Selinous  (no. 44),  founded in 649  according  to Diod. 13.59.4,  or  in 628  according  to Thuc. 6.4.2.\n",
      "(Syrakosios) Map  47.  Lat. 37.05,long. 15.15.  Size  of  territory: 5.  Type:  A: .  The  toponym  is (),  (Hecat.  fr. 74;  Thuc. 5.4.3;  IG iv².195.i.39 ( 356/5))  or  (Hdt. 7.156.1);  Pind.  Ol. 6.6  and Bacchyl.  Ep. 5.104  have  ;  is  found at  Pind.  Pyth. 2.1.  The  city-ethnic  is  (C 5  coins, infra;  Thuc. 3.103.1;  IGDS  no. 94  ( 474))  and   (Hdt. 7.155.2).  Also  spelled  (C 6l­C5e  coins, infra;  IGDS  no. 93  (c. 480);  cf.  IG v.1217  (C 5e): [ ]). Syracuse  is  called  a  polis  both  in  the  urban  sense  (Hdt. 7.155.2;  Thuc. 6.65.3;  Ps.-Skylax 13)  and  in  the  political  sense (Hdt. 7.154.2;  Thuc. 6.36.2  and  Xen.  Hell. 1.1.28).  Its  politeia was  described  by  Aristotle  (Arist.  fr. 602.1).  Politeuesthai  is found  at  Arist.  Pol. 1312b9,polites  at  Arist.  Pol. 1303a38,politeu- ma  at  Arist.  Pol. 1303b26,  damosios  at  SEG 38  368  (c. 475),  and demos  at  Thuc. 6.35.1.  Astoi  referring  to  the  citizens  is  found at  Pind.  Pyth. 3.71  and  asty  referring  to  the  city  occurs  in  AG 13.15  (C 4e).  For  Patris,  see  Thuc. 6.68.8;  69.3  and  Isoc. 3.23. The  internal  collective  use  of  the  city-ethnic  is  attested  on coins  from  C 6l  onwards  (infra);  the  external  collective use  is found  in  IvO 661  (C 6),  IGDS  no. 89  ( 485­470),  Hdt. 3.125.2 and  Thuc. 3.103.1.  The  external  individual  use  is  attested  in Egypt-Delta i694/511  (C 6­C5),  IvO 266  (c. 480),  Thuc. 4.58, IG ii²  101.2  ( 372/1)  and  CID ii  4.i.40  ( 360). Syracuse  was  founded  by  Archias,  a  Heraklid  from Corinth  (no. 227;  Thuc. 6.3.2;  cf.  Strabo  8.6.22).According  to Strabo  6.2.4  and  Ps.-Skymnos  279­82  the  founders  included a  group  of  Dorians  who  had  come  to  found  Megara  (no. 36) but  fell  out  with  the  other  colonists  and  then  joined  the Corinthian  founders  of  Syracuse.  The  exact  date  of  the foundation,  as  well  as  its  date  relative  to  those  of  the  other early  colonies  in  Sicily,  is  much  debated:  according  to  Thuc. 6.3.1  (probably  based  on  Antiochos  of  Syracuse),  the  city  was founded  only  a  year  after  Naxos,  the  earliest  of  the  Sicilian colonies.  On  the  other  hand,  Ephor.  fr. 137a  (apud  Strabo 6.2.2)  stated  that  Naxos  (no. 41)  and  Megara  (no. 36)  were the  earliest  colonies,  and  the  unemended  text  of  Strabo  6.2.4 presupposes  that  Megara  was  founded  shortly  before Syracuse.  Thuc. 6.3.2  gives  the  foundation  date  as  733/2  (sup- ported  by  Eusebios,  cf.  Bérard  ( 1957)  120  with  refs.). However,  a date c.C 8m  is  indicated  by  Marmor  Parium (FGrHist 239)  A  31,  which  places  Archias  seven  generations after  Temenos  and  the  return  of  the  Herakleidai. The  name  of  the  territory  was  (Thuc. 6.52.2);  it  is  termed  at  Thuc. 7.42.6  and at 6.45. After  its  foundation,  Syracuse  quickly  expanded  its  territo- ry;  by C 8l  it  extended  as  far  to  the  south-west  as  Heloron (no. 18),  a  Syracusan  colony  founded  in  C 8l­C7e;  by  664  it extended  inland  as  far  as  Akrai  (no. 10),  a  colony  founded  in that  year  (Thuc. 6.5.2);  by  C 7s  it  had  expanded  further  west- wards  to  Kasmenai  (no. 29),  a  colony  founded  in  644  (Thuc. 6.5.3).  To  the  north,  Thapsos  formed  the  border  with Megara  (no. 36);  Kamarina  (no. 28)  was  founded  in  598  on the  border  between  the  areas  of  influence of  Syracuse  and Gela  (Di  Vita  ( 1956),  ( 1987)).  Heloron,  Akrai  and  Kasmenai were  possibly  constituted  as  dependent  poleis  in  the  territo- ry  of  Syracuse  (see  the  respective  entries);  Kamarina  was also  in  one  way  or  another  dependent  on  Syracuse. Herodotos  reports  that  Kamarina  of  old  belonged  to Syracuse  ( 7.154.3),  and  Thucydides  refers  to  a  C 6m  apostasis from  Syracuse  by  Kamarina  ( 6.5.3).  The  C 7­C6  Syracusan dominion  comprised  an  area  of  about  3,000­3,500  km ². During  the  C 5f  rule  of  the  Deinomenidai,  Syracuse incorporated  or  exercised  influence o ver  the  territories  of Kamarina,  Megara,  Leontinoi  and  Naxos;  by  440  all  native communities  were  ruled  by  Syracuse  (Diod. 12.29.2­4);  after Dionysios  I's  peace  with  Carthage  in  392,  Syracuse  ruled over  all  of  central  and  eastern  Sicily  (Karlsson  ( 1992)  map 2.a),  and  over  parts  of  South  Italy  including  Rhegion  (no. 68)  and  southern  Calabria. The  size  of  the  population  is  unknown,  and  it  must  have been  subject  to  constant  changes  due  to  the  many  reloca- tions  carried  out  during  the  Classical  period.  The  known incorporations  of  foreign  groups  into  the  Syracusan  citizen body  are  the  following:  ( 1)  Gelon  transplanted  and  granted Syracusan  citizenship  to  (a)  all  the  Kamarinaians,  (b)  half  of the  Geloans,  (c)  the  pachees  of  Megara,  (d)  the  pachees  of  the city  of  Euboia  (Hdt. 7.156.2­3);  (e)  he  also  granted  citizen- ship  to  more  than  10,000  mercenaries  (Diod. 11.72.3).  ( 2) After  the  congress  in  Gela  in  424,  the  dynatoi  of  Leontinoi were  relocated  to  Syracuse  and  were  granted  citizenship (Thuc. 5.4.2;  cf.  Xen.  Hell. 2.3.5).  ( 3)  Dionysios  I  enlarged  the citizen  body  by  enrolling  (a)  eleutheromenoi  as  neopolitai (Diod. 14.7.4);  (b)  the  inhabitants  of  Leontinoi,  who  were granted  citizenship  (Diod. 14.15.4);  (c)  the  inhabitants  of Italian  Kaulonia,  who  were  granted  citizenship  and  ateleia for  five y ears  (Diod. 14.106.3);  (d)  the  inhabitants  of  Italian Hipponion  (though  it  is  not  specified at Diod. 14.107.2  that these  received  citizenship).  ( 4)  Timoleon  (a)  made  the  peo- ple  of  Agyrion  (and  possibly  Kentoripa)  citizens  of  Syracuse (Diod. 16.82.4);  (b)  relocated  the  population  of  Leontinoi  to sikelia  225 Syracuse  (and  presumably  granted  them  citizenship, though  this  is  not  specified at Diod. 16.82.7);  (c)  settled  5,000 new  colonists  (Diod. 16.82.3;  cf.  Plut.  Tim. 23);  and  (d)  later several  myriads  more  ( 40,000  according  to Diod. 16.82.5; perhaps  60,000  according  to  Athanis  (FGrHist 562)  fr. 2;  cf. Talbert  ( 1974)  30).  In  the  Classical  period,  Syracuse  was  the largest  city  of  Sicily  (Hecat.  fr. 74;  Thuc. 7.58.4),in  extent  sec- ond  only  to  Akragas,  for  which  city  Diod. 13.84.3  (r 406)  gives the  figure of 20,000  citizens.  Drögemüller  ( 1969)  100  sug- gests  an  urban  population  of 40,000­45,000  for  Syracuse,  a guesstimate  which  may  be  a  little  on  the  high  side  in  view  of the  size  of  the  C 5  habitation  area,  c. 150  ha  (infra).  It  is  impos- sible  to  estimate  the  number  of  citizens  from  the  few  hints given  by  Thucydides  about  the  size  of  the  Syracusan  army  in 415  ( 6.67.2: µ  ,  number  of  cavalry  given  as  1,200). Treaties  of  C 6m  with  Megara,  Enna  (Kasmenai?  cf.  the entry  for  Kasmenai)  and  presumably  Gela  are  strongly implied  by  Philistos  (FGrHist 556)  fr. 5,  who  refers  to a  war between  Syracuse  and  Kamarina  and  their  allies.  In  492  a treaty  with  Hippokrates  of  Gela  after  his  defeat  of  the Syracusans  came  about  through  arbitration  by  Corinth  (no. 227)  and  Korkyra  (no. 123)  (Hdt. 7.154.3;  cf.  Thuc. 6.5.3). Gelon's  victory  at  Himera  induced  nearly  all  the  cities  of Sicily  to  recognise  his  power  and  to  enter  into  a  symmachia with  him  (Diod. 11.26.2).  Syracuse  was  a  party  to  the  pan- Sicilian  agreement  concluded  at  the  Congress  of  Gela  in  424 by  which  it  ceded  Morgantina  (no. 37)  to  Kamarina  (no. 28) in  return  for  a  specified payment ( Thuc. 4.65.1).  During  the war  with  Leontinoi  (no. 33)  in  the  420s,Syracuse  had  treaties of  symmachia  with  the  Dorian  cities  of  Sicily  (except  for Kamarina)  and  with  Italian  Lokroi  (no. 59;  Thuc. 3.86.2­3) and  Lipara  (no. 34)  (Thuc. 3.88.3),  and  it  ruled  a  number  of Sikel  communities  kata  kratos  ( 103.1),  receiving  aparche from  them  (Thuc. 6.20.4). Numerous  Syracusan  exiles  are  on  record;  the  earliest  are the  Myletidai  mentioned  at  Thuc. 6.5.1  who  joined  the Zanklaians  (no. 51)  in  founding  Himera  (no. 24)  in  648. Exiles  are  attested  under  Deinomenid  rule  (Diod. 11.67.5), and  in  C 5m  several  sentences  of  exile  were  decreed  by  petal- ismos  (Diod. 11.87.4  (rC 5m)).  Exiles  collaborated  with  the Athenians  during  their  attack  (Thuc. 6.64.1).  A  collective sentence  of  exile  was  passed  on  the  strategoi  after  the  battle of  Kyzikos  (Xen.  Hell. 1.1.27).  In  406  a  general  recall  of  exiles was  voted  by  the  assembly  (Diod. 13.92.4­7). The  city  waged  numerous  wars;  the  earliest  known  is  the  C 6m  war  with  its  colony  Kamarina  in  which  both  were supported  by  allies  (Philistos  (FGrHist 556)  fr. 5).Apart  from the  military  victories  of  the  Deinomenidai,  the  most  spec- tacular  triumph  was  that  of  the  democracy  which,  eventual- ly  joined  by  all  Sicilian  poleis  except  Akragas  (no. 9)  (Thuc. 7.33,  58),  defeated  the  invading  Athenians  (Thuc. 6­7).  The Deinomenidai  raised  huge  armies,  but  these  can  hardly  have been  recruited  from  Syracuse  alone,  and  Deinomenid employment  of  mercenaries  was  extensive (Parke ( 1933) 10­13);  in  480  Gelon  raised  50,000  foot  and  5,000  horse (Diod. 11.21);  Thrasyboulos  raised  15,000  soldiers  (Diod. 11.67.7  (r 466))  and  controlled  a  navy  (Diod. 11.68.3  (r 466)). But  even  during  Deinomenid  rule  there  are  references  to civic  forces  proper  (Diod. 11.67.5:  politikai  dynameis).  In  471, 2,000  Syracusans  fell  in  battle  against  Akragas  (Diod. 11.53.5). In 439,  the  democracy  had  100  triremes  constructed (Diod. 12.30.1),  and  Thucydides  twice  refers  to  eighty  ships in  action  ( 7.22.1,  38.1).  Trierarchoi  are  attested  at  Xen.  Hell. 1.1.28  (cf.  IG ii²  105.37  ( 368/7)),  naval  commanders  at  Thuc. 7.25.1,  and  a  nauarchos  at  Diod. 11.88.4  (r 453).  Navies  are mentioned  also  at  e.g.  Thuc. 7.52.1  (seventy-six  ships);  Xen. Hell. 1.2.10  (twenty-five ships),  and  Diod. 13.13.1  (r 413)  (sev- enty-four  ships).  Hoplites  are  mentioned  at  Thuc. 6.67.2, (pandemei,  but  no  figure);  a  corps  of 600  epilektoi  is  attested for 461  (Diod. 11.76.2;  cf.  Thuc. 6.96.3  for 600  logades hoplites)  and  3,000  stratiotai  epilektoi  are  attested  for  409 (Diod. 13.59.1).  Akontistai  are  attested  at  Thuc. 6.67.2  and psiloi  at 6.52.2,  7.78.3.  Hippeis  are  mentioned  at  e.g.  Thuc. 6.67.2,where  they  are  said  to  number  not  less  than  1,200.The democracy  too  hired  mercenaries  (Thuc. 7.48.5).During  the democracy  the  board  of  strategoi  had  fifteen members (five from  each  tribe?),  but  during  the  Athenian  invasion  it  was reduced to  three strategoi  autokratores  (Thuc. 6.73.1), perhaps  one  from  each  tribe.  Strategoi  are  referred  to also  at e.g.  Thuc. 6.40.2;Xen.  Hell. 1.1.27;  IG ii²  105.36  ( 368/7);  and Diod. 11.91.2  (r 451).  Dionysios  I  in  405  raised 30,000  foot, 1,000  horse  and  50  ships  (Diod. 13.109.2). Sending  of  envoys  is  attested  at  Diod. 11.68.1  (r 466),  Thuc. 4.58  (Congress  of  Gela), 73.2,  75.2;  reception  of  envoys  is attested  at  Diod. 12.8.4  ( 446)  and  13.44.4  (r 410).  A  grant  of proxeny  by Delphi  (no. 177)  to  a  citizen  of  Syracuse  is  record- ed  by F.Delphes iii.1437  ( 331/30);  IG ii²  101  ( 373/2)  is  an  hon- orific decree for a citizen of  Syracuse  by Athens  (no. 361).The inhabitants  of  Antandros  (no. 767)  decreed  honorific citi- zenship  to  the  citizens  of  Syracuse  in  recognition  of  military help  (Xen.  Hell. 1.1.26).For  block  grants  of  Syracusan  citizen- ship,  see  above.  A  citizen  of  Syracuse  served  as  theorodokos  of Epidauros  (no. 348)  in  356/5  (IG iv².195.i.39;  cf. ii.61). The  constitution  of  Syracuse  is  known almost  exclusively from  literary  sources,  and  the  only  relevant  inscriptions  are 226 fischer-hansen,  nielsen  and  ampolo a  few  dedications  found  in  Olympia  and  Delphi  (infra). Hippys  of  Rhegion  (FGrHist 554)  fr. 4  refers  to a  Pollis  Argeios describing  him  as  having  been  king  ( ) of Syracuse,  presumably  before  C 5  (Carlier  ( 1984)  467;  he  is described  as  tyrannos  in  Arist.  fr. 602.1).  However,  the  origi- nal  constitution  of  the  city  was  an  aristocracy  of  Gamoroi (Marmor  Parium  (FGrHist 239)  36  (rC 7l­C6e);cf.also  IGDS no. 219  with  Dubois'  comm.;  Diod. 8.11),  who  ruled  both  the demos  (Hdt. 7.155.2)  and  a  serf  population  called  the Kyllyrioi  (ibid.  and  Arist.  fr. 603).  In  C 5e  the  Gamoroi  were expelled  by the  demos  and  retired  to  the  Syracusan  colony  of Kasmenai  (no. 29),  whence  they  were  brought  back  by Gelon,  to  whom  the  demos  handed  over  both  itself  and  the polis  (see  E.  W.  Robinson  ( 1997)  120­22  with  Arist.  Pol. 1302b31­32  for  democracy  at  Syracuse  at  this  stage).  Gelon moved  his  seat  from  Gela  (no. 17)  to  Syracuse,  and  from  that point  the  city  was  ruled  by  the  tyrant  dynasty  of  the Deinomenidai:  Gelon  ( 485­478/7;  see  Berve  ( 1967)  142­47), Hieron ( 478­466;  see  Berve  ( 1967)  147­52),  and Thrasyboulos  ( 466/5).  The  assembly  is  attested  during Gelon's  reign  (Diod. 11.26.6).The  tyranny  was  brought  to  an end  in  466/5,  when  the  Syracusans  revolted  against Thrasyboulos  (Arist.  Pol. 1312b10­16)  and  expelled  him  in collaboration  with  forces  from  Gela  (no. 17),  Akragas  (no. 9),  Selinous  (no. 44)  and  Himera  (no. 24)  (Diod. 11.67.5­68.5);  Arist.  Pol. 1312a10­11  suggests  that  the Deinomenidai  may  have  been  weakened  by  internal  rivalry. Democracy  was  now  reintroduced  (Arist.  Pol. 1316a32­33; Diod. 11.68.6),  and  at  least  some  of  the  population  reloca- tions  carried  out  by  Gelon  were  reversed  (Diod. 11.76.3­5; Strabo  6.2.3).  The  assembly  (ekklesia)  passed  a  decree (epsephisanto)  to  the  effect  that  only  archaioi  politai  were entitled  to  hold  office (Diod. 11.72.2).  Seven  thousand  of  the mercenaries  enfranchised  by Gelon  were thus  excluded from  office (Diod. 11.73.1),  though  they  remained  citizens (Arist.  Pol. 1303b1);  this  led  to  civil  war  (ibid.),  which  the mercenaries  lost  (Diod. 11.76.2;  cf.  Arist.  Pol. 1303a38ff).  A koinon  dogma  by  all  the  poleis  of  Sicily  then  reversed  all population  relocations  of  C 5f  and  assigned  Messana  (no. 51) to  the  mercenaries  (Diod. 11.76.5  (r 460)).  The  democracy lasted  until  the  tyranny  of  Dionysios  I  (for  the  democracy  in this  period,  see  Rutter  ( 2000));  during  the  democracy,  the working  of  the  assembly  is  attested  (Thuc. 6.32.3,  72.1;Diod. 11.72,  92.2;  cf.  Thuc. 6.35.  2  for  a  demou  prostates  and  Diod. 11.92.2  (r 451)  for  a  hint  of  the  procedure  of  probouleusis (Rutter  ( 2000)  145)),  and  foreign  policy  was  among  its responsibilities  (Thuc. 7.2.1);  magistracies  were originally filled b y election  (Diod. 11.73.1);  Thuc. 6.38.5  suggests  that  a law  specified a minimum age for office  holding.  The  proce- dure  of  petalismos  was  instituted  in  imitation  of  Athenian ostracism  to  prevent  the  appearance  of  new  tyrants;  it  led  to several  banishments,  but  had  to  be  revoked  because  it  alien- ated  the  upper  class  (Diod. 11.86­87;  Rutter  ( 2000)  146­48). After  the  victory  over  Athens  the  demos  assumed  still  greater power  (Arist.  Pol. 1304a27­29: µ  ...    µ µ).An important revision of  the  leg- islative  code  took  place  in  this  period  ( 412/11)  according  to Diodorus:  a  commission  of  nomothetai  presided  over  by Diokles  drew  up  the  so-called  Laws  of  Diokles  ( 13.35);  one reform  changed  the  procedure  for  appointing  magistrates from  election  to  sortition  ( 13.34.6).  Tyranny  returned  to Syracuse  with  Dionysios  I,  who  ruled  the  city  from  his appointment  as  strategos  autokrator  in 406  (Diod. 13.95.1)  to his  death  in  367  (see  further  Caven  ( 1990)).  Dionysios  pre- sumably  carried  out  a     µ  to  consolidate  his grip  on  power (Diod. 14.7.4­5  (r 404)).  IG ii²  105.35­37 ( 368/7)  suggests  that  in  formal  terms  the  democratic  consti- tution  remained  in  existence  during  Dionysios'  reign  (cf.  Arist.  Oec. 1349a14,  26,  34  for  the  ekklesia  during  his reign).  After  his  death  several  tyrants  were  in  power  until  the intervention  of  Timoleon  in  344  put  an  end  to  a  period  of unrest  and  reintroduced  democracy  (see  Talbert  ( 1974)).  By the  later  C 4  the  city  was  ruled  by  \"the  oligarchy  of  the  Six Hundred\"  until  tyranny  returned  once  more  with Agathokles  (see  Wickert  in  RE ²  iv. 2.  1518­23). Syracuse  experienced  perhaps  more  staseis  than  any  other Greek polis:  Berger  ( 1992)  34­49  studies  nineteen  cases  from the  Archaic  period  down  to  the  age  of  Timoleon.  One  stasis occurred  prior  to  the  foundation  of  Himera  in  648:  Thuc. 6.5.1  mentions  that  a  group  of  phygades  from  Syracuse    joined  the  Zanklaians  in  founding Himera  (Berger  ( 1992)  34).  Another  stasis  occurred  \"in ancient  times\"  and  developed  from  a  conflict between office-holders into a c onflict involving all citizens;  it  led  to  a change  in  the  constitution  (Arist.  Pol. 1303b20­26;  cf.  Berger ( 1992)  35).  Plut.  Mor. 825C,  relating  this  event,  mentions  a convened  to  solve  the  political  differences. One  of  the  earliest  known  public  enactments  is  a  law regulating  funerary  expenses  which  is  attested  during Gelon's  reign  (Diod. 11.38.2).  A  death  sentence  and  execu- tion  are  recorded  by  Diod. 11.91.2  (r 451);  confiscation of property  of  convicts  is  attested  by  Diod. 13.93.2  (r 406). An  eponymous  epipolos  is  attested  from  the  time  of Timoleon  onwards  (Diod. 16.70.6  (r 344)).  Arist.  Pol. 1303b23 has  a  general  reference  to archai\"in  ancient  times\";  the  boule is  attested  in  the  same  period  (by  Plut.  Mor. 825C  (supra)) sikelia  227 and  is  mentioned  in  IG ii²  105.36  ( 368/7).  Thucydides  pro- vides  some  general  references  to officials ( 7.73.3:    ;  7.73.4:    ); and  Diod. 11.92.2  (r 451)  has  a general  reference  to archontes  convening  the  assembly  (cf. 13.91.4  (r 406)).  IG ii²  105.35  ( 368/7)  also  provides  a  general reference  to archontes. A  system  of  phylai  is  attested  by  Thuc. 6.100.1;  it  served inter  alia  as  the  basis  for  the  army  organisation  (cf.  Plut.  Nic. 14.6).The  number  of  strategoi  indicates  that  there  were  three phylai;  they  were  presumably  the  traditional  Dorian  set  of Hylleis,  Dymanes  and  Pamphyloi  (Jones,  POAG 173­76).  A roster  of  all  Syracusan  citizens  as  organised  into  their  phylai was  stored  in  the  Olympieion  (Plut.  Nic. 14.6  (r 415),  see  229). Eisphora  is  attested  during  the  reign  of  Dionysios  I  (Arist. Pol. 1313b26ff,  Oec. 1349b6);  tribute  received  from  subjected natives  is  attested  in  Thuc. 6.20.4.According  to  Diod. 14.46.1 (r 398),  a  sizeable  body  of  Carthaginians  lived  in  Syracuse  as free  non-citizens. The  splendidly  celebrated  Panhellenic  victories  of  Hieron (Olympionikai 221,  234,  246;  Pind.  Ol. 1,  Pyth. 1­3;Bacchyl. Ep. 3­5;cf.Harrell  ( 2002))  were  not  the  only  victories  won  by Syracusans;  see  Olympionikai 51  ( 648),  219  ( 476),  248  ( 468), and 334  ( 420).  In  C 5f,  Astylos  of  Kroton  was  proclaimed  a Syrakosios  at  several  of  his  Olympic  victories  (Olympionikai 186­87),  and  Diod. 11.1.2  describes  him  as  such.  Dikon  of Kaulonia  must  have  been  among  the  Kaulonians  relocated to  Syracuse  by  Dionysios  I  (supra);  he  was  proclaimed  a Syrakosios  at  his  subsequent  victories  (Olympionikai 388­89)  and  is  described  as  such  by  Diod. 15.14.1  (cf. Stylianou  ( 1998)  ad  loc.).  For  a  C 4l  victor  in  the  Arkadian Lykaia,see IG  V. 2550.20. The  principal  divinities  of  Syracuse  seem  to  have  been Apollo,  Artemis,  Athena  and  Zeus  (Olympios),  to  all  of whom  temples  were  erected  in  the  Archaic  period  (infra). All  preserved  communal  dedications  are  of  C 5.  IG v.1217 is  presumably  a  C 5f  dedication  by  Syracuse  at  Sparta  (no. 345).  Whereas  Gelon  dedicated  spoils  from  the  battle  of Himera  ( 480)  at  Delphi  in  his  own  name  (ML  28  IGDS  no. 93;  cf.  Diod. 11.26.7;  for  the  structure:  Krumeich  ( 1991)), spoils  from  the  victory  at  Kyme  in  474  were  dedicated  joint- ly  at  Olympia  by  µ   (ML 29  IGDS  no. 94;  cf.  Horos 1  ( 1983)  59; Yalouris  ( 1980)  14­15;  O.  Hansen  ( 1990);  Harrell  ( 2002)).  A treasury  was  built  at  Olympia  from  the  spoils  of  Himera (Paus. 6.19.7:  ;  for  the  structural remains:  Mallwitz  ( 1956­58));  in  it  were  housed  offerings  by,  presumably,  \"Gelon  and  the  Syracusans\"  (ibid.).  For  a dedication  at  Olympia  by  the  Syracusans  of  spoils  taken from  Akragas,  see  IGDS  no. 95;Yalouris  ( 1980)  16;  and  SEG 11 1212a  (cf.  SEG 15  252).  A  herald's  staff  was  also  dedicated  at Olympia  (SEG 38  368  (c. 475)).At  Delphi  a  treasury  was  con- structed  from  the  spoils  taken  from  the  defeated  Athenians (Paus. 10.11.5).  For  attempts  to  identify  both  an  Archaic  and a  Classical  treasury  of  the  Syracusans  in  the  architectural remains  at  Delphi,  see  Partida  ( 2000)  77­80,  135­46. The  town  was  founded  on  the  island  of  Ortygia,  an  ideal site  with  harbours  on  either  side:  in  the  east  the  Lakkios,  the Small  Harbour,  in  the  west  the  Great  Harbour  (for  a  geo- morphological  survey  of  settlement  and  territory,  see Mirisola  and  Polacco  ( 1996)).  Traces  of  Sikel  habitation  confirm the t radition  that  the  first G reek  settlers  ousted  the original  inhabitants  (Thuc. 6.3.2;  cf.  Martin  et al.( 1979) 655­57;  Frasca  ( 1983)). Archaeological  evidence  confirms a C 8s  foundation  date, and  C 8  habitation  remains  on  Ortygia  are  similar  to  con- temporary  remains  from  Megara  and  Naxos.  A  north­south artery,  joining  the  major  sanctuaries,  and  with  orthogonally laid  out  stenopoi,  has  an  early  origin  (Pelagatti  ( 1982)  135­38; Voza ( 1984­85)  669­72,(1993­94)  1283­87).  The  city expanded  on  to  the  mainland,  the  coastal  plain  of Achradina,  from  C 8  (Voza  ( 1976­77)  551­53),  and  from C 7l­C6e  a  narrow  isthmus  may  have  joined  Ortygia  with  its hinterland  (cf.  Strabo  1.3.18;  Kapitän  ( 1967­68)).  The  main east-west  plateia  of  the  Achradina  originated  in  the  C 8­C7 as  a  route  linking  Ortygia  with  the  Fusco  cemetery.  There  is C 5­C4  evidence  of  orthogonal  town planning  (Voza ( 1976­77)  551­61,(1980­81)  681­82).  Ortygia  and  the  inner Achradina  comprised  an  area  of  c. 50  ha. The  C 4  extension  of  the  city  northwards--obliterating the  C 7­C4  cemeteries  and  joining  the  areas  of  the  Achradina and  Neapolis--is probably t o  be  connected  with  the Timoleontic  settlement  of  new  colonists  (Diod. 16.82.3). The  periphery  of  the  city  was  taken  up  with  public  build- ings,  and  the  outskirts  of  the  Neapolis  by  theatres.  Tyche, located  to  the  east,  with  the  sanctuary  of  Tyche  and  the upper  plateau  of  Epipolai,  were  not  urbanised;  however, from  the  time  of  the  conflict w ith  Athens,  the  size  of  the  city was  about  150  ha,  and  in  the  Hellenistic  period  as  much  as 200  ha. The  island  of  Ortygia  and  the  coastal  plain  of  Achradina were  probably  fortified during the A rchaic  period  (implied by  the  mention  of  a  siege  by  Hippokrates  of  Gela  in  the  490s (Hdt. 7.154.2)  and  by  the  mention  of  walls  during  the  revolt against  Thrasyboulos  in  465  (Diod. 11.67.8;  see  also  11.73.1)); however,  the  archaeological  evidence  is  poor  (Drögemüller 228 fischer-hansen,  nielsen  and  ampolo ( 1969)  47­48,  55­56).  From  the  reign  of  Dionysios  I,  Ortygia served  as  a  strongly  fortified palace of  the  tyrants  (Diod. 14.7.2­4;  cf.  Hansen  and  Fischer-Hansen  ( 1994)  29;for remains  of  a  circuit  wall,  see  Martin  et al.( 1979)  666; Karlsson  ( 1992)  22­23),  a  palace  later  razed  to  the  ground  by Timoleon  (Diod. 16.70.4). The  plateau  of  Epipolai  was  probably  not  fortified before forts  were  laid  out  there  by  the  Athenians,  and  the  various counter  walls  and  cross  walls  were  raised  by  the  Syracusans during  the  war  of 414/13  (Thuc. 6.99­100,  7.4­7).  Dionysios I  fortified E pipolai,  first along the northern scarp (Diod. 14.18.2­8  (r 401)),  later  along  the  southern  scarp;  it  was  a  cir- cuit  wall  running  for  c. 9  km,  and  according  to Diod. 15.13.5 the  \"greatest  possessed  by  a  Greek  city\"  (Winter  ( 1971) 314­15;  Karlsson  ( 1992)  21,fig.  1,  23­38,  71).  The  west  gate  and the  Euryalos  fort  were probably  begun  by Dionysios,  but  the fully  developed  system  of  bastions  and  ditches  belong  to  the time  of  Timoleon,  with  the  final c omplex  from  C 3m (Winter  ( 1963);  Lawrence  ( 1979)  295­99). The  Archaic  agora  has  with  some  uncertainty  been  locat- ed  west  of  the  Athenaion  (modern  Piazza  del  Duomo) (Pelagatti  ( 1982)  136­37).  A  Classical  (and  Roman)  agora  is normally  taken  for  granted  in  the  southern  part  of  the Achradina  (modern  Piazza  Marconi/Foro  Siracusano),  but the  evidence  is  inconclusive (Bernabò  Brea  ( 1947);  Martin  et al.( 1979)  675). The  island  of  Ortygia  was  the  seat  of  at  least  three  major sanctuaries:  (a)  in  the  north,  the  sanctuary  of  Apollo,  with  a C 6e  Doric  temple  (Cultera  ( 1951);  Barletta  ( 1983)  72­78), with  a  history  going  back  to C 8;  (b)  the  so-called  C 6l  Ionic temple  is  located  on  the  elevated  central  part  of  the  island (G.V.  Gentili  ( 1967);  Barletta  ( 1983)  86­90);  it  is  uncertain  to whom  the  temple  was  dedicated  (G.  V.  Gentili  ( 1967)  80  sug- gests  Artemis);  it  was  not  completed,  perhaps  as  a  result  of  a revision  of  building  programmes  by  the  Deinomenidai, who  initiated  instead  the  construction  of  the  adjacent Athenaion;  (c)  the  Doric  temple  of  c. 480­470,now incorpo- rated  into  the  Renaissance  cathedral,  probably  built  by Gelon  to  replace  earlier  structures  (Orsi  ( 1919);  T.  Van Compernolle  ( 1989)  45­48,(1992)  51­55).  It  is  normally taken  for  granted  that  this  is  the  temple  dedicated  to  Athena (Cic.  Verr. 2.4.124­25),  and  according  to  Gras  ( 1990)  the  two temples  mentioned  in  Gelon's  treaty  with  the  Carthaginians (Diod. 11.26.2)  were  temples  of  Athena  in  Syracuse  and  in Himera.  Remains  from  the  temenos  include  traces  of  a stepped  altar,  parapet  and  architectural  fragments  in  Ionic style  (Barletta  ( 1983)  78­86).  Investigations  have  recently revealed  a  monumental  entrance  to  the  temenos  and evidence  of  a  C 7l­C6e  naiskos(?),  altar  and  votive  pits  south of  the  Athenaion  (Voza  ( 1993­94)  1286­87).  A  sanctuary  of Olympian  Earth  was  located  on  the  tip  of  Ortygia  (Ath. 462B). Large  quantities  of  C 5l­C4e  votive  deposits  (Martin  et al. ( 1979)  680­86;  Hinz  ( 1998)  102­7)  found  in  the  mainland Achradina  district  (modern  Piazza  Victoria)  provide  evi- dence  of  a  sanctuary  of  Demeter  and  Persephone,  perhaps the  one  embellished  with  two  temples  by  Gelon  after  the  vic- tory  at  Himera  in  480  (Diod. 11.26.7),  located  in  the  suburbs (proasteion)  and  destroyed  by  the  Carthaginians  in  396 (Diod. 14.70.4).  A  C 4  graffito w ith  a  dedication  to  Artemis Pheraia  points  to  a  cult  also  of  Artemis  in  this  sanctuary (Voza  ( 1973c)  106­7).  A  proasteion  is  not  compatible  with  a location  so  near  the  city  centre  according  to  Polacco  ( 1986) 23  n. 6,  who  suggests  that  the  Demeter  sanctuary  should rather  be  located  west  of  the  city  near  the  Olympieion.  An Apollo  sanctuary  was  located  near  the  theatre  in  the Temenites,  a  locality  on  the  outskirts  of  Achradina  (Thuc. 6.75.1,  7.75.1;  for  history  and  terminology:  Drogemüller ( 1969)  48  n. 36,  56­57).  The  sanctuary  is  now  tentatively identified w ith  the  remains  of  an  Archaic  temple  laid  out  on a  terrace  above  the  theatre  (Voza  ( 1993­94)  1289­90). After  the  fall  of  the  tyranny,  the  Syracusans  raised  a  statue of  Zeus  Eleutherios  and  founded  an  annual  festival  of eleutheria  (Diod. 11.72.2  with  Barrett  ( 1973)  30  n. 20;for a survey  of  other  festivals,  see  Trojani  in  Polacco  and  Anti ( 1981)  26­29).  The  major  suburban  cult  was  that  of  Zeus Olympios  west  of  the  river  Anapos  (Diod. 10.28.1  (r 491)). The  extant  remains  are  those  of  a  C 6m  gigantic  Doric  tem- ple,  with  evidence  of  a  C 7  predecessor  (Orsi  ( 1903);  Lissi ( 1958)).A  neighbouring  hamlet,  Polichene  at  Thuc. 7.4.6  but Polichne  at  Diod. 13.7.6,  was  fortified b y  the  Athenians  in 414.  A  suburban  Artemis  sanctuary  was  located  on  the north-east  outskirts  of  the  Epipolai  plateau,  at  the Hexapylon  gate  leading  northwards  to  Megara  and  Katane (Orsi  ( 1900)). Two  Greek  theatres  are  known  at  Syracuse.  ( 1)  The  larger is  situated  on  the  outskirts  of  the  Neapolis  district,  the Temenites,  on  the  slope  of  the  Epipolai.  In  its  main  construction  phase,  the  period  of  Hieron  II  ( 271­216),  it  had a  seating  capacity  of 14,000­17,000;  earlier  Archaic  or Classical  phases  have  not  been  demonstrated  convincingly (Polacco  and  Anti  ( 1981);  Polacco  ( 1990)).  However,  literary sources  attest  to  an  earlier  phase  of  this  theatre  at  least  from C 5e,  and  at  least  from  C 4m  it  was  built  of  stone  (Trojani  in Polacco  and  Anti  ( 1981)  41­43  with  refs.).  A  C 5s  architect  by the  name  of  Damokopos  was  associated  with  the  building  of sikelia  229 the  theatre  (cf.  Eust.  Od. 3.68),  and  Aischylos  produced  the Women  of  Aitna  for  Hieron  in  476  (see  Trojani  in  Polacco and  Anti  ( 1981)  34­36  with  refs.).  A  theatre  is  mentioned  by Diod. 13.94.1  (r 406),  and  was  used  as  ekklesiasterion  in 336 (Plut.  Tim. 34.3,  38.3).  ( 2)  About  100  m  to the  west,  rock  cut- tings  from  a  rectangular  structure  are  evidence  of  a  theatron with  rectangular  seating  and  a  cavea  with  a  diameter  of 27.5 m;  its  seating  capacity  was  about  1,000.  Its  chronology  is uncertain,  though  possibly  C 6l­C5e  (G.  V.  Gentili  ( 1952); Drögemüller  ( 1969)  48­49);  according  to  Bernabò  Brea ( 1967)  99,the  interpretation  of  the  rectangular  structure  as  a predecessor  of  the  large  theatre is  quite  uncertain,  and  it cannot  be  excluded  that  this  building  served  as  the  meeting place  for  smaller  political  bodies  or  even  as  a  bouleuterion (Ginouvès  ( 1972)  61­62;  Kolb  ( 1981)  92).  A  prison  is  attested in  Diod. 11.86.5  (rC 5m)  and  in  Plut.  Dio 57.3  (Hansen  ( 2002) 36­37). The  earliest,  Fusco,  cemetery  laid  out  east  of  the  city  was later  followed  by  an  arc  of  cemeteries  lying  around  the  city from  there  to  Tyche  in  the  west.  The  Archaic  cemeteries  in the  outer  Achradina  district  were  taken  over  by  habitation when  the  Classical  city  expanded,  pushing  the  Hellenistic cemeteries  further  out.  (For  a  survey  with  bibliography: Lanza  ( 1989);  add  Voza  ( 1993­94)  1292;  Shepherd  ( 1995) 52­56;  see  also  Frederiksen  ( 1999)). Minting  began  about  510/500  (C.  Boehringer  ( 1984­85) 122­24)  with  coins  on  the  Euboic­Attic  standard  and  the tetradrachm  as  the  main  denomination:  obv.  quadriga,  leg- end: or ;  rev.  an  incuse  mill-sail design  with  a  female  head,  probably  the  nymph  Arethusa,  in the  centre  (SNG  Cop.  Sicily 614;  standard  corpus  of Syracusan  coins  until  c. 425:  E.  Boehringer  ( 1929);  recent  sur- vey:  Rutter ( 1997)  114­16,  121­29).  The  lower  denomination is  a  didrachm  with  obv.  rider  and  side-horse;  rev.  similar  to the  tetradrachm  issue  (C.  Boehringer  ( 1984­85)  pl. 13.8­9). A  new  issue  was  probably  introduced  by  Gelon  c. 480  with basically  the  same  types  though  more  developed  in  design: the  charioteer  crowned  by  a  Nike,  and  Arethusa  on  the  rev. occupying  the  whole  field and surrounded b y  four  dolphins, legend: / (Rutter  ( 1997)  124  fig. 121;  SNG Cop.  Sicily 617­18;  SNG  Cop.  Suppl. 74;C5f  chronology, followed  here:  Rutter  ( 1998)).  Lower  denominations (didrachms  and  drachms):  obv.  horseman;  rev.  Arethusa (SNG.  Cop.  Sicily 615­16).  The  next  phase,  from  shortly before  470,  saw  a  rich  issue  of  tetradrachms  with  the  now canonical  types;  types  of  the  lower  denominations: drachms,  obv.  horseman,  rev.Arethusa;  obols,  obv.Arethusa, rev.  four-spoked  wheel  (with  between  the  spokes); litrai,  obv.  Arethusa,  legend: ,  rev.  Cuttlefish ( SNG Cop.  Sicily 620­34).  This  issue  culminated  in  a  series  of tetradrachms  and  an  innovative  issue  of  decadrachms,  now dated  470­c.466  and  no  longer  connected  with  the  480 victory  of  Gelon  at  Himera  in  480:  obv.  as  above  but  with lion  in  exergue,  rev.  Arethusa  wearing  wreath,  legend: (Rutter  ( 1993),  ( 1998)  pl. 67.3­4).  From c. 460  the  obv.  type  carried  ketos  in  exergue  (SNG  Cop.  Sicily 635­51).  The  Attic  weight  standard  and  the  obv.  design  came to  exert  great  influence on the c oinages  of  the  neigbouring cities  of  Gela,  Katane  and  Leontinoi  (Kraay  ( 1976)  210­11; Rutter ( 1998)). By C 5l,  tetradrachms  with  the  canonical  types  in  a  free style  were  produced  by  workshops  at  times  operating  with engravers  who  signed  their  dies  (Rutter  ( 1997)  144­46;  SNG Cop.  Sicily 666).  One  issue  of  the  die-cutter  Kimon  has  two letters  on  the  obv.: ,  possibly  a  reference  to a  cult  of Arethousa  Soteira  (Cahn  ( 1993)).  C 5l  also  saw  large  issues  of smaller  denominations;  of  special  interest  are  drachms  with rev.  type  showing  the  legendary  Sikanian  hero  Leukaspis (SNG  Cop.  Sicily 665,  673).  Before  400  the  standard  legend becomes  (Head,  HN ²175;  SNG  Cop. Sicily 674,681,etc.).Bronze  and  gold  issues  belong  to  the  end of  C 5  and  should  be  seen  in  the  light  of  first the A thenian and  later  the  Carthaginian  invasions  under  Dionysios  I, with  high  denominations  in  silver,  decadrachms  signed  by engravers  (C.  Boehringer  ( 1993);  Rutter  ( 1997)  146­47, 154­58;  bronzes:  Morcom  ( 1998);  SNG  Cop.  Sicily 683­700, 720­22).100-litrai  electrum  coins  were  minted  by  Dionysios I  and  II:  obv.  Apollo;  rev.  Artemis,  legend: ; smaller  denominations  were  minted  as  well  (SNG  Cop.  Sicily 701­10).  Under  Timoleon  the  Corinthian  connection  is underlined  by  Corinthian-type  pegasi  minted  at  Syracuse (SNG  Cop.  Sicily 711­12);  later  the  Zeus  Eleutherios  and  the free  horse  types  become  common  for  the  cities  under Timoleon's hegemony  (Talbert  ( 1974)  182­90;  Karlsson ( 1995);  SNG  Cop.  Sicily 725). Syracuse  founded  several  colonies.  The  earliest  was Heloron  (no. 18),  founded  in  C 8l­C7e.  Akrai  (no. 10)  was founded  in  664,  and  Kasmenai  (no. 29)  in  644  (Thuc. 6.5.2). Kamarina  (no. 28)  was  founded  c. 598  (Thuc. 6.5.3),  and within  a  few  decades  waged  war  on  its  metropolis  (Philistos (FGrHist 556)  fr. 5).  The  tyrant  Hieron  founded  the  city  of Aitna  (no. 8)  in  476  (Diod. 11.49.1­2);  and  Dionysios  I founded  Adranon  (no. 6)  (Diod. 14.37.5  (r 399)),  probably Adria  (no. 75),  possibly  Ankon  (no. 76),  certainly  Issa  (no. 81);  cf.  Stylianou  ( 1998)  ad 13.4­5  at  p. 196),  Lissos  (no. 82) (Diod. 15.13.4  (r  c. 385);  see  Stylianou  ( 1998)  ad  loc.),  and 230 fischer-hansen,  nielsen  and  ampolo Tyndaris  (no. 49).  Tauromenion  (no. 48)  too  may  possibly be  a  Dionysian  foundation.\n",
      "(Euboeus)  Map  47.  Unlocated.  Type:  C: .The toponym is ,  (Callim.  Aet.  II  fr. 43.52,  Pfeiffer; Ps.-Skymnos  287;  cf.  Freeman  ( 1891­94)  i. 380:  \"Its  name, recording  the  home-memories  of  the  men  of  Leontinoi,  is  the earliest  distinct  instance  of  the  name  of  a  land  being  used  as the  name  of  a  town;  for  there  was  a  town  as  well  as  an  island  of Naxos,  but  there  was  no  town of  Euboia\");  in  Hdt. 7.156.3  the city-ethnic  is  given  as  (to  which  is  added   ;  cf.  Camassa  ( 1989a)  391­92:  \"uno  specifico r iferi- mento  agli  abitanti  del  centro  [i.e.  the  city  of  Euboia]  e  non  .  .  .  una  designazione  dei  coloni  d'ascendenza  euboica  in Sicilia\").  The  site  of  Euboia  is  unidentified,  but  it  was  pre- sumably  located  somewhere  in  the  hinterland  of  Leontinoi (no. 33)  where  the  presence  of  Chalkidian  Greeks  is  well  doc- umented  (Procelli  ( 1989)).  The  city  has  been  tentatively  iden- tified w ith  different  modern  towns  and  localities  (cf.  Camassa ( 1989a)  392),  most  recently  with  the  site  of  Monte  San  Mauro near  Caltagirone  (Frasca  ( 1997)).  Barr.  (following  Manni ( 1981))  suggests  a  location  at  the  ACH  site  at  Licodia  Euboia. The  only  Classical  source  to  mention  Euboia  is  Hdt. 7.156.3,  which  reports  that  Gelon  subjected  it  to  the  same treatment  as  Megara,  i.e.  the  pacheis  received  citizenship  at Syracuse  (no. 47)  while  the  demos  was  sold  into  slavery;  this ought  to  imply  a  Euboian  population  socially  differentiated into  pacheis  and  demos,  and  since  the  other  communities relocated  by  Gelon  were  certainly  poleis--viz.  Kamarina  (no. 28)  and  Megara  (no. 36)--the presumption is that E uboia was  a  polis  as  well  (cf.  Seibert  ( 1979)  226,  228).  Strabo  10.1.15 also  reports  Gelon's  relocation  of  the  city  and  implies  that  it meant  a  change  of  status  for  Euboia:  it  became  a  Syracusan phrourion,  and  the  inference  is  that  it  was  a  polis  prior  to that ( ...     ,   ;  cf.  the  entry  for  Leontinoi,  which  became  a phrourion  of  Syracuse  in  the  later  420s).  Euboia  is  called  a polis  by  Ps.-Skymnos  287  in  reference  to the  time  of  founda- tion.  The  external  collective  use  of  the  city-ethnic  is  found  at Hdt. 7.156.3. sikelia  191 Only  two  events  of  Euboian  history  are  known:  its  foun- dation  and  its  destruction.  It  was  founded  by  Leontinoi  (no. 33)  (Strabo  6.2.6).  The  date  of  the  foundation  is  unknown and  must  be  inferred  from  the  context  in  which  the  literary sources  mention  it:  Strabo  6.2.6  discusses  its  foundation together  with  the  foundations  of  Himera  (no. 24),  Kallipolis (no. 27)  and  Selinous  (no. 44),  which  may  suggest  a  C 7  date for  the  foundation;  however,  Ps.-Skymnos  287­88  treats  the foundation  alongside  that  of  Mylai,  so  a  C 8l  date  cannot  be entirely  excluded.  Euboia's existence  as  a  polis  ended  when c. 485­483  Gelon  sold  its  demos  into  slavery  and  relocated  the pacheis  to  Syracuse  (Hdt. 7.156.3;  chronology:  Dunbabin ( 1948)  416);  after  that  it  was  a  Syracusan  phrourion  (Strabo 10.1.15).\n",
      "(Ailoros) Map  47.  Lat. 36.50,long.  15.05.  Size of  territory:  ? Type:  A: .  The  toponym  is  ,  (Ps.- Skylax 13)  or  (BCH 45  ( 1921)  iv. 100  ( 230­210); Steph.  Byz. 270.3).The  city-ethnic  is  (Diod. 23.4.1) or '  (Etym.  Magn. 333.3). Heloron  is  explicitly  called  a  polis  (  ) in the urban  sense  in  Ps.-Skylax  13,  where  this  phrase  is  found under  the  general  heading       (which is  opposed  to   µ ), but  apart  from  that there  is  no  evidence  for  its  status  in  the  Archaic  and  Classical periods.  The  evidence  for  Heloron  as  a  polis  in  the  political sense  is  C 3:  like  Akrai  (no. 10),  the  city  is  listed  in  the  treaty between  Syracuse  and  Rome  of 263  as  a  polis  assigned  to Hieron  II  (Diod. 23.4.1  Staatsverträge  no. 479);  this  may suggest  dependence  on  Syracuse  (no. 47)  at  an  earlier  date (infra).  In  assessing  the  polis  status  of  Heloron,  the  fact  that it  is  listed  in  the  Delphic  list  of  theorodokoi  ( 230­210)  (BCH ( 1921)  iv.100;  cf.  Manganaro  ( 1964a)  420)  may  have  some retrospective  value.  According  to Ael.  NA 12.30,Heloron  was once  a  .  There are  no  written sources  for  the  foundation  of  Heloron,  and  there  are  no coins.  Heloron  is  here  defined as a polis  type A  on  the  basis  of Ps.-Skylax 13,  but  its  polis  status  is  uncertain  given  the  prox- imity  of  Syracuse;  it  cannot  be  excluded  that  Heloron  was  an early  military  outpost  in  the  southern  dominion  of Syracuse,  though  it  may  have been  a  dependent  polis founded  as  a  fortress  (as  has  been  suggested  for  Kasmenai  by  Hansen  ( 1997a)  36;  cf.  Akrai  (no. 10)  and  Kasmenai  (no. 29)). To  the  west,  Heloron's  territory bordered  upon  the  territ- ory  of  Kamarina  (no. 28).  Heloron  was  founded  on  a  coastal plateau  about  18  km  south  of  Syracuse  and  c. 400  m  to  the north  of  the  river  Tellaro  (  ancient  Heloros);  (morphology of  the  site:  Voza  ( 1978)  pl. 37,  1;  plan  of  site:  Voza  ( 1980­81) pl. 130).  Archaeological  evidence  points  to  a  foundation  in C 8l­C7e  (Voza  ( 1973a)  117  no. 381;(1978));  so  Syracuse secured  its  interests  southwards  before  founding  the  sec- ondary  colonies  of  Akrai,  Kasmenai  and  Kamarina  (Di  Vita ( 1956)).An  abundance  of  Greek  C 7­C6m  material  is  known from  the  site,  whereas  limited  C 5  material  suggests  that  this was  a  period  of  recession.  The  city  prospered  during  the period  of  Timoleon,  and  above  all  in  the  Hellenistic  period. The  C 6  circuit  wall  was  built  in  a  pseudo-isodomic  tech- nique  as  a  double  curtain-wall  with  internal  fill ( emplekton), in  all  2.80  m  wide  (Orsi  et al.( 1966)  310­12).  A  local  lime- stone  was  used,  as  well  as  odd  material,  such  as  a  C 6  tomb- stone  (IGDS  no. 98).  The  Archaic  circuit  wall  was incorporated  in  the  C 4  fortification when the wall was strengthened  and  towers  were  added  (Orsi  et al.( 1966) 220­31).  The  C 4  circuit  wall  is  known  on  the  north,  west  and south  of  the  town,  its  course  following  the  edge  of  the  habi- tation  plateau;  the  eastern  side  facing  the  sea  also  seems  to have  been  fortified. The  habitation  area  comprised  about  9  ha.  The  1,500  seat- ing  capacity  of  the  C 4­C2  theatre  (infra)  gives  some  indica- tion  of  population  size  in  the  late  Classical  period. The  main  routes  across  the  plateau  were  not  laid  out  in straight  lines  but  in  accordance  with  the  uneven  terrain-- uncommon  in  Western  Greek  urban  planning  (Voza ( 1980­81)  686­87).  Though  this  road  system  is  known  pri- marily  from  its  Hellenistic  phase,  there  is  little  doubt  that  its origin  is  Archaic.  An  open  space  bordered  by  public  build- ings  on  the  highest  point  of  the  plateau  is  interpreted  as  an agora  (Voza  in  Storia  della  Sicilia  i. 550,fig.  90).  The  main urban  area  in  the  south-western  part  of  the  city  was  on  a  grid plan  and  delimited  on  the  north  by  a  C 4m(?)  temenos  (the so-called  Asklepieion)  of  unknown  cult  (Orsi  et al.( 1966) 287­88,  320).  Sparse  remains  of  habitation  structures  in  the southernmost  part  of  the  area  are  of  C 8l­C7e  date  and  reveal affinities w ith  contemporary  architecture  from  Megara  (no. 36)  and  Syracuse  (no. 47;  Voza  ( 1978),  ( 1980­81)  685­86).Yet another  temenos  marked  the  southern  limit  of  the  city:  a  C 4s temple  dedicated  to  Demeter  (Voza  ( 1973a)  118­19;  Hinz ( 1998)  116­18)  and  smaller  thesauroi/naiskoi. A  suburban  Demeter  sanctuary  spanning  the  Archaic  and the  Hellenistic  periods  was  located  near  the  coast  north  of Heloron  (Voza  ( 1973a)  123­26;  Storia  della  Sicilia  i. 548;  Hinz ( 1998)  111­16).  The  Hellenistic  programme  of  public  build- ing  included  a  small  C 4­C2  theatre outside  the  southern perimeter  of  the  city  (Orsi  et al.( 1966)  232­35,  324­27; Mitens ( 1988)  89­91).  Hesychius  refers  to an  ' (s.v.)  celebrated  at  the  river  Heloros  and  possibly  to  be connected  with  the  city.\n",
      "(Selinousios) Map  47.  Lat. 37.35,long.  12.50. Size of  territory: 5.  Type:  A: .  The  toponym  is  , (IvO 22.9  (C 6l)); (Hdt. 5.46.2;  Thuc. 6.4.2).  The city-ethnic  is  (C 6l  coins;  IGDS  no. 78  (c. 450)); (Thuc. 7.58.1); (Hdt. 5.46.2; Xen.  Hell. 1.2.10);  or  (CID ii  4.i.46  ( 361/60)). Selinous  is  called  a  polis  in  the  urban  sense  by  Xen.  Hell. 1.1.37  and  is  listed  by  Ps.-Skylax  13  under  the  heading   ` ;  it  is  referred  to as  a  polis  in  the  political sense  at  Thuc. 6.20.2­3  and 6.48.1.A C 6l  legal  text  from Olympia  dealing  with  exiles  from  Megara  (no. 36;  IvO 22; IGDS  no. 28)  in  fr.  f. 3  refers  to [ ];according to Asheri ( 1979b),  the  inscription  records  a  treaty  between  the  polis  of Selinous  and  a  group  of  exiles  from  Megara;  however,  the fragmentary  state  of  the  inscription  does  not  allow  us  to 220 fischer-hansen,  nielsen  and  ampolo determine  whether  the  reference  is  to  Megara  or  to  Selinous. A  C 5m  lex  sacra  refers  to h   µ  (A. 18)  and ~ µ  ~   ~ µ  (B. 10;  Jameson  et al.( 1993)). The  internal  collective  use  of  the  city-ethnic  is  attested  on C 5m  coins  (infra)  and  in  IGDS  no. 78  (c. 450;  Arena  ( 1989) no. 53);  the  external  collective use  is  attested  in  Diod. 5.9.2 (rC 6f),  Hdt. 5.46.2,  Thuc. 6.20.4  and  Xen.  Hell. 1.2.10.The external  individual  use  is  found  in  IGDS  no. 67  (C 6l),  IG XII. 5  444.65.79b  (C 3f  (rC 5l)),  and  F.Delphes iii.1391.2 (c. 360). According  to  Thuc. 6.4.2,  Selinous  was  founded  100  years after  the  foundation  of  its  metropolis  Megara,  i.e.  c. 628/7. The  oecist  Pammilos  was  possibly  from  the  original  mother city,  Megara  Nisaia  (no. 225),although  the  text  is  ambiguous (cf.  HCT  ad  loc.  and  Casevitz  ( 1985)  105,  109  n. 27),  and  a Megara  Hyblaian  origin  cannot  be  excluded.  Diod. 13.59.4 supports  the  Eusebian  date  for  the  foundation  of  Selinous: 242  years  before  its  destruction  in  409/8,i.e.c.651/50  (source: Bérard  ( 1957)  244­46).  Diodorus'  date  is  consistent  with  the chronology  of  the  recently  excavated  Buffa  and  Manuzza cemeteries  (Tusa  ( 1982)  191­94;  Rallo  ( 1982)). Selinous  was  the  westernmost  Greek  colony  on  the  south coast  of  Sicily,  founded  on  the  confines of  Phoenician  and Elymian  territories.  The  size  of  Selinous'  territory  varied, and  borders  changed  (see  La  Genière  ( 1978)).  The  C 7l immediate  hinterland  may  have  comprised  300­400  km ².A sanctuary  of  Herakles  near  the  Hellenised  Elymian  settle- ment  at  Monte  Castellazzo  di  Poggioreale,  c. 30  km  north  of Selinous,  is  deduced  from  the  C 6e  dedication  to  Herakles  by one  Aristylos  in  the  Selinountian  alphabet  and  in  Doric dialect  (IGDS  no. 84;  Falsone  ( 1992)  307­8);  stone  quarries in  the  catchment  area  of  Selinous  served  the  early  building programmes  in  the  sanctuaries  of  the  colony  (Peschlow- Bindokat  ( 1990)).  With  the  foundation  of  Minoa  in  C 6f/m (infra)  the  area  within  Selinountian  influence may have encompassed  c. 1,200­1,800  km ²,  and  there  is  clear  evidence of  Selinountine  architects  at  work  by  C 6  in  the  Contrada Mango  sanctuary  at  Segesta  (Tusa  ( 1961);  de  La  Genière ( 1978)).  The  original,  indigenous  settlement  of  Monte Adranone,  situated  on  the  western  border  of  Selinountine territory,  c. 30  km  north-west  of  Selinous,  resettled  by Selinountines  in  C 6m,  served  as  a  fortified outpost until C 5l (Fiorentini  ( 1995)).  The  site  is  perhaps  the  kome  Adranon mentioned  by  Diod.  ( 23.4.2)  in  connection  with  the  Punic wars,  not  to  be  confused  with  the  Adranon  (no. 6)  founded by  Dionysios. After  initial  peaceful  co-existence  (Tusa  ( 1983)  302­14; Zahrnt  ( 1993)  355­57),  a  long  history  of  conflicts w ith  the non-Greek  populations  can  be  traced:  an  alliance  of Selinous  and  a  colonising  expedition  led  by  Pentathlos  of Knidos  (c. 580­576)  was  defeated  by  the  Elymians  (Diod. 5.9.2­3),  and  conflicts between G reeks,  Elymians  and Phoenicians  are  also  reflected in the failed e xpedition  of Dorieus  in  510  (Hdt. 5.46.1),  if  not  already  by  the  C 6  inscrip- tion  commemorating  Aristogeiton,  who  fell  at  Motya  (IGDS no. 73;  Mafoda  ( 1995)).  In  480,  however,  Selinous  was  the only  Greek  city  of  Sicily  supporting  Carthage  against Theron  of  Akragas  and  Gelon  of  Syracuse  (Diod. 11.21.4­5, 13.55.1).  In  466,  Selinous  assisted  Syracuse  in  expelling  the tyrant  Thrasyboulos  (Diod. 11.68.1).  A  victory  of  uncertain date  is  mentioned  in  the  460­409  inscription  (IGDS  no. 78) from  temple  \"G\"  (infra)  revealing  conflicts c.C 5m  with Elymians  and/or  Phoenicians.  Not  all  relations  with  the non-Greek  populations  were  hostile,  however,  and  there may  have  been  epigamia  between  Selinous  and  Segesta (Thuc. 6.1.2  with  HCT). In 416  the  conflict w ith  Segesta  (supra)  led  Selinous  to  ally itself  with  Syracuse  (Thuc. 6.6.2),  and  accordingly  it  sup- ported  Syracuse  in  its  war  with  Athens  (Thuc. 6.65.1,  67.2, 7.58.1;  cf.  Diod. 13.4.2  (r 415)).  The  territorial  disputes between  Segesta  and  Selinous  in  416  (Thuc. 6.6.2;Diod. 12.82.3)  and  410  (Diod. 13.43.1­4)  ultimately  led  to  the destruction  of  Selinous  in  409  by  Carthage  (Diod. 13.55­57), when  the  houses  were burnt  or  torn down, 16,000  were killed, 5,000  taken  prisoners,  and  2,600  escaped  to Akragas (no. 9;Diod.  13.57.6­58.3).  The  city  was  recaptured  and  for- tified b y  Hermokrates,  who  also  laid  waste  the  territories  of Motya  and  Panormos  (Diod. 13.62.3­5  (r 409)).  As  an  out- come  of  adversities  suffered  by  the  Carthaginians,  Himilcar was  forced  to  sign  a  peace  treaty  with  Dionysios  I  in  405,in which,  however,  it  was  stipulated  that  Selinous  (and  several other  cities)  were  to  be  unfortified and pay t ribute  to Carthage  (Diod. 13.114.1;  Staatsverträge  no. 210).Yet  conflicts between  the  Greek  cities  and  Carthage  continued,  and Dionysios,  with  Selinous  and  Himera  (no. 24),  attacked Motya  in  397  (Diod. 14.47.7),  which  implies  that,  in  addition to  the  eastern  Sicilian  cities,  Himera  and  Selinous  had  also come  within  Dionysios'  hegemony.  A  second  peace  treaty  of 392  was  in  most  matters  similar  to  that  of 405  (Diod. 14.96.3; Staatsverträge  no. 233).It  seems,  however,  that  Selinous  (and the  other  cities  subjected  to  Carthage  by  the  previous  treaty) were  now  handed  over  to  Dionysios  I  (see  Stylianou  ( 1998) 207).  In  a  peace  treaty  of  c. 374  Selinous,  its  territory,  and Akragas  were  again  ceded  to  the  Carthaginians  (Diod. 15.17.5 with  Stylianou  ( 1998)  ad  loc.;  Staatsverträge  no. 261). Selinous  was  recaptured  by  Dionysios  in  368,but an sikelia  221 armistice  was  agreed  and  the  old  borders  were  re- established  (Diod. 15.73.2­4),  and  when  Dion  visited Herakleia  Minoa  (west  of  Selinous)  in  357,  this  city  was  con- trolled  by  Carthage  (Diod  16.9.4).  In  the  339  treaty  between Timoleon  and  Carthage,  Selinous  was  left  within  the Carthaginian  sphere  of interest  (Diod. 16.82.3; Staatsverträge  no. 344;  cf.  Talbert  ( 1974)  83­85),  and  this  was confirmed b y  the  treaty  between  Agathokles  and  Carthage in 314  (Diod. 19.71.7). A  few  scattered  sources  shed  some  light  on  the  military strength  of  Selinous  and  the  size  of  its  population.  A  contin- gent  of  hoplites  from  Selinous  fought  alongside  the Syracusans  in  415  (Thuc. 6.67.2);  later,  Selinountine  psiloi and  hippeis  marched  to  Syracuse  under  the  command  of Gylippos  (Thuc. 7.1.3­5;  cf.  Diod. 13.4.7  (r 414));  hippeis  are mentioned  also  in  Diod. 11.21.4  (r 480).  A  navy  is  implied  by Thucydides'  reference  to two  nees  ...Selinountiai  at 8.26.1 (cf.  Xen.  Hell. 1.2.8  for  another  two).  In reference  to 410, Diod. 13.44.3  describes  Selinous  as  a  polis  polyandrousa,  and a  hint  of  the  C 5l  size  of  population  is  found  in  the  figures of 16,000  inhabitants  killed  and  5,000  captives  taken  by  the Carthaginians  in  409  (Diod. 13.57.6);  this  had  already  been preceded  by  the  loss  of 1,000  men  in  an  ambush  (Diod. 13.44.4  (r 410)).  Even  so, 2,600  escaped  to Akragas  (Diod. 13.58.3).  A  full  mobilisation  of  forces  is  mentioned  in  Diod. 14.47.7  (r 397). Diplomatic  activities  include  the  reception  of  envoys (Diod. 11.68.1  (r 466))  as  well  as  the  sending  of  envoys  (Diod. 11.21.4  (r 480),  bibliaphoroi,  cf. 13.54.3  (r 409),  13.43.7,  44.4 (r 409)).  F.Delphes iii.1391  (c. 360­355)  is  a  grant  of  various privileges  by  Delphi  (no. 177)  to  a  man  of  Selinous.  A  grant of  politeia  to  Selinountians  by  Ephesos  (no. 844)  is  recorded by Xen.  Hell. 1.2.10;it  was  prompted  by  the  destruction  of  the city. What  we  know  about  the  constitution  indicates  that Selinous  was  mostly  governed  by  tyrants,  at  least  in  the  Archaic  period.  Tyranny  is  attested  in  connection  with the  C 6l  expedition  of  Dorieus,  whose  Euryleon liberated  the  Selinountians  from  the  mounarchos Pythagoras  but  went  on  to assume  monarchical  power  him- self  (Hdt. 5.46.2;  cf.  Luraghi  ( 1994)  54­55;  Mafoda  ( 1995)). An  earlier  tyranny  at  Selinous  (C 6m  or  C 6f)  may  be  sug- gested  by the  anecdote  of  \"Theron,  son  of  Miltiades\"  assum- ing  tyrannical  power  by  a  stratagem  (Polyaen. 1.28.2;  full discussion:  Luraghi  ( 1994)  52­54).  The  µ  of  IvO 22  (IGDS  no. 28  (C 6l))  refers  to  a  magistracy  attested  also  in Megara  Nisaia  (no. 225)  and  other  Megarian  colonies (Dubois  ad  IGDS  no. 28  fr.b. 5­6  with  refs.);  however,  the context  does  not  make  clear  whether  the  reference  is  to Selinous  or  to  Megara  (for  the  office in general,  see  Asheri ( 1979b)  490).  The  text  may  mention  a  halia:h ] [  (see  Arena  ( 1989)  no. 52  fr.  h. 4;  Asheri  ( 1979b)). Whether  this  Selinountine(?)  halia  should  be  interpreted  as an  ekklesia  or  a  special  court  is  uncertain;  Asheri  opts  for  an ad  hoc  tribunal  (Asheri  ( 1979b)  490).  Two  C 5  public  enact- ments  are  preserved:  a  lex  sacra  of  C 5m  (Jameson  et al. ( 1993))  and  IGDS  no. 78  IG xiv  268  (C 5m/s),  which  lists Selinountine  divinities  and  incorporates  a  decree.  A metoikos  at  Selinous  is  mentioned  by  Callim.  fr. 201 (Pfeiffer)  Dieg. ix.15­16  (referring  to  the  period  before Timaios  wrote,  cf.  FGrHist 566,fr.  148).  A  C 6­C5  dedicatory inscription  attests  the  existence  of  a  whose  mem- bers  are  given  as  two  groups  of  women  (Lazzarini  no. 880e; cf.  Jameson  et al.( 1993)  90);  it  is  not  clear  whether  this  was  a public  or  a  private  institution. A  C 5f  dedication  by  the  citizens  of  Selinous  and  the metopes  of  Temple  C  testify  to  the  Selinountian  pantheon  in which  the  principal  divinity  seems  to  be  Zeus  (IG xiv  268; SEG 38  960;  SEG 43  628;  IGDS  no. 78;  see  also  Jameson  et al. ( 1993)). Selinous  had  a  thesauros  at  Olympia  (Paus. 6.19.11  (rC 5)). The  foundation  of  the  building  has  with  some  probability been  identified,  and  C 5e  architectural  terracottas  have  with some  uncertainty  been  associated  with  it  (Mertens-Horn and  Viola  ( 1990)  240). The  town  of  Selinous  was  founded  on  a  vast  plateau, c. 1.3  km  long,  oriented  roughly  north­south  between  the ancient  river  Selinous,  from  which  the  city  took  its  name (Douris  (FGrHist 76)  fr. 59),  to  the  west,  and  the  river Cotone  to  the  east.  The  site  comprises  three  hills  separated by  the  river  valleys,  the  city  occupying  the  central  plateau, while  the  two  lateral  plateaux,  the  Gaggera  to  the  west  and the  Marinella  to  the  east,  were  dedicated  to  sanctuaries (Martin  et al.( 1979)  637­53;  cf.  Parisi  Presicce  ( 1984)  fig. 2 and 127­32  for  topographical  surveys).  The  southern plateau,  facing  the  coast  and  often  regarded  as  the  acropolis of  the  city,  owes  its  acropolis-like  appearance  to  an  artificial accentuation  of  the  morphology  of  the  site  due  to  C 4l  and C 3l  defensive  structures  (Di  Vita  ( 1980)). C 7m/s  habitation  remains  on  the  northern,  Manuzza plateau  (Rallo  ( 1976­1977),  ( 1984))  and  on  the  \"acropolis\" (Fourmont  ( 1984­85))  have  revealed  an  overall  coherence  in the  urbanisation  of  the  two  areas.  Unusually,  a  cemetery  is situated  within  the  urban  area  on  the  Manuzza.  A  large  part of  the  \"acropolis\"  was  laid  out  as  a  temenos  from  C 7.  There  is also  coherence  between  the  three  major  plateaux  of  the  site 222 fischer-hansen,  nielsen  and  ampolo from  C 7:  the  Manuzza  plateau  and  \"acropolis\",  the  Marinella plateau  east  of  the  river  Hypsas  with  a  C 7  shrine  (Gullini ( 1993)),  and  the  Gaggera  plateau  west  of  the  river  Selinous with  the  Malophoros  sanctuary  and  the  C 7l  megaron (Romeo  ( 1989)  40,no.  64).  The  main  east­west  axis  on  the \"acropolis\"joined  the  estuaries  of  the  two  rivers  and  the  har- bours  of  Selinous,  the  eastern  harbour  possibly  military,  the western  harbour  possibly  commercial. In  the  second  urban  phase,  from  c.C 6e,  the  habitation area  and  urban  layout  encompassed  also  the  east  and  west slopes  of  the  central  plateau  with  parts  of  the  confining val- leys  (de  La  Genière  and  Rougetet  ( 1985);  Mertens  ( 1999) 188­90).  Habitation  on  the  northernmost  part  of  the Manuzza  plateau  was  laid  out  on  a  different  orientation  to that  employed  on  the  \"acropolis\"  and  on  the  southern  part of  Manuzza  plateau,  and  an  agora  at  the  junction  of  these separate  urban  districts  is  similar  to  the  location  of  the  agora at  Megara  (Mertens  ( 1999)  190­93).  Rallo  ( 1976­77)  731  has suggested  that  the  differences  in  orientation  could  reflect different  populations,  and  a  Corinthian  ethnic  group  has been  deduced  from  epigraphic  and  tomb  evidence  (cf.  de  La Genière  ( 1977)  257;  IGDS  nos. 72  and 79).  The  C 6­C5  urban area  comprised  about  100  ha  (Mertens  ( 1989)  fig. 4,(1999) fig.  on  p. 188). A  theatre,  possibly  serving  as  the  meeting  place  for  the assembly,  is  mentioned  in  Callim.  fr. 201,  Pfeiffer,  Dieg. ix.22­23  (referring  to  the  period  before  Timaios  wrote,  cf. FGrHist 566,fr.  148). So  far  none  of  the  defensive  walls  of  the  \"acropolis\"  can  be dated  earlier  than  the  C 5l  Hermokratean  structures  of 409, when  the  Syracusan  exiles  seized  Selinous  for  a  short  period in  connection  with  the  Carthaginian  war  (Diod. 13.63.3­4; ibid. 185­86).  By  contrast,  the  outer  circuit  wall  and  gates  in the  Hypsas  valley,  marking  the  eastern  limit  of  the  city,  are  of C 6f  and  C 5e  (Mertens  ( 1989)  138­39).  A  circuit  wall  across the  Manuzza  plain  was  probably  raised  by  Hermokrates  in 409  (ibid. 139­43).  The  sophisticated  fortification and g ate system  on  the  north  side  of  the  acropolis,  comparable  with the  Euryalos  fortification at S yracuse,  may  in  its  final phase be  the  work  of  Agathokles  during  his  short  occupation  of Selinous  in  307  (Diod. 20.56.3;  cf.  Lawrence  ( 1979)  295; Mertens  ( 1989)  110­31,  151). The  central  and  south-eastern  part  of  the  \"acropolis\"  was from  early  on  occupied  by  at  least  two  temene  (Gabrici ( 1929));  the  south  temenos  with  two  parallel  temples  of  C 5f, \"O\"  and  \"A\"  (divinities  unknown).  The  central  temenos  has traces  of  simple  C 7l­C6e  naiskoi.  There  is  no  structural evidence  for  a  major  C 6  peripteral  temple,  but  architectural terracottas  are  taken  as  evidence  for  one.  As part  of  the  C 6f regular  urban  plan,  the  sanctuary  was  enclosed  by  peribolos walls  from  580  to 560  (Østby  ( 1995)).A  large  artificial t errace supported  by  a  huge,  stepped  retaining  wall  of  ashlar masonry  on  the  east  slope  of  the  acropolis,  dated  prior  to C 6m,  permitted  an  enlargement  of  the  temenos  and  the erection  of  new  buildings:  temple  \"C\"  (date  controversial: before  C 6m  or  c. 530­520)  replaced  the  earlier,  conjectural temple,  with  an  altar  to  the  east  and  a  monumental  stoa  on top  of  the  retaining  wall  marking  the  east  side  of  the  temenos (Di  Vita  ( 1967),  ( 1984)).  Architectural  fragments  and  sculp- ture  reused  in  the  later  fortifications are from an otherwise unknown  sanctuary,  possibly  near  the  agora  (Mertens ( 1999)).  The  temenos  was  enlarged  in  C 5e  to make  room  for the  monumental  temple  \"D\". On  the  basis  of  epigraphic  evidence,  above  all  the  inscrip- tion  (IGDS  no. 78)  from  temple  \"G\"  (infra),  temple  \"C\",  with its  predecessor,  is  attributed  to  Apollo  (Bejor  ( 1977)  449; IGDS  no. 51).  The  dedicatees  of  the  c. 480­450  temples  \"A\", \"O\"  and  \"D\"  are  more  uncertain.  Three  monumental  tem- ples,  \"E\",  \"F\"  and  \"G\",  were  aligned  on  the  Marinella  hill  east of  the  Hypsas  valley  (Berve  and  Gruben  ( 1963)  426­32; Gullini  ( 1993)).  Temple  \"G\"  (C 6l,  not  completed)  is  among the  most  monumental  of  antiquity;  the  inscription  from  the adyton  mentions  a  victory,  a  number  of  divinities,  and  a dedication  to  these  in  gold  to  the  value  of 60  tal.  put  up      (Calder  ( 1963),  ( 1964);  IGDS  no. 78).  The occasion  of  the  victory  is  unknown,  but  historical  and  epi- graphical  evidence  dates  the  inscription  between  460  and 409  (Calder  ( 1963)  54­62).The  temple  is  often  interpreted  as the  Apolloneion  mentioned  in  the  inscription,  but  the  evid- ence  is  inconclusive,  and  the  identification of  the  temple  as an  Olympieion  has  won  support  (Tusa  ( 1967);  Bejor  ( 1977); infra).  The  cult  of  the  C 6m  temple  \"F\"  is  unknown,  but  the closed  peristasis  may  indicate  a  mystery  cult,  e.g.  of  Dionysos or  Demeter.  Temple  \"E\",  of  C 7l­C5m,  has  been  identified as a  Heraion  (IGDS  no. 56). At  least  four  sanctuaries  were  located  on  the  Gaggera  hill west  of  the  river  Selinous  (Gabrici  ( 1927);  Tusa  et al. ( 1984­85)  574­81).  The  major  sanctuary  of  Demeter Malophoros  (IGDS  no. 54),  located  near  the  coast  and  har- bour,  had  an  initial  phase  in  C 7l­C6e  and  a  monumental aspect  established  by C 6s  with  a  temple,  a  monumental  altar and  a  peribolos  wall,  later  embellished  with  a  C 5l  propylon. The  votive  material  is  immensely  rich  (Gabrici  ( 1927); recent  surveys:  Dewailly  ( 1992)  1­36  and  Hinz  ( 1998) 144­52).  The  cult  of  the  adjacent  C 6m  temenos  was  that  of Hekate  (IGDS  no. 55).  To  the  north,  a  sanctuary  of  Zeus sikelia  223 Meilichios  bordered  on  that  of  Demeter  (Gabrici  ( 1927) 91­107;  Tusa  ( 1977)),  with  a  cult  that  is  characterised  by  a number  of  C 6s­C5  crude  and  simple  stone  stelai  carrying votive  inscriptions  (earliest  C 6m:  IGDS  nos. 45,  50;  Jameson et al.( 1993)  89­107,  132­36)  and  by  later  defixiones  (IGDS nos. 35,  39,  40).  To  the  south,  a  peribolos  wall,  parallel  to that of  the  Demeter  sanctuary,  enclosed  yet  another  temenos  and temple  of  uncertain  cult  (Parisi  Presicce  ( 1984)  21­24).  A  C 6 temple  \"M\"  marks  the  north  end  of  the  row  of  sanctuaries (Sguaitammati  ( 1993)). The  inscription  from  temple  \"G\"  (IGDS  no. 78)  mentions Zeus,  Phobos,  Herakles,  Apollo,  Poseidon,  the  Tyndaridai, Athena, (Demeter)  Malophoros  and  Pasikrateia (Persephone?).  The  second  part  of  the  dedication,  the decree,  mentions  an  Apolloneion  and  Zeus  (Calder  ( 1963); IGDS  no. 78).  A  cult  of  Zeus  Agoraios  is  revealed  by  the episode  of  Euryleon  seeking  refuge  at  the  altar  of  Zeus Agoraios  (Hdt. 5.46.2).  Coin  types  suggest  cults  of  Artemis and  Apollo,  and  the  river-gods  Selinous  and  Hypsas. The  earliest  cemetery  is  the  one  situated  in  the  south-east of  the  Manuzza  plateau  dating  from  before  C 7m  and  in  use throughout  C 7,  the  early  material  reflecting the M egarian origin  of  Selinous  (Rallo  ( 1982)).  Contemporaneously  and in  subsequent  periods  cemeteries  were  laid  out  on  the  hills surrounding  the  urban  site:  C 7m  on  the  Buffa  hills  north- east  of  the  Manuzza  plateau  (Tusa  ( 1982)  196­202);  C 6e  and C 5,  mainly  inhumation  tombs,  some  cremation  and  a  few child  enchytrismos  burials  on  the  Gaggera  hills  west  of  the Manuzza  plateau,  and  C 7s  tombs  on  the  Galera  hills  north  of the  Manuzza  plateau  (Vallet  and  Villard  ( 1958)). Selinous  was  one  of  the  first S icilian  cities  to  issue  coins, c. 540­530:  staters  probably  initially  on  the  Corinthian standard  but  at  the  end  of  the  Archaic  phase  on  the  Attic. Types:  obv.  celery  leaf  ( );rev.patterned punch-mark in  incuse  square  (SNG  Cop.  Sicily 591­93;  SNG  Cop.  Suppl. 73).Later  issues  have  rev.  celery  leaf  in  incuse  square,  legend: with  variations  (SNG  Cop.  Sicily 594).  Three  smaller fractions  carry rev.  celery  leaf,  or  flower,  or  pellets  (Cutroni Tusa  ( 1975);  C.  Boehringer  ( 1984­85)  116­19;  SNG  Cop.  Sicily 595­96).  A  unique  drachm  carries  the  unabbreviated  city-ethnic  as  legend  (Cutroni  Tusa  ( 1988­89)  370­71). Confirmation of  Corinthian  influence on early S icilian coinage  and  imports  of  bullion  from  the  Aegean  area  is given  by  a  C 6l  coin  and  bullion  hoard  found  near  Selinous (ibid.  ( 1988­89)  397­98).  Minting  of  Syracuse-inspired tetradrachms  began  c. 450:  obv.  sacred  chariot  with  Apollo and  Artemis,  legend: ;  rev.  naked  youth, the  river-god  Selinous,  offering  a  libation  at  an  altar  in  a sanctuary,  l.  below  cock,  on  r.  celery  leaf  and  statue  of  bull, legend: (SNG  Cop.  Sicily 597).  The  types  of  the lower  denomination  (didrachms)  are:  obv.  Herakles  fight- ing  Cretan  bull,  legend: ;  rev.river-god Hypsas,  legend: (SNG  Cop.  Sicily 601);  on  smaller denominations,  obv.  nymph  seated  on  rock  (SNG  Cop.  Sicily 602­3).  The  issues  continue  with  variants  until  409  (SNG Cop.  Sicily 604­6).  Bronze  coinage  was  issued  at  least  from c. 420  (Price  ( 1979);  Rutter  ( 1997)  142);  however,  an  issue  of cast  coins  may  go  back  to  450­440  (Cutroni  Tusa  ( 1997­98) 646­47). Selinous  founded  the  colony  of  (Herakleia)  Minoa  (no. 20)  (Hdt. 5.46.2)  on  the  estuary  of  the  river  Platani  c.C 6f/m to  secure  its  eastern  territory  against  Akragantine  expan- sion,  but  after  the  short-lived  rule  of  Euryleon,  the  colony was  taken  by  Akragas  (no. 9);  during  Theron's reign ( 488­473)  it  seems  to  have  been  a  city  within  Akragantine dominion,  possibly  after  conquest  by Theron  (cf.  Diod. 4.79.4  with  Fontana  ( 1978);  see  further  Herakleia  (no. 20)).\n"
     ]
    }
   ],
   "source": [
    "for i in PoleisKeyList:\n",
    "    if \"Megara\" in PoleisRawData[i]:\n",
    "        print(PoleisRawData[i])"
   ]
  },
  {
   "cell_type": "code",
   "execution_count": 17,
   "metadata": {
    "collapsed": false
   },
   "outputs": [],
   "source": [
    "# PoleisRawData"
   ]
  },
  {
   "cell_type": "code",
   "execution_count": 18,
   "metadata": {
    "collapsed": false
   },
   "outputs": [
    {
     "data": {
      "text/html": [
       "<div>\n",
       "<table border=\"1\" class=\"dataframe\">\n",
       "  <thead>\n",
       "    <tr style=\"text-align: right;\">\n",
       "      <th></th>\n",
       "      <th>10. Akrai</th>\n",
       "      <th>11. Alaisa</th>\n",
       "      <th>12. Alontion</th>\n",
       "      <th>13. Apollonia</th>\n",
       "      <th>14. Engyon</th>\n",
       "      <th>15. Euboia</th>\n",
       "      <th>16. Galeria</th>\n",
       "      <th>17. Gela</th>\n",
       "      <th>18. Heloron</th>\n",
       "      <th>19. Henna</th>\n",
       "      <th>...</th>\n",
       "      <th>47. Syrakousai</th>\n",
       "      <th>48. Tauromenion</th>\n",
       "      <th>49. Tyndaris</th>\n",
       "      <th>5. Abakainon</th>\n",
       "      <th>50. (Tyrrhenoi)</th>\n",
       "      <th>51. Zankle</th>\n",
       "      <th>6. Adranon</th>\n",
       "      <th>7. Agyrion</th>\n",
       "      <th>8. Aitna</th>\n",
       "      <th>9. Akragas</th>\n",
       "    </tr>\n",
       "  </thead>\n",
       "  <tbody>\n",
       "    <tr>\n",
       "      <th>0</th>\n",
       "      <td>(Akraios) Map  47.  Lat. 37.05,long.  14.55.  ...</td>\n",
       "      <td>(Alaisinos) Map  47.  Lat. 38.00,long.  14.15....</td>\n",
       "      <td>(Alontinos) Map  47.  Lat. 38.05,long.  14.40....</td>\n",
       "      <td>(Apolloniates) Map  47.  Lat. 38.00,long. 14.3...</td>\n",
       "      <td>(Engyinos)  Map  47.  Lat. 37.45,long.  14.35....</td>\n",
       "      <td>(Euboeus)  Map  47.  Unlocated.  Type:  C: .Th...</td>\n",
       "      <td>(Galarinos) Map  47.Unlocated  (Manni  ( 1981)...</td>\n",
       "      <td>(Geloios,  Geloaios) Map  47.  Lat. 37.05,long...</td>\n",
       "      <td>(Ailoros) Map  47.  Lat. 36.50,long.  15.05.  ...</td>\n",
       "      <td>(Hennaios) Map  47.  Lat. 37.35,long.  14.15. ...</td>\n",
       "      <td>...</td>\n",
       "      <td>(Syrakosios) Map  47.  Lat. 37.05,long. 15.15....</td>\n",
       "      <td>(Tauromenitas) Map  47.  Lat. 37.50, long. 15....</td>\n",
       "      <td>(Tyndarites) Map  47.  Lat. 38.10,long.  15.05...</td>\n",
       "      <td>(Abakaininos) Map  47.  Lat. 38.05,long. 15.05...</td>\n",
       "      <td>Map 47.  Unlocated.  Type:  C: .The  Tyr- rhen...</td>\n",
       "      <td>(Zanklaios)/Messana</td>\n",
       "      <td>(Adranites) Map  47.  Lat. 37.40,long.  14.50....</td>\n",
       "      <td>(Agyrinaios) Map  47.  Lat. 37.40,long.  14.30...</td>\n",
       "      <td>(Aitnaios) Map  47.Location  of  Aitna  I  as ...</td>\n",
       "      <td>(Akragantinos) Map  47.  Lat. 37.20,long.  13....</td>\n",
       "    </tr>\n",
       "  </tbody>\n",
       "</table>\n",
       "<p>1 rows × 47 columns</p>\n",
       "</div>"
      ],
      "text/plain": [
       "                                          10. Akrai   \\\n",
       "0  (Akraios) Map  47.  Lat. 37.05,long.  14.55.  ...   \n",
       "\n",
       "                                         11. Alaisa   \\\n",
       "0  (Alaisinos) Map  47.  Lat. 38.00,long.  14.15....   \n",
       "\n",
       "                                       12. Alontion   \\\n",
       "0  (Alontinos) Map  47.  Lat. 38.05,long.  14.40....   \n",
       "\n",
       "                                      13. Apollonia   \\\n",
       "0  (Apolloniates) Map  47.  Lat. 38.00,long. 14.3...   \n",
       "\n",
       "                                         14. Engyon   \\\n",
       "0  (Engyinos)  Map  47.  Lat. 37.45,long.  14.35....   \n",
       "\n",
       "                                         15. Euboia   \\\n",
       "0  (Euboeus)  Map  47.  Unlocated.  Type:  C: .Th...   \n",
       "\n",
       "                                        16. Galeria   \\\n",
       "0  (Galarinos) Map  47.Unlocated  (Manni  ( 1981)...   \n",
       "\n",
       "                                           17. Gela   \\\n",
       "0  (Geloios,  Geloaios) Map  47.  Lat. 37.05,long...   \n",
       "\n",
       "                                        18. Heloron   \\\n",
       "0  (Ailoros) Map  47.  Lat. 36.50,long.  15.05.  ...   \n",
       "\n",
       "                                          19. Henna   \\\n",
       "0  (Hennaios) Map  47.  Lat. 37.35,long.  14.15. ...   \n",
       "\n",
       "                         ...                          \\\n",
       "0                        ...                           \n",
       "\n",
       "                                     47. Syrakousai   \\\n",
       "0  (Syrakosios) Map  47.  Lat. 37.05,long. 15.15....   \n",
       "\n",
       "                                    48. Tauromenion   \\\n",
       "0  (Tauromenitas) Map  47.  Lat. 37.50, long. 15....   \n",
       "\n",
       "                                       49. Tyndaris   \\\n",
       "0  (Tyndarites) Map  47.  Lat. 38.10,long.  15.05...   \n",
       "\n",
       "                                       5. Abakainon   \\\n",
       "0  (Abakaininos) Map  47.  Lat. 38.05,long. 15.05...   \n",
       "\n",
       "                                     50. (Tyrrhenoi)           51. Zankle   \\\n",
       "0  Map 47.  Unlocated.  Type:  C: .The  Tyr- rhen...  (Zanklaios)/Messana    \n",
       "\n",
       "                                         6. Adranon   \\\n",
       "0  (Adranites) Map  47.  Lat. 37.40,long.  14.50....   \n",
       "\n",
       "                                         7. Agyrion   \\\n",
       "0  (Agyrinaios) Map  47.  Lat. 37.40,long.  14.30...   \n",
       "\n",
       "                                           8. Aitna   \\\n",
       "0  (Aitnaios) Map  47.Location  of  Aitna  I  as ...   \n",
       "\n",
       "                                         9. Akragas   \n",
       "0  (Akragantinos) Map  47.  Lat. 37.20,long.  13....  \n",
       "\n",
       "[1 rows x 47 columns]"
      ]
     },
     "execution_count": 18,
     "metadata": {},
     "output_type": "execute_result"
    }
   ],
   "source": [
    "# Liest das Dictionary als Dataframe ein. \n",
    "dfPoleis = pd.DataFrame([PoleisRawData])\n",
    "dfPoleis"
   ]
  },
  {
   "cell_type": "code",
   "execution_count": 19,
   "metadata": {
    "collapsed": false
   },
   "outputs": [
    {
     "data": {
      "text/html": [
       "<div>\n",
       "<table border=\"1\" class=\"dataframe\">\n",
       "  <thead>\n",
       "    <tr style=\"text-align: right;\">\n",
       "      <th></th>\n",
       "      <th>0</th>\n",
       "    </tr>\n",
       "  </thead>\n",
       "  <tbody>\n",
       "    <tr>\n",
       "      <th>10. Akrai</th>\n",
       "      <td>(Akraios) Map  47.  Lat. 37.05,long.  14.55.  ...</td>\n",
       "    </tr>\n",
       "    <tr>\n",
       "      <th>11. Alaisa</th>\n",
       "      <td>(Alaisinos) Map  47.  Lat. 38.00,long.  14.15....</td>\n",
       "    </tr>\n",
       "    <tr>\n",
       "      <th>12. Alontion</th>\n",
       "      <td>(Alontinos) Map  47.  Lat. 38.05,long.  14.40....</td>\n",
       "    </tr>\n",
       "    <tr>\n",
       "      <th>13. Apollonia</th>\n",
       "      <td>(Apolloniates) Map  47.  Lat. 38.00,long. 14.3...</td>\n",
       "    </tr>\n",
       "    <tr>\n",
       "      <th>14. Engyon</th>\n",
       "      <td>(Engyinos)  Map  47.  Lat. 37.45,long.  14.35....</td>\n",
       "    </tr>\n",
       "    <tr>\n",
       "      <th>15. Euboia</th>\n",
       "      <td>(Euboeus)  Map  47.  Unlocated.  Type:  C: .Th...</td>\n",
       "    </tr>\n",
       "    <tr>\n",
       "      <th>16. Galeria</th>\n",
       "      <td>(Galarinos) Map  47.Unlocated  (Manni  ( 1981)...</td>\n",
       "    </tr>\n",
       "    <tr>\n",
       "      <th>17. Gela</th>\n",
       "      <td>(Geloios,  Geloaios) Map  47.  Lat. 37.05,long...</td>\n",
       "    </tr>\n",
       "    <tr>\n",
       "      <th>18. Heloron</th>\n",
       "      <td>(Ailoros) Map  47.  Lat. 36.50,long.  15.05.  ...</td>\n",
       "    </tr>\n",
       "    <tr>\n",
       "      <th>19. Henna</th>\n",
       "      <td>(Hennaios) Map  47.  Lat. 37.35,long.  14.15. ...</td>\n",
       "    </tr>\n",
       "    <tr>\n",
       "      <th>20. Herakleia 1</th>\n",
       "      <td>(Herakleotes) Map  47.  Lat. 37.25,long. 13.15...</td>\n",
       "    </tr>\n",
       "    <tr>\n",
       "      <th>21. Herakleia 2</th>\n",
       "      <td>Map 47.Unlocated  site  in  western  Sicily, i...</td>\n",
       "    </tr>\n",
       "    <tr>\n",
       "      <th>22. Herbes(s)os</th>\n",
       "      <td>(Herbessinos) Map  47.  Unlocated,  but presum...</td>\n",
       "    </tr>\n",
       "    <tr>\n",
       "      <th>23. Herbita</th>\n",
       "      <td>(Herbitaios) Map  47.Unlocated  (cf.  C.  Boeh...</td>\n",
       "    </tr>\n",
       "    <tr>\n",
       "      <th>24. Himera</th>\n",
       "      <td>(Himeraios) Map  47.  Lat. 37.55,long.  13.50....</td>\n",
       "    </tr>\n",
       "    <tr>\n",
       "      <th>25. Hippana</th>\n",
       "      <td>(Hipanatas)  Map  47.  Lat. 37.40,long.  13.25...</td>\n",
       "    </tr>\n",
       "    <tr>\n",
       "      <th>26 *Imachara</th>\n",
       "      <td>(Imacharaios) Map  47.  Unlocated.  Barr. tent...</td>\n",
       "    </tr>\n",
       "    <tr>\n",
       "      <th>27. Kallipolis</th>\n",
       "      <td>(Kallipolites)  Map  47.  Unlocated.  Type:  A...</td>\n",
       "    </tr>\n",
       "    <tr>\n",
       "      <th>28. Kamarina</th>\n",
       "      <td>(Kamarinaios) Map  47.  Lat. 36.50,long. 14.25...</td>\n",
       "    </tr>\n",
       "    <tr>\n",
       "      <th>29. Kasmenai</th>\n",
       "      <td>(Kasmenaios) Map  47.  Lat. 37.05,long. 14.50....</td>\n",
       "    </tr>\n",
       "    <tr>\n",
       "      <th>30. Katane</th>\n",
       "      <td>(Katanaios) Map  47.  Lat. 37.30,long.  15.05....</td>\n",
       "    </tr>\n",
       "    <tr>\n",
       "      <th>31. Kentoripa</th>\n",
       "      <td>(Kentoripinos) Map  47.  Lat. 37.35,long. 14.4...</td>\n",
       "    </tr>\n",
       "    <tr>\n",
       "      <th>32. Kephaloidion</th>\n",
       "      <td>(Kephaloiditas) Map  47.  Lat. 38.00, long. 14...</td>\n",
       "    </tr>\n",
       "    <tr>\n",
       "      <th>33. Leontinoi</th>\n",
       "      <td>(Leontinos) Map  47.  Lat. 37.15,long.  15.00....</td>\n",
       "    </tr>\n",
       "    <tr>\n",
       "      <th>34. Lipara</th>\n",
       "      <td>(Liparaios) Map  47.  Lat. 38.30  long. 14.55....</td>\n",
       "    </tr>\n",
       "    <tr>\n",
       "      <th>35. *Longane</th>\n",
       "      <td>(Longenaios) Map  47.  Lat. 38.05,long. 15.10....</td>\n",
       "    </tr>\n",
       "    <tr>\n",
       "      <th>36. Megara</th>\n",
       "      <td>(Megareus) Map  47.  Lat. 37.10,long.  15.10. ...</td>\n",
       "    </tr>\n",
       "    <tr>\n",
       "      <th>37. Morgantina</th>\n",
       "      <td>(Morgantinos) Map  47.  Lat. 37.25,long. 14.30...</td>\n",
       "    </tr>\n",
       "    <tr>\n",
       "      <th>38. Mylai</th>\n",
       "      <td>(Mylaios) Map  47.  Lat. 38.15,  long  15.15. ...</td>\n",
       "    </tr>\n",
       "    <tr>\n",
       "      <th>39. Mytistratos</th>\n",
       "      <td>(Mytiseratinos) Map  47.  Lat. 37.35,long. 14....</td>\n",
       "    </tr>\n",
       "    <tr>\n",
       "      <th>40. Nakone</th>\n",
       "      <td>(Nakonaios)  Map  47.  Unlocated  (Tegon ( 199...</td>\n",
       "    </tr>\n",
       "    <tr>\n",
       "      <th>41. Naxos</th>\n",
       "      <td>(Naxios) Map  47.  Lat. 37.50,long.  15.15.  S...</td>\n",
       "    </tr>\n",
       "    <tr>\n",
       "      <th>42. Petra</th>\n",
       "      <td>(Petrinos) Map  47.  Unlocated  (cf.  Bejor  (...</td>\n",
       "    </tr>\n",
       "    <tr>\n",
       "      <th>43. Piakos</th>\n",
       "      <td>(Piakinos) Map  47.  Unlocated,  but  possibly...</td>\n",
       "    </tr>\n",
       "    <tr>\n",
       "      <th>44. Selinous</th>\n",
       "      <td>(Selinousios) Map  47.  Lat. 37.35,long.  12.5...</td>\n",
       "    </tr>\n",
       "    <tr>\n",
       "      <th>45. (Sileraioi)</th>\n",
       "      <td>Map 47.  Unlocated  (cf.  Manni  ( 1981)  225)...</td>\n",
       "    </tr>\n",
       "    <tr>\n",
       "      <th>46. (Stielanaioi)</th>\n",
       "      <td>Map 47.  Lat. 37.10,long.  14.55:  the  loca- ...</td>\n",
       "    </tr>\n",
       "    <tr>\n",
       "      <th>47. Syrakousai</th>\n",
       "      <td>(Syrakosios) Map  47.  Lat. 37.05,long. 15.15....</td>\n",
       "    </tr>\n",
       "    <tr>\n",
       "      <th>48. Tauromenion</th>\n",
       "      <td>(Tauromenitas) Map  47.  Lat. 37.50, long. 15....</td>\n",
       "    </tr>\n",
       "    <tr>\n",
       "      <th>49. Tyndaris</th>\n",
       "      <td>(Tyndarites) Map  47.  Lat. 38.10,long.  15.05...</td>\n",
       "    </tr>\n",
       "    <tr>\n",
       "      <th>5. Abakainon</th>\n",
       "      <td>(Abakaininos) Map  47.  Lat. 38.05,long. 15.05...</td>\n",
       "    </tr>\n",
       "    <tr>\n",
       "      <th>50. (Tyrrhenoi)</th>\n",
       "      <td>Map 47.  Unlocated.  Type:  C: .The  Tyr- rhen...</td>\n",
       "    </tr>\n",
       "    <tr>\n",
       "      <th>51. Zankle</th>\n",
       "      <td>(Zanklaios)/Messana</td>\n",
       "    </tr>\n",
       "    <tr>\n",
       "      <th>6. Adranon</th>\n",
       "      <td>(Adranites) Map  47.  Lat. 37.40,long.  14.50....</td>\n",
       "    </tr>\n",
       "    <tr>\n",
       "      <th>7. Agyrion</th>\n",
       "      <td>(Agyrinaios) Map  47.  Lat. 37.40,long.  14.30...</td>\n",
       "    </tr>\n",
       "    <tr>\n",
       "      <th>8. Aitna</th>\n",
       "      <td>(Aitnaios) Map  47.Location  of  Aitna  I  as ...</td>\n",
       "    </tr>\n",
       "    <tr>\n",
       "      <th>9. Akragas</th>\n",
       "      <td>(Akragantinos) Map  47.  Lat. 37.20,long.  13....</td>\n",
       "    </tr>\n",
       "  </tbody>\n",
       "</table>\n",
       "</div>"
      ],
      "text/plain": [
       "                                                                   0\n",
       "10. Akrai          (Akraios) Map  47.  Lat. 37.05,long.  14.55.  ...\n",
       "11. Alaisa         (Alaisinos) Map  47.  Lat. 38.00,long.  14.15....\n",
       "12. Alontion       (Alontinos) Map  47.  Lat. 38.05,long.  14.40....\n",
       "13. Apollonia      (Apolloniates) Map  47.  Lat. 38.00,long. 14.3...\n",
       "14. Engyon         (Engyinos)  Map  47.  Lat. 37.45,long.  14.35....\n",
       "15. Euboia         (Euboeus)  Map  47.  Unlocated.  Type:  C: .Th...\n",
       "16. Galeria        (Galarinos) Map  47.Unlocated  (Manni  ( 1981)...\n",
       "17. Gela           (Geloios,  Geloaios) Map  47.  Lat. 37.05,long...\n",
       "18. Heloron        (Ailoros) Map  47.  Lat. 36.50,long.  15.05.  ...\n",
       "19. Henna          (Hennaios) Map  47.  Lat. 37.35,long.  14.15. ...\n",
       "20. Herakleia 1    (Herakleotes) Map  47.  Lat. 37.25,long. 13.15...\n",
       "21. Herakleia 2    Map 47.Unlocated  site  in  western  Sicily, i...\n",
       "22. Herbes(s)os    (Herbessinos) Map  47.  Unlocated,  but presum...\n",
       "23. Herbita        (Herbitaios) Map  47.Unlocated  (cf.  C.  Boeh...\n",
       "24. Himera         (Himeraios) Map  47.  Lat. 37.55,long.  13.50....\n",
       "25. Hippana        (Hipanatas)  Map  47.  Lat. 37.40,long.  13.25...\n",
       "26 *Imachara       (Imacharaios) Map  47.  Unlocated.  Barr. tent...\n",
       "27. Kallipolis     (Kallipolites)  Map  47.  Unlocated.  Type:  A...\n",
       "28. Kamarina       (Kamarinaios) Map  47.  Lat. 36.50,long. 14.25...\n",
       "29. Kasmenai       (Kasmenaios) Map  47.  Lat. 37.05,long. 14.50....\n",
       "30. Katane         (Katanaios) Map  47.  Lat. 37.30,long.  15.05....\n",
       "31. Kentoripa      (Kentoripinos) Map  47.  Lat. 37.35,long. 14.4...\n",
       "32. Kephaloidion   (Kephaloiditas) Map  47.  Lat. 38.00, long. 14...\n",
       "33. Leontinoi      (Leontinos) Map  47.  Lat. 37.15,long.  15.00....\n",
       "34. Lipara         (Liparaios) Map  47.  Lat. 38.30  long. 14.55....\n",
       "35. *Longane       (Longenaios) Map  47.  Lat. 38.05,long. 15.10....\n",
       "36. Megara         (Megareus) Map  47.  Lat. 37.10,long.  15.10. ...\n",
       "37. Morgantina     (Morgantinos) Map  47.  Lat. 37.25,long. 14.30...\n",
       "38. Mylai          (Mylaios) Map  47.  Lat. 38.15,  long  15.15. ...\n",
       "39. Mytistratos    (Mytiseratinos) Map  47.  Lat. 37.35,long. 14....\n",
       "40. Nakone         (Nakonaios)  Map  47.  Unlocated  (Tegon ( 199...\n",
       "41. Naxos          (Naxios) Map  47.  Lat. 37.50,long.  15.15.  S...\n",
       "42. Petra          (Petrinos) Map  47.  Unlocated  (cf.  Bejor  (...\n",
       "43. Piakos         (Piakinos) Map  47.  Unlocated,  but  possibly...\n",
       "44. Selinous       (Selinousios) Map  47.  Lat. 37.35,long.  12.5...\n",
       "45. (Sileraioi)    Map 47.  Unlocated  (cf.  Manni  ( 1981)  225)...\n",
       "46. (Stielanaioi)  Map 47.  Lat. 37.10,long.  14.55:  the  loca- ...\n",
       "47. Syrakousai     (Syrakosios) Map  47.  Lat. 37.05,long. 15.15....\n",
       "48. Tauromenion    (Tauromenitas) Map  47.  Lat. 37.50, long. 15....\n",
       "49. Tyndaris       (Tyndarites) Map  47.  Lat. 38.10,long.  15.05...\n",
       "5. Abakainon       (Abakaininos) Map  47.  Lat. 38.05,long. 15.05...\n",
       "50. (Tyrrhenoi)    Map 47.  Unlocated.  Type:  C: .The  Tyr- rhen...\n",
       "51. Zankle                                      (Zanklaios)/Messana \n",
       "6. Adranon         (Adranites) Map  47.  Lat. 37.40,long.  14.50....\n",
       "7. Agyrion         (Agyrinaios) Map  47.  Lat. 37.40,long.  14.30...\n",
       "8. Aitna           (Aitnaios) Map  47.Location  of  Aitna  I  as ...\n",
       "9. Akragas         (Akragantinos) Map  47.  Lat. 37.20,long.  13...."
      ]
     },
     "execution_count": 19,
     "metadata": {},
     "output_type": "execute_result"
    }
   ],
   "source": [
    "#Namen der Poleis als Index benutzen\n",
    "dfPoleis = dfPoleis.transpose()\n",
    "dfPoleis"
   ]
  },
  {
   "cell_type": "code",
   "execution_count": 20,
   "metadata": {
    "collapsed": false
   },
   "outputs": [],
   "source": [
    "# Umnennen der Spalte von 0 zu 'full_text'\n",
    "dfPoleis = dfPoleis.rename(columns={0: 'full_text'})"
   ]
  },
  {
   "cell_type": "code",
   "execution_count": 21,
   "metadata": {
    "collapsed": false
   },
   "outputs": [],
   "source": [
    "# Extrahiere Name der Polis aus Index\n",
    "dfPoleis['city'] = [x[3:] for x in dfPoleis.index]"
   ]
  },
  {
   "cell_type": "code",
   "execution_count": 22,
   "metadata": {
    "collapsed": true
   },
   "outputs": [],
   "source": [
    "# Extrahiere Nummer des Polis Eintrags\n",
    "dfPoleis['city_index'] = [int(re.findall('\\d{1,2}', x)[0]) for x in dfPoleis.index]"
   ]
  },
  {
   "cell_type": "code",
   "execution_count": 23,
   "metadata": {
    "collapsed": true
   },
   "outputs": [],
   "source": [
    "# Sortiere Dataframe nach Eintragsnummer der Polis\n",
    "dfPoleis = dfPoleis.sort_values(by='city_index')"
   ]
  },
  {
   "cell_type": "code",
   "execution_count": 24,
   "metadata": {
    "collapsed": true
   },
   "outputs": [],
   "source": [
    "# Nutze neuen Index (startet bei 0)\n",
    "dfPoleis = dfPoleis.reset_index(drop=True)"
   ]
  },
  {
   "cell_type": "code",
   "execution_count": 25,
   "metadata": {
    "collapsed": false
   },
   "outputs": [
    {
     "data": {
      "text/plain": [
       "'(Abakaininos) Map  47.  Lat. 38.05,long. 15.05.  Size  of  territory:  ?  Type:  B: .  The  toponym  is ,  (Diod. 14.90.3)  or  ,  (Diod. 19.65.6;  Steph.  Byz. 2.11).  The  city-ethnic  is   (C 4s  coins,  infra;Diod. 14.78.5;  Steph.  Byz. 2.15). Abakainon  is  called  a  polis  in  the  urban  and  political  sens- es  at  Diod. 14.90.3  (r 393)  and  19.65.6  (r 315),  and  in  the  urban sense  at  14.90.4  (r 393).  The  passage  at  14.90.3  describes  it  as  a polis  symmachis  of  Magon,  and  in  a  later  period  it  was  part  of the  symmachia  of  Agathokles,  alongside  such  poleis  as Kamarina,  Leontinoi,  Katane  and  Messana  (Diod. 19.65.6 (r 315),  19.110.4  (r 311)).  The  internal  collective  use  of  the  city- ethnic  is  found  on  coins  struck  c. 400  (infra),  and  the  exter- nal  collective use  is  found  in  Diod. 19.110.4  (r 311). In 396,  Dionysios  I  deprived  Abakainon  of  a  part  of  its chora,  which  was  handed  over  to  his  new  foundation, Tyndaris  (no. 49;Diod.  14.77.5).  Abakainon  was  situated south-east  of  Tyndaris,  at  modern  Tripi.  The  ancient  city, destroyed  by  the  modern,  is  poorly  known.  However, Diodorus\\'  report  ( 14.90.3)  that  in  393  Carthaginian  troops ²²  For  an  analysis  of  the  conflicts,  see  Manni  ( 1976a)  201\\xad4. 182 fischer-hansen,  nielsen  and  ampolo defeated  by  Dionysios  took  refuge  in  the  city  (  ) suggests that by this date it was fortified.  There are  sporadic  Greek  remains  from  C 6,  and  substantial  Greek remains  from  C 4  (Villard  ( 1954));  the  investigation  of  the extensive  cemetery  north  of  the  city  has  brought  to  light  also monumental  C 4  tombs  of  the  type  known  from  Leontinoi (Bacci  and  Spigo  ( 1997\\xad98));  the  city  minted  a  Greek-style coinage  from  C 5m  (infra). Abakainon  struck  silver  coins  (litra,  hemilitron)  from c.C 5m:  obv.  laureate  head,  bearded  (an  indigenous  god assimilated  to  Zeus)  or  beardless  (assimilated  to  Apollo),  or, on  later  coinage,  female  head  (nymph,  or  Demeter  or Persephone);  rev.  wild  boar  and  acorn,  at  times  a  grain  of barley  or  sow  and  piglet,  legend: ,  (above acorn)  (below), (on  obv.) (on  rev.), (Head,  HN ²  118;  Bertino  ( 1975);  SNG Cop.  Sicily 1\\xad6).  In  C 4s,  the  city  struck  in  bronze:  ( 1) Probably  from  the  time  of  Timoleon:  obv.  female  head;  rev. forepart  of  bull,  or  forepart  of  man-headed  bull,  legend: ,  [],  (Head, HN ²  118;  Bertino  ( 1975)  124\\xad26;  SNG  Cop.  Sicily 7);  ( 2) c. 344\\xad338:  obv.  head  of  Dioskouros,  legend: ;  rev.\"free horse\",  legend: ;  the  obv.  type  may  indicate  influence from  the  mint  of  Tyndaris  or,  more  generally,  from  southern Italy  (Bertino  ( 1975)  124\\xad26).'"
      ]
     },
     "execution_count": 25,
     "metadata": {},
     "output_type": "execute_result"
    }
   ],
   "source": [
    "dfPoleis['full_text'].iloc[0]"
   ]
  },
  {
   "cell_type": "code",
   "execution_count": null,
   "metadata": {
    "collapsed": true
   },
   "outputs": [],
   "source": []
  }
 ],
 "metadata": {
  "anaconda-cloud": {},
  "kernelspec": {
   "display_name": "Python 3",
   "language": "python",
   "name": "python3"
  },
  "language_info": {
   "codemirror_mode": {
    "name": "ipython",
    "version": 3
   },
   "file_extension": ".py",
   "mimetype": "text/x-python",
   "name": "python",
   "nbconvert_exporter": "python",
   "pygments_lexer": "ipython3",
   "version": "3.5.2"
  },
  "latex_envs": {
   "bibliofile": "biblio.bib",
   "cite_by": "apalike",
   "current_citInitial": 1,
   "eqLabelWithNumbers": true,
   "eqNumInitial": 0
  },
  "nav_menu": {},
  "toc": {
   "navigate_menu": true,
   "number_sections": true,
   "sideBar": true,
   "threshold": 6,
   "toc_cell": false,
   "toc_section_display": "block",
   "toc_window_display": false
  }
 },
 "nbformat": 4,
 "nbformat_minor": 0
}

{
 "cells": [
  {
   "cell_type": "markdown",
   "metadata": {
    "extensions": {
     "jupyter_dashboards": {
      "version": 1,
      "views": {
       "grid_default": {
        "col": 0,
        "height": 4,
        "hidden": true,
        "row": 0,
        "width": 4
       },
       "report_default": {}
      }
     }
    }
   },
   "source": [
    "# Sundial Type Browser\n",
    "## Import und Optionen"
   ]
  },
  {
   "cell_type": "code",
   "execution_count": 1,
   "metadata": {
    "collapsed": true,
    "extensions": {
     "jupyter_dashboards": {
      "version": 1,
      "views": {
       "grid_default": {
        "hidden": true
       },
       "report_default": {}
      }
     }
    }
   },
   "outputs": [],
   "source": [
    "# Extension Import\n",
    "from ipywidgets import *\n",
    "from IPython.display import Javascript, display, clear_output\n",
    "import pandas as pd\n",
    "from PIL import Image\n",
    "from collections import OrderedDict\n",
    "import requests\n",
    "from io import BytesIO\n",
    "# CSV Import\n",
    "reurl = 'https://raw.githubusercontent.com/computational-humanities/topoi/fkotschka/projects/sundials/DataFrame_Repo.csv'\n",
    "df_re = pd.DataFrame.from_csv(BytesIO(requests.get(reurl).content))\n",
    "clurl = 'https://raw.githubusercontent.com/computational-humanities/topoi/fkotschka/projects/sundials/DataFrame_Classification.csv'\n",
    "df_cl = pd.DataFrame.from_csv(BytesIO(requests.get(clurl).content))\n",
    "#Setting DF-Options\n",
    "pd.set_option('display.max_colwidth', -1)"
   ]
  },
  {
   "cell_type": "markdown",
   "metadata": {
    "extensions": {
     "jupyter_dashboards": {
      "version": 1,
      "views": {
       "grid_default": {
        "col": 4,
        "height": 4,
        "hidden": true,
        "row": 22,
        "width": 4
       },
       "report_default": {}
      }
     }
    }
   },
   "source": [
    "## Erstellen des DataFrames und der Formen- bzw Klassen Dictionaries"
   ]
  },
  {
   "cell_type": "code",
   "execution_count": 2,
   "metadata": {
    "collapsed": false,
    "extensions": {
     "jupyter_dashboards": {
      "version": 1,
      "views": {
       "grid_default": {
        "hidden": true
       },
       "report_default": {}
      }
     }
    }
   },
   "outputs": [],
   "source": [
    "# Merging DataFrame columns and adding column 'Link'\n",
    "dfcl_short = pd.DataFrame([pd.to_numeric(df_cl['ObjID'],downcast='float', errors='coerce'),pd.to_numeric(df_cl['Dialface1 ID'],downcast='float', errors='coerce'),pd.to_numeric(df_cl['Corpus Shape ID'],downcast='float', errors='coerce'),df_cl['Corpus Shape Name'],df_cl['Corpus Shape Certainty']]).T;\n",
    "dfre_short = pd.DataFrame([df_re['Holder Location'],df_re['Site Location'],df_re['Dating'],df_re['ObjID']]).T;\n",
    "dfmerged = pd.merge(dfre_short, dfcl_short , how='left' , on='ObjID');\n",
    "dfmerged['Link'] = dfmerged['Dialface1 ID'].apply(lambda x: '<a href=\"http://repository.edition-topoi.org/collection/BSDP/object/{0}\" target=\"_blank\">Edition-Topoi.org</a>'.format(x))"
   ]
  },
  {
   "cell_type": "code",
   "execution_count": 3,
   "metadata": {
    "collapsed": true,
    "extensions": {
     "jupyter_dashboards": {
      "version": 1,
      "views": {
       "grid_default": {
        "hidden": true
       },
       "report_default": {}
      }
     }
    }
   },
   "outputs": [],
   "source": [
    "# Creating / Sorting Class-Dict\n",
    "dict_Classes = {'All':'All','Box': ['Box','Box-Variante','Angular Box'],'Rhodos':['Rhodos ohne vorstehenden Fuß','Rhodos mit vorstehendem Fuß','Rhodos mit unklarer Fuß-Situation','Schräger Zylinder'],'[roofed]':['[roofed] simple','[roofed] mit durchdringender Kugel','[roofed] mit Kappung oben'],'Deko':['Decorative Object, type 1','Decorative Object, type 2'],'Horizontale Flächen':['Horizontal Slab (rectangular)','Horizontal Slab (circular)','Pavement','Vertical high cylinder with horizontal top surface','Object with horizontal top surface, shape unknown'],'geneigte Platten':['Inclined Slab (rectangular)','Inclined Slab (hemicircle)','Inclined Slab'],'niedriger Steinblock':['Rectangular Cuboid (low)','Rectangular Cuboid (low), Sculpture','Rectangular Cuboid (low), with front opening'],'Spat':['Parallelpiped with inclined back and front faces','Parallelpiped with inclined back and front faces with foot','Rectangular Block with inclined back side'],'Senkrechte Fronten':['Viertelkugel mit Fuß','Rectangular Cuboid (high)'],'Vertikale Flächen':['Vertical south facing slab (rectangular)','Vertical south facing slab (almost semicircular)','Vertical south facing wall','Roughly shaped block with vertical plane south facing surface','Zwei rechtwinklig verbundene rechtwinklige Platten mit halbbogenförmigen Ausschnitten','Rechtwinklig verbundene Steinelemente mit vertikalen Flächen','SZickzack'],'Second Use':['Rectangular Column (second use)','Altar (second use)'],'Einzelstücke':['[roofed] Skulptur','[roofed] Karthago','[roofed] Pompei','[roofed] unklar','Tenos','Tower of the Winds','Inclined Block','Rankengöttin','Doppel-SD auf Fuß','nicht weiter spezifizierte Einzelstücke'],'Andere': ['Miniatur London, Ephesos','Stela','Globe'],'Nicht Klassifiziert': ['classification not available','classification not possible','object does not meet criteria for being classified']}\n",
    "od_Classes = OrderedDict(sorted(dict_Classes.items(), key=lambda t: t[0]))"
   ]
  },
  {
   "cell_type": "code",
   "execution_count": 4,
   "metadata": {
    "collapsed": true,
    "extensions": {
     "jupyter_dashboards": {
      "version": 1,
      "views": {
       "grid_default": {
        "hidden": true
       },
       "report_default": {}
      }
     }
    }
   },
   "outputs": [],
   "source": [
    "# Creating / Sorting Formen-Dict\n",
    "dict_Formen = {'Box':1, 'Box-Variante':2,'Rhodos ohne vorstehenden Fuß':3,'Rhodos mit vorstehendem Fuß':4,'Rhodos mit unklarer Fuß-Situation':5,'Angular Box':6,'Viertelkugel mit Fuß':7,'Rectangular Cuboid (low)':8,'Rectangular Cuboid (low), Sculpture':9,'Rectangular Cuboid (low), with front opening':10,'Rectangular Cuboid (high)':11,'Decorative Object, type 1':12,'Decorative Object, type 2':13,'Miniatur London, Ephesos':14,'Parallelpiped with inclined back and front faces':15,'Parallelpiped with inclined back and front faces with foot':16,'Rectangular Block with inclined back side':17,'Inclined Slab':18,'Inclined Slab (hemicircle)':19,'Inclined Slab (rectangular)':20,'Horizontal Slab (rectangular)':21,'Horizontal Slab (circular)':22,'Pavement':23,'Vertical high cylinder with horizontal top surface':24,'Object with horizontal top surface, shape unknown':25,'Vertical south facing slab (rectangular)':26,'Vertical south facing slab (almost semicircular)':27,'Vertical south facing wall':28,'Roughly shaped block with vertical plane south facing surface':29,'Zwei rechtwinklig verbundene rechtwinklige Platten mit halbbogenförmigen Ausschnitten':30,'Rechtwinklig verbundene Steinelemente mit vertikalen Flächen':31,'SZickzack':32,'Curved circular disc (onesided)':33,'Curved circular disc (twosided)':34,'Stela':35,'Rectangular Column (second use)':36,'Altar (second use)':37,'Globe':38,'[roofed] simple':39,'[roofed] mit durchdringender Kugel':40,'[roofed] mit Kappung oben':41,'[roofed] Skulptur':42,'[roofed] Karthago':43,'Tenos':44,'[roofed] Pompei':45,'[roofed] unklar':46,'Bowl Delos (cut)':47,'Tower of the Winds':48,'Inclined Block':49,'Schräger Zylinder':50,'Rankengöttin':51,'Doppel-SD auf Fuß':52,'nicht weiter spezifizierte Einzelstücke':99,'classification not available':101,'classification not possible':0,'object does not meet criteria for being classified':100}\n",
    "od_Formen = OrderedDict(sorted(dict_Formen.items(), key=lambda t: t[0]))"
   ]
  },
  {
   "cell_type": "markdown",
   "metadata": {
    "extensions": {
     "jupyter_dashboards": {
      "version": 1,
      "views": {
       "grid_default": {
        "col": 8,
        "height": 4,
        "hidden": true,
        "row": 22,
        "width": 4
       },
       "report_default": {}
      }
     }
    }
   },
   "source": [
    "## Funktionen"
   ]
  },
  {
   "cell_type": "code",
   "execution_count": 5,
   "metadata": {
    "collapsed": false,
    "extensions": {
     "jupyter_dashboards": {
      "version": 1,
      "views": {
       "grid_default": {
        "hidden": true
       },
       "report_default": {}
      }
     }
    }
   },
   "outputs": [],
   "source": [
    "# Ausgabe des DataFrames auf Knopfdruck\n",
    "def create_table(push):\n",
    "    cb_false = list(x for x in list([del_col(ObjID),del_col(CsI),del_col(DiFa),del_col(Csn),del_col(Hol),del_col(Si),del_col(Li),del_col(Csc),del_col(Dat)]) if x is not None)\n",
    "    df = build_df(dfmerged.loc[dfmerged['Corpus Shape ID'] == d2.value]).sort_values([cb.children[3].children[0].value])\n",
    "    if len(df)>0:\n",
    "        df = df.style.set_properties(**{'background-color': '#ACA490','color': 'black','border-color': 'black','cell-color': 'black','font-family': 'Dosis','head-color':'blue'})\n",
    "    else:\n",
    "        df = 'Keine Sonnenuhr dieses Typs in der Datenbank'\n",
    "    clear_output(wait=True)\n",
    "    display(df)\n",
    "\n",
    "# Erstellen der Kurzliste für das 2. Dropdownmenu \n",
    "def split(di):\n",
    "    try:\n",
    "        {key:di[key] for key in d1.value}\n",
    "        return {key:di[key] for key in d1.value}\n",
    "    except: \n",
    "        return di  \n",
    "\n",
    "# Ausgabe von ábgewählten Checkboxen\n",
    "def del_col(cb):\n",
    "    if cb.value == False:\n",
    "        return cb.description\n",
    "    \n",
    "# Ausgabe des Typenbildes\n",
    "def img(value):\n",
    "    clear_output(wait = True)\n",
    "    display(Image.open(BytesIO(requests.get('https://github.com/computational-humanities/topoi/blob/fkotschka/projects/sundials/Konusformen/KF-'+str(d2.value)+'.png?raw=true').content)))\n",
    "    \n",
    "# Erstellen des DataFrames und Löschen unerwünschter Spalten\n",
    "def build_df(x):\n",
    "    cb_false = list(x for x in list([del_col(ObjID),del_col(CsI),del_col(DiFa),del_col(Csn),del_col(Hol),del_col(Si),del_col(Li),del_col(Csc),del_col(Dat)]) if x is not None)\n",
    "    if len(cb_false) > 0:\n",
    "        for col in x.columns:\n",
    "            if col in cb_false:\n",
    "                del x[col]\n",
    "        return x\n",
    "    else: \n",
    "        return x\n",
    "    \n",
    "# Ändern von Dropdownmenu 2\n",
    "def obs(*args):\n",
    "    with d2.hold_trait_notifications():\n",
    "        d2.options=split(od_Formen) \n",
    "        \n",
    "# Ändern der Radiobuttons\n",
    "def true_list(*args):\n",
    "# Äquivalent zu del_col\n",
    "    def true_col(cb):\n",
    "        if cb.value == True:\n",
    "            return cb.description\n",
    "    with so.hold_trait_notifications():\n",
    "        so.options = list( x for x in list([true_col(ObjID),true_col(DiFa), true_col(Hol),true_col(Si),true_col(Csc), true_col(Dat)]) if x is not None)"
   ]
  },
  {
   "cell_type": "markdown",
   "metadata": {
    "extensions": {
     "jupyter_dashboards": {
      "version": 1,
      "views": {
       "grid_default": {
        "col": 0,
        "height": 4,
        "hidden": true,
        "row": 24,
        "width": 4
       },
       "report_default": {}
      }
     }
    }
   },
   "source": [
    "## Erstellen der Widgets"
   ]
  },
  {
   "cell_type": "code",
   "execution_count": 6,
   "metadata": {
    "collapsed": true,
    "extensions": {
     "jupyter_dashboards": {
      "version": 1,
      "views": {
       "grid_default": {
        "hidden": true
       },
       "report_default": {}
      }
     }
    }
   },
   "outputs": [],
   "source": [
    "# Button\n",
    "button = widgets.Button(description=\"Anzeige der Tabelle\", button_style='success')\n",
    "button.on_click(create_table)"
   ]
  },
  {
   "cell_type": "code",
   "execution_count": 7,
   "metadata": {
    "collapsed": false,
    "extensions": {
     "jupyter_dashboards": {
      "version": 1,
      "views": {
       "grid_default": {
        "hidden": true
       },
       "report_default": {}
      }
     }
    }
   },
   "outputs": [],
   "source": [
    "#Checkboxes\n",
    "ObjID = widgets.Checkbox(value=True,description='ObjID',disabled=False)\n",
    "DiFa = widgets.Checkbox(value=False,description='Dialface1 ID',disabled=False)\n",
    "Hol = widgets.Checkbox(value=True,description='Holder Location',disabled=False)\n",
    "Si = widgets.Checkbox(value=True,description='Site Location',disabled=False)\n",
    "Li = widgets.Checkbox(value=True,description='Link',disabled=False)\n",
    "CsI= widgets.Checkbox(value=True,description='Corpus Shape ID',disabled=False)\n",
    "Csn= widgets.Checkbox(value=False,description='Corpus Shape Name',disabled=False)\n",
    "Csc= widgets.Checkbox(value=True,description='Corpus Shape Certainty',disabled=False)\n",
    "Dat= widgets.Checkbox(value=True,description='Dating',disabled=False)"
   ]
  },
  {
   "cell_type": "code",
   "execution_count": 8,
   "metadata": {
    "collapsed": true,
    "extensions": {
     "jupyter_dashboards": {
      "version": 1,
      "views": {
       "grid_default": {
        "hidden": true
       },
       "report_default": {}
      }
     }
    }
   },
   "outputs": [],
   "source": [
    "# Radiobuttons\n",
    "so = widgets.RadioButtons(options=['ObjID', 'Corpus Shape Certainty','Site Location','Holder Location','Dating'],description='Sort by:')"
   ]
  },
  {
   "cell_type": "code",
   "execution_count": 9,
   "metadata": {
    "collapsed": false,
    "extensions": {
     "jupyter_dashboards": {
      "version": 1,
      "views": {
       "grid_default": {
        "hidden": true
       },
       "report_default": {}
      }
     }
    }
   },
   "outputs": [],
   "source": [
    "# Dropdown\n",
    "d1=widgets.Dropdown(description='BoxClass',options=od_Classes)\n",
    "d2=widgets.Dropdown(description='BoxForm',options=split(od_Formen))"
   ]
  },
  {
   "cell_type": "code",
   "execution_count": 10,
   "metadata": {
    "collapsed": true,
    "extensions": {
     "jupyter_dashboards": {
      "version": 1,
      "views": {
       "grid_default": {
        "hidden": true
       },
       "report_default": {}
      }
     }
    }
   },
   "outputs": [],
   "source": [
    "# Output Boxen\n",
    "label_layout = Layout()\n",
    "cb_items = [Box([ObjID,DiFa,CsI], layout=Layout(display='flex',flex_flow='row',justify_content='flex-start')),Box([Csn,Csc,Si], layout=Layout(display='flex',flex_flow='row',justify_content='flex-start')),Box([Hol,Dat,Li], layout=Layout(display='flex',flex_flow='row',justify_content='flex-start')),Box([so], layout=Layout(display='flex',flex_flow='row',justify_content='center'))]\n",
    "cb = Box(cb_items, layout=Layout(flex_flow='column',border='solid 1px #618B9D',width='410px'))\n",
    "ddb_items = [Box([d1],layout=Layout(display='flex',flex_flow='row',justify_content='flex-start')),Box([d2],layout=Layout(display='flex',flex_flow='row',justify_content='flex-start'))]\n",
    "ddb = Box(ddb_items, layout=Layout(flex_flow='column',border='solid 1px #618B9D',width='410px'))"
   ]
  },
  {
   "cell_type": "markdown",
   "metadata": {
    "extensions": {
     "jupyter_dashboards": {
      "version": 1,
      "views": {
       "grid_default": {
        "col": 4,
        "height": 4,
        "hidden": true,
        "row": 22,
        "width": 4
       },
       "report_default": {}
      }
     }
    }
   },
   "source": [
    "## Observe-Befehle um Änderungen in Widgets abzufangen, die sich auf nachfolgende Widgets auswirken"
   ]
  },
  {
   "cell_type": "code",
   "execution_count": 11,
   "metadata": {
    "collapsed": true,
    "extensions": {
     "jupyter_dashboards": {
      "version": 1,
      "views": {
       "grid_default": {
        "hidden": true
       },
       "report_default": {}
      }
     }
    }
   },
   "outputs": [],
   "source": [
    "# Observe \n",
    "ObjID.observe(true_list)\n",
    "DiFa.observe(true_list)\n",
    "Hol.observe(true_list)\n",
    "Si.observe(true_list)\n",
    "Csc.observe(true_list)\n",
    "Dat.observe(true_list)\n",
    "d1.observe(obs)\n",
    "d2.observe(img)"
   ]
  },
  {
   "cell_type": "markdown",
   "metadata": {
    "extensions": {
     "jupyter_dashboards": {
      "version": 1,
      "views": {
       "grid_default": {
        "col": 8,
        "height": 4,
        "hidden": true,
        "row": 22,
        "width": 4
       },
       "report_default": {}
      }
     }
    }
   },
   "source": [
    "## Anzeige der Widgets"
   ]
  },
  {
   "cell_type": "code",
   "execution_count": 12,
   "metadata": {
    "collapsed": false,
    "extensions": {
     "jupyter_dashboards": {
      "version": 1,
      "views": {
       "grid_default": {
        "col": 2,
        "height": 18,
        "hidden": false,
        "row": 0,
        "width": 3
       },
       "report_default": {}
      }
     }
    }
   },
   "outputs": [
    {
     "data": {
      "image/png": "[encoded data removed]",
      "text/plain": [
       "<PIL.PngImagePlugin.PngImageFile image mode=P size=400x169 at 0x7F337F21EE48>"
      ]
     },
     "metadata": {},
     "output_type": "display_data"
    }
   ],
   "source": [
    "# Widget Display\n",
    "display(ddb,cb)\n",
    "Image.open(BytesIO(requests.get('https://github.com/computational-humanities/topoi/blob/fkotschka/projects/sundials/Konusformen/KF-0.png?raw=true').content))"
   ]
  },
  {
   "cell_type": "code",
   "execution_count": 13,
   "metadata": {
    "collapsed": false,
    "extensions": {
     "jupyter_dashboards": {
      "version": 1,
      "views": {
       "grid_default": {
        "col": 0,
        "height": 79,
        "hidden": false,
        "row": 18,
        "width": 7
       },
       "report_default": {}
      }
     }
    }
   },
   "outputs": [
    {
     "data": {
      "text/html": [
       "\n",
       "        <style  type=\"text/css\" >\n",
       "        \n",
       "        \n",
       "            #T_cc3a6e78_b254_11e6_be9f_52540071b085row0_col0 {\n",
       "            \n",
       "                font-family:  Dosis;\n",
       "            \n",
       "                head-color:  blue;\n",
       "            \n",
       "                color:  black;\n",
       "            \n",
       "                border-color:  black;\n",
       "            \n",
       "                cell-color:  black;\n",
       "            \n",
       "                background-color:  #ACA490;\n",
       "            \n",
       "            }\n",
       "        \n",
       "            #T_cc3a6e78_b254_11e6_be9f_52540071b085row0_col1 {\n",
       "            \n",
       "                font-family:  Dosis;\n",
       "            \n",
       "                head-color:  blue;\n",
       "            \n",
       "                color:  black;\n",
       "            \n",
       "                border-color:  black;\n",
       "            \n",
       "                cell-color:  black;\n",
       "            \n",
       "                background-color:  #ACA490;\n",
       "            \n",
       "            }\n",
       "        \n",
       "            #T_cc3a6e78_b254_11e6_be9f_52540071b085row0_col2 {\n",
       "            \n",
       "                font-family:  Dosis;\n",
       "            \n",
       "                head-color:  blue;\n",
       "            \n",
       "                color:  black;\n",
       "            \n",
       "                border-color:  black;\n",
       "            \n",
       "                cell-color:  black;\n",
       "            \n",
       "                background-color:  #ACA490;\n",
       "            \n",
       "            }\n",
       "        \n",
       "            #T_cc3a6e78_b254_11e6_be9f_52540071b085row0_col3 {\n",
       "            \n",
       "                font-family:  Dosis;\n",
       "            \n",
       "                head-color:  blue;\n",
       "            \n",
       "                color:  black;\n",
       "            \n",
       "                border-color:  black;\n",
       "            \n",
       "                cell-color:  black;\n",
       "            \n",
       "                background-color:  #ACA490;\n",
       "            \n",
       "            }\n",
       "        \n",
       "            #T_cc3a6e78_b254_11e6_be9f_52540071b085row0_col4 {\n",
       "            \n",
       "                font-family:  Dosis;\n",
       "            \n",
       "                head-color:  blue;\n",
       "            \n",
       "                color:  black;\n",
       "            \n",
       "                border-color:  black;\n",
       "            \n",
       "                cell-color:  black;\n",
       "            \n",
       "                background-color:  #ACA490;\n",
       "            \n",
       "            }\n",
       "        \n",
       "            #T_cc3a6e78_b254_11e6_be9f_52540071b085row0_col5 {\n",
       "            \n",
       "                font-family:  Dosis;\n",
       "            \n",
       "                head-color:  blue;\n",
       "            \n",
       "                color:  black;\n",
       "            \n",
       "                border-color:  black;\n",
       "            \n",
       "                cell-color:  black;\n",
       "            \n",
       "                background-color:  #ACA490;\n",
       "            \n",
       "            }\n",
       "        \n",
       "            #T_cc3a6e78_b254_11e6_be9f_52540071b085row0_col6 {\n",
       "            \n",
       "                font-family:  Dosis;\n",
       "            \n",
       "                head-color:  blue;\n",
       "            \n",
       "                color:  black;\n",
       "            \n",
       "                border-color:  black;\n",
       "            \n",
       "                cell-color:  black;\n",
       "            \n",
       "                background-color:  #ACA490;\n",
       "            \n",
       "            }\n",
       "        \n",
       "            #T_cc3a6e78_b254_11e6_be9f_52540071b085row1_col0 {\n",
       "            \n",
       "                font-family:  Dosis;\n",
       "            \n",
       "                head-color:  blue;\n",
       "            \n",
       "                color:  black;\n",
       "            \n",
       "                border-color:  black;\n",
       "            \n",
       "                cell-color:  black;\n",
       "            \n",
       "                background-color:  #ACA490;\n",
       "            \n",
       "            }\n",
       "        \n",
       "            #T_cc3a6e78_b254_11e6_be9f_52540071b085row1_col1 {\n",
       "            \n",
       "                font-family:  Dosis;\n",
       "            \n",
       "                head-color:  blue;\n",
       "            \n",
       "                color:  black;\n",
       "            \n",
       "                border-color:  black;\n",
       "            \n",
       "                cell-color:  black;\n",
       "            \n",
       "                background-color:  #ACA490;\n",
       "            \n",
       "            }\n",
       "        \n",
       "            #T_cc3a6e78_b254_11e6_be9f_52540071b085row1_col2 {\n",
       "            \n",
       "                font-family:  Dosis;\n",
       "            \n",
       "                head-color:  blue;\n",
       "            \n",
       "                color:  black;\n",
       "            \n",
       "                border-color:  black;\n",
       "            \n",
       "                cell-color:  black;\n",
       "            \n",
       "                background-color:  #ACA490;\n",
       "            \n",
       "            }\n",
       "        \n",
       "            #T_cc3a6e78_b254_11e6_be9f_52540071b085row1_col3 {\n",
       "            \n",
       "                font-family:  Dosis;\n",
       "            \n",
       "                head-color:  blue;\n",
       "            \n",
       "                color:  black;\n",
       "            \n",
       "                border-color:  black;\n",
       "            \n",
       "                cell-color:  black;\n",
       "            \n",
       "                background-color:  #ACA490;\n",
       "            \n",
       "            }\n",
       "        \n",
       "            #T_cc3a6e78_b254_11e6_be9f_52540071b085row1_col4 {\n",
       "            \n",
       "                font-family:  Dosis;\n",
       "            \n",
       "                head-color:  blue;\n",
       "            \n",
       "                color:  black;\n",
       "            \n",
       "                border-color:  black;\n",
       "            \n",
       "                cell-color:  black;\n",
       "            \n",
       "                background-color:  #ACA490;\n",
       "            \n",
       "            }\n",
       "        \n",
       "            #T_cc3a6e78_b254_11e6_be9f_52540071b085row1_col5 {\n",
       "            \n",
       "                font-family:  Dosis;\n",
       "            \n",
       "                head-color:  blue;\n",
       "            \n",
       "                color:  black;\n",
       "            \n",
       "                border-color:  black;\n",
       "            \n",
       "                cell-color:  black;\n",
       "            \n",
       "                background-color:  #ACA490;\n",
       "            \n",
       "            }\n",
       "        \n",
       "            #T_cc3a6e78_b254_11e6_be9f_52540071b085row1_col6 {\n",
       "            \n",
       "                font-family:  Dosis;\n",
       "            \n",
       "                head-color:  blue;\n",
       "            \n",
       "                color:  black;\n",
       "            \n",
       "                border-color:  black;\n",
       "            \n",
       "                cell-color:  black;\n",
       "            \n",
       "                background-color:  #ACA490;\n",
       "            \n",
       "            }\n",
       "        \n",
       "            #T_cc3a6e78_b254_11e6_be9f_52540071b085row2_col0 {\n",
       "            \n",
       "                font-family:  Dosis;\n",
       "            \n",
       "                head-color:  blue;\n",
       "            \n",
       "                color:  black;\n",
       "            \n",
       "                border-color:  black;\n",
       "            \n",
       "                cell-color:  black;\n",
       "            \n",
       "                background-color:  #ACA490;\n",
       "            \n",
       "            }\n",
       "        \n",
       "            #T_cc3a6e78_b254_11e6_be9f_52540071b085row2_col1 {\n",
       "            \n",
       "                font-family:  Dosis;\n",
       "            \n",
       "                head-color:  blue;\n",
       "            \n",
       "                color:  black;\n",
       "            \n",
       "                border-color:  black;\n",
       "            \n",
       "                cell-color:  black;\n",
       "            \n",
       "                background-color:  #ACA490;\n",
       "            \n",
       "            }\n",
       "        \n",
       "            #T_cc3a6e78_b254_11e6_be9f_52540071b085row2_col2 {\n",
       "            \n",
       "                font-family:  Dosis;\n",
       "            \n",
       "                head-color:  blue;\n",
       "            \n",
       "                color:  black;\n",
       "            \n",
       "                border-color:  black;\n",
       "            \n",
       "                cell-color:  black;\n",
       "            \n",
       "                background-color:  #ACA490;\n",
       "            \n",
       "            }\n",
       "        \n",
       "            #T_cc3a6e78_b254_11e6_be9f_52540071b085row2_col3 {\n",
       "            \n",
       "                font-family:  Dosis;\n",
       "            \n",
       "                head-color:  blue;\n",
       "            \n",
       "                color:  black;\n",
       "            \n",
       "                border-color:  black;\n",
       "            \n",
       "                cell-color:  black;\n",
       "            \n",
       "                background-color:  #ACA490;\n",
       "            \n",
       "            }\n",
       "        \n",
       "            #T_cc3a6e78_b254_11e6_be9f_52540071b085row2_col4 {\n",
       "            \n",
       "                font-family:  Dosis;\n",
       "            \n",
       "                head-color:  blue;\n",
       "            \n",
       "                color:  black;\n",
       "            \n",
       "                border-color:  black;\n",
       "            \n",
       "                cell-color:  black;\n",
       "            \n",
       "                background-color:  #ACA490;\n",
       "            \n",
       "            }\n",
       "        \n",
       "            #T_cc3a6e78_b254_11e6_be9f_52540071b085row2_col5 {\n",
       "            \n",
       "                font-family:  Dosis;\n",
       "            \n",
       "                head-color:  blue;\n",
       "            \n",
       "                color:  black;\n",
       "            \n",
       "                border-color:  black;\n",
       "            \n",
       "                cell-color:  black;\n",
       "            \n",
       "                background-color:  #ACA490;\n",
       "            \n",
       "            }\n",
       "        \n",
       "            #T_cc3a6e78_b254_11e6_be9f_52540071b085row2_col6 {\n",
       "            \n",
       "                font-family:  Dosis;\n",
       "            \n",
       "                head-color:  blue;\n",
       "            \n",
       "                color:  black;\n",
       "            \n",
       "                border-color:  black;\n",
       "            \n",
       "                cell-color:  black;\n",
       "            \n",
       "                background-color:  #ACA490;\n",
       "            \n",
       "            }\n",
       "        \n",
       "            #T_cc3a6e78_b254_11e6_be9f_52540071b085row3_col0 {\n",
       "            \n",
       "                font-family:  Dosis;\n",
       "            \n",
       "                head-color:  blue;\n",
       "            \n",
       "                color:  black;\n",
       "            \n",
       "                border-color:  black;\n",
       "            \n",
       "                cell-color:  black;\n",
       "            \n",
       "                background-color:  #ACA490;\n",
       "            \n",
       "            }\n",
       "        \n",
       "            #T_cc3a6e78_b254_11e6_be9f_52540071b085row3_col1 {\n",
       "            \n",
       "                font-family:  Dosis;\n",
       "            \n",
       "                head-color:  blue;\n",
       "            \n",
       "                color:  black;\n",
       "            \n",
       "                border-color:  black;\n",
       "            \n",
       "                cell-color:  black;\n",
       "            \n",
       "                background-color:  #ACA490;\n",
       "            \n",
       "            }\n",
       "        \n",
       "            #T_cc3a6e78_b254_11e6_be9f_52540071b085row3_col2 {\n",
       "            \n",
       "                font-family:  Dosis;\n",
       "            \n",
       "                head-color:  blue;\n",
       "            \n",
       "                color:  black;\n",
       "            \n",
       "                border-color:  black;\n",
       "            \n",
       "                cell-color:  black;\n",
       "            \n",
       "                background-color:  #ACA490;\n",
       "            \n",
       "            }\n",
       "        \n",
       "            #T_cc3a6e78_b254_11e6_be9f_52540071b085row3_col3 {\n",
       "            \n",
       "                font-family:  Dosis;\n",
       "            \n",
       "                head-color:  blue;\n",
       "            \n",
       "                color:  black;\n",
       "            \n",
       "                border-color:  black;\n",
       "            \n",
       "                cell-color:  black;\n",
       "            \n",
       "                background-color:  #ACA490;\n",
       "            \n",
       "            }\n",
       "        \n",
       "            #T_cc3a6e78_b254_11e6_be9f_52540071b085row3_col4 {\n",
       "            \n",
       "                font-family:  Dosis;\n",
       "            \n",
       "                head-color:  blue;\n",
       "            \n",
       "                color:  black;\n",
       "            \n",
       "                border-color:  black;\n",
       "            \n",
       "                cell-color:  black;\n",
       "            \n",
       "                background-color:  #ACA490;\n",
       "            \n",
       "            }\n",
       "        \n",
       "            #T_cc3a6e78_b254_11e6_be9f_52540071b085row3_col5 {\n",
       "            \n",
       "                font-family:  Dosis;\n",
       "            \n",
       "                head-color:  blue;\n",
       "            \n",
       "                color:  black;\n",
       "            \n",
       "                border-color:  black;\n",
       "            \n",
       "                cell-color:  black;\n",
       "            \n",
       "                background-color:  #ACA490;\n",
       "            \n",
       "            }\n",
       "        \n",
       "            #T_cc3a6e78_b254_11e6_be9f_52540071b085row3_col6 {\n",
       "            \n",
       "                font-family:  Dosis;\n",
       "            \n",
       "                head-color:  blue;\n",
       "            \n",
       "                color:  black;\n",
       "            \n",
       "                border-color:  black;\n",
       "            \n",
       "                cell-color:  black;\n",
       "            \n",
       "                background-color:  #ACA490;\n",
       "            \n",
       "            }\n",
       "        \n",
       "        </style>\n",
       "\n",
       "        <table id=\"T_cc3a6e78_b254_11e6_be9f_52540071b085\" None>\n",
       "        \n",
       "\n",
       "        <thead>\n",
       "            \n",
       "            <tr>\n",
       "                \n",
       "                \n",
       "                <th class=\"blank level0\" >\n",
       "                  \n",
       "                \n",
       "                \n",
       "                \n",
       "                <th class=\"col_heading level0 col0\" colspan=1>\n",
       "                  Holder Location\n",
       "                \n",
       "                \n",
       "                \n",
       "                <th class=\"col_heading level0 col1\" colspan=1>\n",
       "                  Site Location\n",
       "                \n",
       "                \n",
       "                \n",
       "                <th class=\"col_heading level0 col2\" colspan=1>\n",
       "                  Dating\n",
       "                \n",
       "                \n",
       "                \n",
       "                <th class=\"col_heading level0 col3\" colspan=1>\n",
       "                  ObjID\n",
       "                \n",
       "                \n",
       "                \n",
       "                <th class=\"col_heading level0 col4\" colspan=1>\n",
       "                  Corpus Shape ID\n",
       "                \n",
       "                \n",
       "                \n",
       "                <th class=\"col_heading level0 col5\" colspan=1>\n",
       "                  Corpus Shape Certainty\n",
       "                \n",
       "                \n",
       "                \n",
       "                <th class=\"col_heading level0 col6\" colspan=1>\n",
       "                  Link\n",
       "                \n",
       "                \n",
       "            </tr>\n",
       "            \n",
       "        </thead>\n",
       "        <tbody>\n",
       "            \n",
       "            <tr>\n",
       "                \n",
       "                \n",
       "                <th id=\"T_cc3a6e78_b254_11e6_be9f_52540071b085\"\n",
       "                 class=\"row_heading level0 row0\" rowspan=1>\n",
       "                    59\n",
       "                \n",
       "                \n",
       "                \n",
       "                <td id=\"T_cc3a6e78_b254_11e6_be9f_52540071b085row0_col0\"\n",
       "                 class=\"data row0 col0\" >\n",
       "                    London\n",
       "                \n",
       "                \n",
       "                \n",
       "                <td id=\"T_cc3a6e78_b254_11e6_be9f_52540071b085row0_col1\"\n",
       "                 class=\"data row0 col1\" >\n",
       "                    unknown\n",
       "                \n",
       "                \n",
       "                \n",
       "                <td id=\"T_cc3a6e78_b254_11e6_be9f_52540071b085row0_col2\"\n",
       "                 class=\"data row0 col2\" >\n",
       "                    1st cent. CE - 2nd cent. CE\n",
       "                \n",
       "                \n",
       "                \n",
       "                <td id=\"T_cc3a6e78_b254_11e6_be9f_52540071b085row0_col3\"\n",
       "                 class=\"data row0 col3\" >\n",
       "                    60\n",
       "                \n",
       "                \n",
       "                \n",
       "                <td id=\"T_cc3a6e78_b254_11e6_be9f_52540071b085row0_col4\"\n",
       "                 class=\"data row0 col4\" >\n",
       "                    6\n",
       "                \n",
       "                \n",
       "                \n",
       "                <td id=\"T_cc3a6e78_b254_11e6_be9f_52540071b085row0_col5\"\n",
       "                 class=\"data row0 col5\" >\n",
       "                    certain\n",
       "                \n",
       "                \n",
       "                \n",
       "                <td id=\"T_cc3a6e78_b254_11e6_be9f_52540071b085row0_col6\"\n",
       "                 class=\"data row0 col6\" >\n",
       "                    <a href=\"http://repository.edition-topoi.org/collection/BSDP/object/57.0\" target=\"_blank\">Edition-Topoi.org</a>\n",
       "                \n",
       "                \n",
       "            </tr>\n",
       "            \n",
       "            <tr>\n",
       "                \n",
       "                \n",
       "                <th id=\"T_cc3a6e78_b254_11e6_be9f_52540071b085\"\n",
       "                 class=\"row_heading level0 row1\" rowspan=1>\n",
       "                    63\n",
       "                \n",
       "                \n",
       "                \n",
       "                <td id=\"T_cc3a6e78_b254_11e6_be9f_52540071b085row1_col0\"\n",
       "                 class=\"data row1 col0\" >\n",
       "                    Varna\n",
       "                \n",
       "                \n",
       "                \n",
       "                <td id=\"T_cc3a6e78_b254_11e6_be9f_52540071b085row1_col1\"\n",
       "                 class=\"data row1 col1\" >\n",
       "                    Reka Devnia\n",
       "                \n",
       "                \n",
       "                \n",
       "                <td id=\"T_cc3a6e78_b254_11e6_be9f_52540071b085row1_col2\"\n",
       "                 class=\"data row1 col2\" >\n",
       "                    nan\n",
       "                \n",
       "                \n",
       "                \n",
       "                <td id=\"T_cc3a6e78_b254_11e6_be9f_52540071b085row1_col3\"\n",
       "                 class=\"data row1 col3\" >\n",
       "                    64\n",
       "                \n",
       "                \n",
       "                \n",
       "                <td id=\"T_cc3a6e78_b254_11e6_be9f_52540071b085row1_col4\"\n",
       "                 class=\"data row1 col4\" >\n",
       "                    6\n",
       "                \n",
       "                \n",
       "                \n",
       "                <td id=\"T_cc3a6e78_b254_11e6_be9f_52540071b085row1_col5\"\n",
       "                 class=\"data row1 col5\" >\n",
       "                    certain\n",
       "                \n",
       "                \n",
       "                \n",
       "                <td id=\"T_cc3a6e78_b254_11e6_be9f_52540071b085row1_col6\"\n",
       "                 class=\"data row1 col6\" >\n",
       "                    <a href=\"http://repository.edition-topoi.org/collection/BSDP/object/61.0\" target=\"_blank\">Edition-Topoi.org</a>\n",
       "                \n",
       "                \n",
       "            </tr>\n",
       "            \n",
       "            <tr>\n",
       "                \n",
       "                \n",
       "                <th id=\"T_cc3a6e78_b254_11e6_be9f_52540071b085\"\n",
       "                 class=\"row_heading level0 row2\" rowspan=1>\n",
       "                    174\n",
       "                \n",
       "                \n",
       "                \n",
       "                <td id=\"T_cc3a6e78_b254_11e6_be9f_52540071b085row2_col0\"\n",
       "                 class=\"data row2 col0\" >\n",
       "                    Napoli\n",
       "                \n",
       "                \n",
       "                \n",
       "                <td id=\"T_cc3a6e78_b254_11e6_be9f_52540071b085row2_col1\"\n",
       "                 class=\"data row2 col1\" >\n",
       "                    Pompei\n",
       "                \n",
       "                \n",
       "                \n",
       "                <td id=\"T_cc3a6e78_b254_11e6_be9f_52540071b085row2_col2\"\n",
       "                 class=\"data row2 col2\" >\n",
       "                    nan\n",
       "                \n",
       "                \n",
       "                \n",
       "                <td id=\"T_cc3a6e78_b254_11e6_be9f_52540071b085row2_col3\"\n",
       "                 class=\"data row2 col3\" >\n",
       "                    175\n",
       "                \n",
       "                \n",
       "                \n",
       "                <td id=\"T_cc3a6e78_b254_11e6_be9f_52540071b085row2_col4\"\n",
       "                 class=\"data row2 col4\" >\n",
       "                    6\n",
       "                \n",
       "                \n",
       "                \n",
       "                <td id=\"T_cc3a6e78_b254_11e6_be9f_52540071b085row2_col5\"\n",
       "                 class=\"data row2 col5\" >\n",
       "                    certain\n",
       "                \n",
       "                \n",
       "                \n",
       "                <td id=\"T_cc3a6e78_b254_11e6_be9f_52540071b085row2_col6\"\n",
       "                 class=\"data row2 col6\" >\n",
       "                    <a href=\"http://repository.edition-topoi.org/collection/BSDP/object/174.0\" target=\"_blank\">Edition-Topoi.org</a>\n",
       "                \n",
       "                \n",
       "            </tr>\n",
       "            \n",
       "            <tr>\n",
       "                \n",
       "                \n",
       "                <th id=\"T_cc3a6e78_b254_11e6_be9f_52540071b085\"\n",
       "                 class=\"row_heading level0 row3\" rowspan=1>\n",
       "                    220\n",
       "                \n",
       "                \n",
       "                \n",
       "                <td id=\"T_cc3a6e78_b254_11e6_be9f_52540071b085row3_col0\"\n",
       "                 class=\"data row3 col0\" >\n",
       "                    Athens\n",
       "                \n",
       "                \n",
       "                \n",
       "                <td id=\"T_cc3a6e78_b254_11e6_be9f_52540071b085row3_col1\"\n",
       "                 class=\"data row3 col1\" >\n",
       "                    unknown\n",
       "                \n",
       "                \n",
       "                \n",
       "                <td id=\"T_cc3a6e78_b254_11e6_be9f_52540071b085row3_col2\"\n",
       "                 class=\"data row3 col2\" >\n",
       "                    Roman\n",
       "                \n",
       "                \n",
       "                \n",
       "                <td id=\"T_cc3a6e78_b254_11e6_be9f_52540071b085row3_col3\"\n",
       "                 class=\"data row3 col3\" >\n",
       "                    222\n",
       "                \n",
       "                \n",
       "                \n",
       "                <td id=\"T_cc3a6e78_b254_11e6_be9f_52540071b085row3_col4\"\n",
       "                 class=\"data row3 col4\" >\n",
       "                    6\n",
       "                \n",
       "                \n",
       "                \n",
       "                <td id=\"T_cc3a6e78_b254_11e6_be9f_52540071b085row3_col5\"\n",
       "                 class=\"data row3 col5\" >\n",
       "                    uncertain\n",
       "                \n",
       "                \n",
       "                \n",
       "                <td id=\"T_cc3a6e78_b254_11e6_be9f_52540071b085row3_col6\"\n",
       "                 class=\"data row3 col6\" >\n",
       "                    <a href=\"http://repository.edition-topoi.org/collection/BSDP/object/220.0\" target=\"_blank\">Edition-Topoi.org</a>\n",
       "                \n",
       "                \n",
       "            </tr>\n",
       "            \n",
       "        </tbody>\n",
       "        </table>\n",
       "        "
      ],
      "text/plain": [
       "<pandas.formats.style.Styler at 0x7f337f21e908>"
      ]
     },
     "metadata": {},
     "output_type": "display_data"
    }
   ],
   "source": [
    "# Widget Button\n",
    "display(button)"
   ]
  }
 ],
 "metadata": {
  "anaconda-cloud": {},
  "extensions": {
   "jupyter_dashboards": {
    "activeView": "grid_default",
    "version": 1,
    "views": {
     "grid_default": {
      "cellMargin": 10,
      "defaultCellHeight": 20,
      "maxColumns": 12,
      "name": "grid",
      "type": "grid"
     },
     "report_default": {
      "name": "report",
      "type": "report"
     }
    }
   }
  },
  "kernelspec": {
   "display_name": "Python 3",
   "language": "python",
   "name": "python3"
  },
  "language_info": {
   "codemirror_mode": {
    "name": "ipython",
    "version": 3
   },
   "file_extension": ".py",
   "mimetype": "text/x-python",
   "name": "python",
   "nbconvert_exporter": "python",
   "pygments_lexer": "ipython3",
   "version": "3.5.2"
  },
  "latex_envs": {
   "bibliofile": "biblio.bib",
   "cite_by": "apalike",
   "current_citInitial": 1,
   "eqLabelWithNumbers": true,
   "eqNumInitial": 0
  },
  "nav_menu": {},
  "toc": {
   "navigate_menu": true,
   "number_sections": true,
   "sideBar": true,
   "threshold": 6,
   "toc_cell": false,
   "toc_section_display": "block",
   "toc_window_display": false
  }
 },
 "nbformat": 4,
 "nbformat_minor": 0
}

{
 "cells": [
  {
   "cell_type": "markdown",
   "metadata": {},
   "source": [
    "# Wissenschaftstheoretische Aspekte der Digital Humanities\n",
    "\n",
    " "
   ]
  },
  {
   "cell_type": "markdown",
   "metadata": {},
   "source": [
    "Die Notebooks zu den jeweiligen Vorlesungen können in einer gestarteten Binder-Instanz unter folgenden Links bearbeitet werden. \n",
    "\n",
    "Die Instanzen werden nach einer Stunde ohne Aktivität wieder gelöscht. Änderungen müssen daher auf dem eigenen Rechner, USB-Stick, Google Driver o.ä. gespeichert werden. Dazu im obigen Menü (nur sichtbar in der Binder-Umgebung) *File* auswählen, dann *Download as* und *Notebook*. \n",
    "\n",
    "Die gespeicherten Notebooks können später wieder in einer neuen Instanz hochgeladen und bearbeitet werden. Dazu im *File* Menü auf *Open* klicken und in dem sich öffnenden Browserfenster auf den Knopf *Upload* drücken.\n"
   ]
  },
  {
   "cell_type": "markdown",
   "metadata": {},
   "source": [
    "[Vorlesung 1](./Notebooks/CHVorl1.ipynb) "
   ]
  },
  {
   "cell_type": "markdown",
   "metadata": {},
   "source": [
    "[Vorlesung 2](./Notebooks/CHVorl2.ipynb) "
   ]
  }
 ],
 "metadata": {
  "anaconda-cloud": {},
  "kernelspec": {
   "display_name": "Python 3",
   "language": "python",
   "name": "python3"
  },
  "language_info": {
   "codemirror_mode": {
    "name": "ipython",
    "version": 3
   },
   "file_extension": ".py",
   "mimetype": "text/x-python",
   "name": "python",
   "nbconvert_exporter": "python",
   "pygments_lexer": "ipython3",
   "version": "3.5.2"
  },
  "latex_envs": {
   "bibliofile": "biblio.bib",
   "cite_by": "apalike",
   "current_citInitial": 1,
   "eqLabelWithNumbers": true,
   "eqNumInitial": 0
  },
  "nav_menu": {},
  "toc": {
   "navigate_menu": true,
   "number_sections": true,
   "sideBar": true,
   "threshold": 6,
   "toc_cell": false,
   "toc_section_display": "block",
   "toc_window_display": false
  }
 },
 "nbformat": 4,
 "nbformat_minor": 0
}
